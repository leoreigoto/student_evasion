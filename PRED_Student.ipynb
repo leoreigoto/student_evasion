{
 "cells": [
  {
   "cell_type": "code",
   "execution_count": 1,
   "metadata": {
    "_cell_guid": "b1076dfc-b9ad-4769-8c92-a6c4dae69d19",
    "_uuid": "8f2839f25d086af736a60e9eeb907d3b93b6e0e5",
    "execution": {
     "iopub.execute_input": "2023-07-18T17:41:52.178127Z",
     "iopub.status.busy": "2023-07-18T17:41:52.177443Z",
     "iopub.status.idle": "2023-07-18T17:41:52.187919Z",
     "shell.execute_reply": "2023-07-18T17:41:52.186444Z",
     "shell.execute_reply.started": "2023-07-18T17:41:52.178078Z"
    },
    "scrolled": true
   },
   "outputs": [],
   "source": [
    "import pandas as pd\n",
    "import matplotlib.pyplot as plt\n",
    "import seaborn as sns\n",
    "import numpy as np\n",
    "import joblib\n",
    "from sklearn.model_selection import train_test_split\n",
    "from sklearn.metrics import confusion_matrix,classification_report,accuracy_score,ConfusionMatrixDisplay\n",
    "from imblearn.over_sampling import SMOTE\n",
    "from collections import Counter\n",
    "from sklearn.preprocessing import OneHotEncoder\n",
    "from sklearn import svm\n",
    "from sklearn.preprocessing import StandardScaler\n",
    "from sklearn.model_selection import cross_val_score\n",
    "from sklearn.model_selection import GridSearchCV\n",
    "from imblearn.pipeline import make_pipeline\n",
    "from sklearn.calibration import CalibratedClassifierCV"
   ]
  },
  {
   "cell_type": "code",
   "execution_count": 2,
   "metadata": {
    "execution": {
     "iopub.execute_input": "2023-07-18T17:41:52.190424Z",
     "iopub.status.busy": "2023-07-18T17:41:52.190082Z",
     "iopub.status.idle": "2023-07-18T17:41:52.200739Z",
     "shell.execute_reply": "2023-07-18T17:41:52.199529Z",
     "shell.execute_reply.started": "2023-07-18T17:41:52.190394Z"
    }
   },
   "outputs": [],
   "source": [
    "def analise_categoricos(parametro,base='evadiu_2sem'):\n",
    "    figsize=(5,5)\n",
    "    print(df[parametro].value_counts())\n",
    "    print('nulls: ',df[parametro].isnull().sum())\n",
    "    sns.catplot(data=df,kind='count',x=base,col=parametro)\n",
    "    tab=pd.crosstab(columns=[df[base]],index=[df[parametro]],margins=True,normalize='index')\n",
    "    display(tab)"
   ]
  },
  {
   "cell_type": "code",
   "execution_count": 3,
   "metadata": {
    "execution": {
     "iopub.execute_input": "2023-07-18T17:41:52.202873Z",
     "iopub.status.busy": "2023-07-18T17:41:52.202488Z",
     "iopub.status.idle": "2023-07-18T17:41:52.219490Z",
     "shell.execute_reply": "2023-07-18T17:41:52.218284Z",
     "shell.execute_reply.started": "2023-07-18T17:41:52.202842Z"
    }
   },
   "outputs": [],
   "source": [
    "def grid_hyper(clf,X_train,y_train,X_test,y_test, parameters):\n",
    "    search = GridSearchCV(clf, parameters,verbose=True, n_jobs=-1, cv=5)\n",
    "    search.fit(X_train,y_train)\n",
    "    y_hat = search.predict(X_test)\n",
    "    print (\"Accuracy Score = %3.2f\" %(search.score(X_test,y_test)))\n",
    "    print (search.best_params_)\n"
   ]
  },
  {
   "cell_type": "code",
   "execution_count": 4,
   "metadata": {
    "execution": {
     "iopub.execute_input": "2023-07-18T17:41:52.221578Z",
     "iopub.status.busy": "2023-07-18T17:41:52.221238Z",
     "iopub.status.idle": "2023-07-18T17:41:52.231672Z",
     "shell.execute_reply": "2023-07-18T17:41:52.230808Z",
     "shell.execute_reply.started": "2023-07-18T17:41:52.221530Z"
    }
   },
   "outputs": [],
   "source": [
    "def plot_coefficients(classifier, feature_names, top_features=17):\n",
    " coef = classifier.coef_.ravel()\n",
    " top_positive_coefficients = np.argsort(coef)[-top_features:]\n",
    " top_negative_coefficients = np.argsort(coef)[:top_features]\n",
    " top_coefficients = np.hstack([top_negative_coefficients, top_positive_coefficients])\n",
    " # criar plot\n",
    " plt.figure(figsize=(15, 5))\n",
    " colors = ['black' if c < 0 else 'black' for c in coef[top_coefficients]]\n",
    " plt.bar(np.arange(2 * top_features), coef[top_coefficients], color=colors)\n",
    " feature_names = np.array(feature_names)\n",
    " plt.xticks(np.arange(0, 0 + 2 * top_features), feature_names[top_coefficients], rotation=60, ha='right')\n",
    " plt.show()"
   ]
  },
  {
   "cell_type": "code",
   "execution_count": 5,
   "metadata": {
    "execution": {
     "iopub.execute_input": "2023-07-18T17:41:52.234778Z",
     "iopub.status.busy": "2023-07-18T17:41:52.234424Z",
     "iopub.status.idle": "2023-07-18T17:41:55.857837Z",
     "shell.execute_reply": "2023-07-18T17:41:55.856614Z",
     "shell.execute_reply.started": "2023-07-18T17:41:52.234748Z"
    }
   },
   "outputs": [],
   "source": [
    "df=pd.read_excel('Student_Applications_Performance.xlsx')"
   ]
  },
  {
   "cell_type": "code",
   "execution_count": 6,
   "metadata": {
    "execution": {
     "iopub.execute_input": "2023-07-18T17:41:55.860512Z",
     "iopub.status.busy": "2023-07-18T17:41:55.859465Z",
     "iopub.status.idle": "2023-07-18T17:41:55.900115Z",
     "shell.execute_reply": "2023-07-18T17:41:55.898950Z",
     "shell.execute_reply.started": "2023-07-18T17:41:55.860466Z"
    },
    "scrolled": true
   },
   "outputs": [
    {
     "data": {
      "text/html": [
       "<div>\n",
       "<style scoped>\n",
       "    .dataframe tbody tr th:only-of-type {\n",
       "        vertical-align: middle;\n",
       "    }\n",
       "\n",
       "    .dataframe tbody tr th {\n",
       "        vertical-align: top;\n",
       "    }\n",
       "\n",
       "    .dataframe thead th {\n",
       "        text-align: right;\n",
       "    }\n",
       "</style>\n",
       "<table border=\"1\" class=\"dataframe\">\n",
       "  <thead>\n",
       "    <tr style=\"text-align: right;\">\n",
       "      <th></th>\n",
       "      <th>STUDENT IDENTIFIER</th>\n",
       "      <th>STDNT_AGE</th>\n",
       "      <th>STDNT_GENDER</th>\n",
       "      <th>STDNT_BACKGROUND</th>\n",
       "      <th>IN_STATE_FLAG</th>\n",
       "      <th>INTERNATIONAL_STS</th>\n",
       "      <th>STDNT_MAJOR</th>\n",
       "      <th>STDNT_MINOR</th>\n",
       "      <th>STDNT_TEST_ENTRANCE1</th>\n",
       "      <th>STDNT_TEST_ENTRANCE2</th>\n",
       "      <th>...</th>\n",
       "      <th>DEGREE_GROUP_CD</th>\n",
       "      <th>DEGREE_GROUP_DESC</th>\n",
       "      <th>FIRST_TERM_ATTEMPT_HRS</th>\n",
       "      <th>FIRST_TERM_EARNED_HRS</th>\n",
       "      <th>SECOND_TERM_ATTEMPT_HRS</th>\n",
       "      <th>SECOND_TERM_EARNED_HRS</th>\n",
       "      <th>GROSS_FIN_NEED</th>\n",
       "      <th>COST_OF_ATTEND</th>\n",
       "      <th>EST_FAM_CONTRIBUTION</th>\n",
       "      <th>UNMET_NEED</th>\n",
       "    </tr>\n",
       "  </thead>\n",
       "  <tbody>\n",
       "    <tr>\n",
       "      <th>0</th>\n",
       "      <td>7808615</td>\n",
       "      <td>18</td>\n",
       "      <td>F</td>\n",
       "      <td>BGD 1</td>\n",
       "      <td>Y</td>\n",
       "      <td>N</td>\n",
       "      <td>Undeclared</td>\n",
       "      <td>N</td>\n",
       "      <td>NaN</td>\n",
       "      <td>1150.0</td>\n",
       "      <td>...</td>\n",
       "      <td>B</td>\n",
       "      <td>Bachelors</td>\n",
       "      <td>16</td>\n",
       "      <td>16</td>\n",
       "      <td>14.0</td>\n",
       "      <td>14.0</td>\n",
       "      <td>0</td>\n",
       "      <td>0</td>\n",
       "      <td>0</td>\n",
       "      <td>0.0</td>\n",
       "    </tr>\n",
       "    <tr>\n",
       "      <th>1</th>\n",
       "      <td>7830063</td>\n",
       "      <td>19</td>\n",
       "      <td>F</td>\n",
       "      <td>BGD 1</td>\n",
       "      <td>N</td>\n",
       "      <td>N</td>\n",
       "      <td>Undeclared</td>\n",
       "      <td>N</td>\n",
       "      <td>26.0</td>\n",
       "      <td>NaN</td>\n",
       "      <td>...</td>\n",
       "      <td>B</td>\n",
       "      <td>Bachelors</td>\n",
       "      <td>18</td>\n",
       "      <td>18</td>\n",
       "      <td>18.0</td>\n",
       "      <td>18.0</td>\n",
       "      <td>570000</td>\n",
       "      <td>1355760</td>\n",
       "      <td>785760</td>\n",
       "      <td>459300.0</td>\n",
       "    </tr>\n",
       "    <tr>\n",
       "      <th>2</th>\n",
       "      <td>7847538</td>\n",
       "      <td>18</td>\n",
       "      <td>M</td>\n",
       "      <td>BGD 1</td>\n",
       "      <td>Y</td>\n",
       "      <td>N</td>\n",
       "      <td>Mathematics</td>\n",
       "      <td>N</td>\n",
       "      <td>NaN</td>\n",
       "      <td>1020.0</td>\n",
       "      <td>...</td>\n",
       "      <td>B</td>\n",
       "      <td>Bachelors</td>\n",
       "      <td>15</td>\n",
       "      <td>15</td>\n",
       "      <td>14.0</td>\n",
       "      <td>14.0</td>\n",
       "      <td>0</td>\n",
       "      <td>0</td>\n",
       "      <td>0</td>\n",
       "      <td>0.0</td>\n",
       "    </tr>\n",
       "    <tr>\n",
       "      <th>3</th>\n",
       "      <td>8006429</td>\n",
       "      <td>18</td>\n",
       "      <td>M</td>\n",
       "      <td>BGD 1</td>\n",
       "      <td>Y</td>\n",
       "      <td>N</td>\n",
       "      <td>Undeclared</td>\n",
       "      <td>N</td>\n",
       "      <td>NaN</td>\n",
       "      <td>1210.0</td>\n",
       "      <td>...</td>\n",
       "      <td>B</td>\n",
       "      <td>Bachelors</td>\n",
       "      <td>13</td>\n",
       "      <td>13</td>\n",
       "      <td>14.0</td>\n",
       "      <td>14.0</td>\n",
       "      <td>0</td>\n",
       "      <td>0</td>\n",
       "      <td>0</td>\n",
       "      <td>0.0</td>\n",
       "    </tr>\n",
       "    <tr>\n",
       "      <th>4</th>\n",
       "      <td>7962680</td>\n",
       "      <td>18</td>\n",
       "      <td>F</td>\n",
       "      <td>BGD 1</td>\n",
       "      <td>Y</td>\n",
       "      <td>N</td>\n",
       "      <td>Art</td>\n",
       "      <td>N</td>\n",
       "      <td>NaN</td>\n",
       "      <td>1200.0</td>\n",
       "      <td>...</td>\n",
       "      <td>B</td>\n",
       "      <td>Bachelors</td>\n",
       "      <td>12</td>\n",
       "      <td>12</td>\n",
       "      <td>12.0</td>\n",
       "      <td>12.0</td>\n",
       "      <td>835920</td>\n",
       "      <td>1355760</td>\n",
       "      <td>519840</td>\n",
       "      <td>278340.0</td>\n",
       "    </tr>\n",
       "    <tr>\n",
       "      <th>...</th>\n",
       "      <td>...</td>\n",
       "      <td>...</td>\n",
       "      <td>...</td>\n",
       "      <td>...</td>\n",
       "      <td>...</td>\n",
       "      <td>...</td>\n",
       "      <td>...</td>\n",
       "      <td>...</td>\n",
       "      <td>...</td>\n",
       "      <td>...</td>\n",
       "      <td>...</td>\n",
       "      <td>...</td>\n",
       "      <td>...</td>\n",
       "      <td>...</td>\n",
       "      <td>...</td>\n",
       "      <td>...</td>\n",
       "      <td>...</td>\n",
       "      <td>...</td>\n",
       "      <td>...</td>\n",
       "      <td>...</td>\n",
       "      <td>...</td>\n",
       "    </tr>\n",
       "    <tr>\n",
       "      <th>3395</th>\n",
       "      <td>7948112</td>\n",
       "      <td>18</td>\n",
       "      <td>F</td>\n",
       "      <td>BGD 4</td>\n",
       "      <td>N</td>\n",
       "      <td>N</td>\n",
       "      <td>Music Performance</td>\n",
       "      <td>N</td>\n",
       "      <td>NaN</td>\n",
       "      <td>800.0</td>\n",
       "      <td>...</td>\n",
       "      <td>B</td>\n",
       "      <td>Bachelors</td>\n",
       "      <td>18</td>\n",
       "      <td>18</td>\n",
       "      <td>16.0</td>\n",
       "      <td>13.0</td>\n",
       "      <td>0</td>\n",
       "      <td>0</td>\n",
       "      <td>0</td>\n",
       "      <td>0.0</td>\n",
       "    </tr>\n",
       "    <tr>\n",
       "      <th>3396</th>\n",
       "      <td>8023055</td>\n",
       "      <td>18</td>\n",
       "      <td>F</td>\n",
       "      <td>BGD 1</td>\n",
       "      <td>Y</td>\n",
       "      <td>N</td>\n",
       "      <td>Biology</td>\n",
       "      <td>N</td>\n",
       "      <td>20.0</td>\n",
       "      <td>NaN</td>\n",
       "      <td>...</td>\n",
       "      <td>B</td>\n",
       "      <td>Bachelors</td>\n",
       "      <td>13</td>\n",
       "      <td>9</td>\n",
       "      <td>NaN</td>\n",
       "      <td>NaN</td>\n",
       "      <td>0</td>\n",
       "      <td>0</td>\n",
       "      <td>0</td>\n",
       "      <td>0.0</td>\n",
       "    </tr>\n",
       "    <tr>\n",
       "      <th>3397</th>\n",
       "      <td>7926915</td>\n",
       "      <td>18</td>\n",
       "      <td>F</td>\n",
       "      <td>BGD 4</td>\n",
       "      <td>Y</td>\n",
       "      <td>N</td>\n",
       "      <td>Biology</td>\n",
       "      <td>N</td>\n",
       "      <td>NaN</td>\n",
       "      <td>1020.0</td>\n",
       "      <td>...</td>\n",
       "      <td>B</td>\n",
       "      <td>Bachelors</td>\n",
       "      <td>14</td>\n",
       "      <td>6</td>\n",
       "      <td>NaN</td>\n",
       "      <td>NaN</td>\n",
       "      <td>0</td>\n",
       "      <td>945840</td>\n",
       "      <td>1288980</td>\n",
       "      <td>0.0</td>\n",
       "    </tr>\n",
       "    <tr>\n",
       "      <th>3398</th>\n",
       "      <td>7877332</td>\n",
       "      <td>18</td>\n",
       "      <td>F</td>\n",
       "      <td>BGD 3</td>\n",
       "      <td>Y</td>\n",
       "      <td>N</td>\n",
       "      <td>Joint Enrollment - Accel</td>\n",
       "      <td>N</td>\n",
       "      <td>21.0</td>\n",
       "      <td>NaN</td>\n",
       "      <td>...</td>\n",
       "      <td>B</td>\n",
       "      <td>Bachelors</td>\n",
       "      <td>12</td>\n",
       "      <td>9</td>\n",
       "      <td>NaN</td>\n",
       "      <td>NaN</td>\n",
       "      <td>0</td>\n",
       "      <td>269100</td>\n",
       "      <td>0</td>\n",
       "      <td>-231720.0</td>\n",
       "    </tr>\n",
       "    <tr>\n",
       "      <th>3399</th>\n",
       "      <td>7928405</td>\n",
       "      <td>18</td>\n",
       "      <td>M</td>\n",
       "      <td>BGD 2</td>\n",
       "      <td>Y</td>\n",
       "      <td>N</td>\n",
       "      <td>Art</td>\n",
       "      <td>Creative Writing</td>\n",
       "      <td>NaN</td>\n",
       "      <td>890.0</td>\n",
       "      <td>...</td>\n",
       "      <td>B</td>\n",
       "      <td>Bachelors</td>\n",
       "      <td>12</td>\n",
       "      <td>9</td>\n",
       "      <td>13.0</td>\n",
       "      <td>6.0</td>\n",
       "      <td>0</td>\n",
       "      <td>0</td>\n",
       "      <td>0</td>\n",
       "      <td>0.0</td>\n",
       "    </tr>\n",
       "  </tbody>\n",
       "</table>\n",
       "<p>3400 rows × 56 columns</p>\n",
       "</div>"
      ],
      "text/plain": [
       "      STUDENT IDENTIFIER  STDNT_AGE STDNT_GENDER STDNT_BACKGROUND  \\\n",
       "0                7808615         18            F            BGD 1   \n",
       "1                7830063         19            F            BGD 1   \n",
       "2                7847538         18            M            BGD 1   \n",
       "3                8006429         18            M            BGD 1   \n",
       "4                7962680         18            F            BGD 1   \n",
       "...                  ...        ...          ...              ...   \n",
       "3395             7948112         18            F            BGD 4   \n",
       "3396             8023055         18            F            BGD 1   \n",
       "3397             7926915         18            F            BGD 4   \n",
       "3398             7877332         18            F            BGD 3   \n",
       "3399             7928405         18            M            BGD 2   \n",
       "\n",
       "     IN_STATE_FLAG INTERNATIONAL_STS               STDNT_MAJOR  \\\n",
       "0                Y                 N                Undeclared   \n",
       "1                N                 N                Undeclared   \n",
       "2                Y                 N               Mathematics   \n",
       "3                Y                 N                Undeclared   \n",
       "4                Y                 N                       Art   \n",
       "...            ...               ...                       ...   \n",
       "3395             N                 N         Music Performance   \n",
       "3396             Y                 N                   Biology   \n",
       "3397             Y                 N                   Biology   \n",
       "3398             Y                 N  Joint Enrollment - Accel   \n",
       "3399             Y                 N                       Art   \n",
       "\n",
       "           STDNT_MINOR  STDNT_TEST_ENTRANCE1  STDNT_TEST_ENTRANCE2  ...  \\\n",
       "0                    N                   NaN                1150.0  ...   \n",
       "1                    N                  26.0                   NaN  ...   \n",
       "2                    N                   NaN                1020.0  ...   \n",
       "3                    N                   NaN                1210.0  ...   \n",
       "4                    N                   NaN                1200.0  ...   \n",
       "...                ...                   ...                   ...  ...   \n",
       "3395                 N                   NaN                 800.0  ...   \n",
       "3396                 N                  20.0                   NaN  ...   \n",
       "3397                 N                   NaN                1020.0  ...   \n",
       "3398                 N                  21.0                   NaN  ...   \n",
       "3399  Creative Writing                   NaN                 890.0  ...   \n",
       "\n",
       "      DEGREE_GROUP_CD  DEGREE_GROUP_DESC FIRST_TERM_ATTEMPT_HRS  \\\n",
       "0                   B          Bachelors                     16   \n",
       "1                   B          Bachelors                     18   \n",
       "2                   B          Bachelors                     15   \n",
       "3                   B          Bachelors                     13   \n",
       "4                   B          Bachelors                     12   \n",
       "...               ...                ...                    ...   \n",
       "3395                B          Bachelors                     18   \n",
       "3396                B          Bachelors                     13   \n",
       "3397                B          Bachelors                     14   \n",
       "3398                B          Bachelors                     12   \n",
       "3399                B          Bachelors                     12   \n",
       "\n",
       "     FIRST_TERM_EARNED_HRS SECOND_TERM_ATTEMPT_HRS SECOND_TERM_EARNED_HRS  \\\n",
       "0                       16                    14.0                   14.0   \n",
       "1                       18                    18.0                   18.0   \n",
       "2                       15                    14.0                   14.0   \n",
       "3                       13                    14.0                   14.0   \n",
       "4                       12                    12.0                   12.0   \n",
       "...                    ...                     ...                    ...   \n",
       "3395                    18                    16.0                   13.0   \n",
       "3396                     9                     NaN                    NaN   \n",
       "3397                     6                     NaN                    NaN   \n",
       "3398                     9                     NaN                    NaN   \n",
       "3399                     9                    13.0                    6.0   \n",
       "\n",
       "     GROSS_FIN_NEED COST_OF_ATTEND EST_FAM_CONTRIBUTION UNMET_NEED  \n",
       "0                 0              0                    0        0.0  \n",
       "1            570000        1355760               785760   459300.0  \n",
       "2                 0              0                    0        0.0  \n",
       "3                 0              0                    0        0.0  \n",
       "4            835920        1355760               519840   278340.0  \n",
       "...             ...            ...                  ...        ...  \n",
       "3395              0              0                    0        0.0  \n",
       "3396              0              0                    0        0.0  \n",
       "3397              0         945840              1288980        0.0  \n",
       "3398              0         269100                    0  -231720.0  \n",
       "3399              0              0                    0        0.0  \n",
       "\n",
       "[3400 rows x 56 columns]"
      ]
     },
     "metadata": {},
     "output_type": "display_data"
    }
   ],
   "source": [
    "display(df)"
   ]
  },
  {
   "cell_type": "code",
   "execution_count": 7,
   "metadata": {
    "execution": {
     "iopub.execute_input": "2023-07-18T17:41:55.901957Z",
     "iopub.status.busy": "2023-07-18T17:41:55.901582Z",
     "iopub.status.idle": "2023-07-18T17:41:55.909703Z",
     "shell.execute_reply": "2023-07-18T17:41:55.908546Z",
     "shell.execute_reply.started": "2023-07-18T17:41:55.901926Z"
    }
   },
   "outputs": [
    {
     "data": {
      "text/plain": [
       "(3400, 56)"
      ]
     },
     "execution_count": 7,
     "metadata": {},
     "output_type": "execute_result"
    }
   ],
   "source": [
    "df.shape"
   ]
  },
  {
   "cell_type": "code",
   "execution_count": 8,
   "metadata": {
    "execution": {
     "iopub.execute_input": "2023-07-18T17:41:55.912497Z",
     "iopub.status.busy": "2023-07-18T17:41:55.911763Z",
     "iopub.status.idle": "2023-07-18T17:41:55.968629Z",
     "shell.execute_reply": "2023-07-18T17:41:55.967275Z",
     "shell.execute_reply.started": "2023-07-18T17:41:55.912451Z"
    }
   },
   "outputs": [
    {
     "data": {
      "text/plain": [
       "STUDENT IDENTIFIER             0\n",
       "STDNT_AGE                      0\n",
       "STDNT_GENDER                   0\n",
       "STDNT_BACKGROUND               0\n",
       "IN_STATE_FLAG                  0\n",
       "INTERNATIONAL_STS              0\n",
       "STDNT_MAJOR                    0\n",
       "STDNT_MINOR                    0\n",
       "STDNT_TEST_ENTRANCE1        2294\n",
       "STDNT_TEST_ENTRANCE2         908\n",
       "STDNT_TEST_ENTRANCE_COMB     518\n",
       "FIRST_TERM                     0\n",
       "CORE_COURSE_NAME_1_F           0\n",
       "CORE_COURSE_GRADE_1_F          0\n",
       "CORE_COURSE_NAME_2_F          99\n",
       "CORE_COURSE_GRADE_2_F         99\n",
       "CORE_COURSE_NAME_3_F         565\n",
       "CORE_COURSE_GRADE_3_F        565\n",
       "CORE_COURSE_NAME_4_F        1597\n",
       "CORE_COURSE_GRADE_4_F       1597\n",
       "CORE_COURSE_NAME_5_F        2755\n",
       "CORE_COURSE_GRADE_5_F       2755\n",
       "CORE_COURSE_NAME_6_F        3272\n",
       "CORE_COURSE_GRADE_6_F       3272\n",
       "SECOND_TERM                    0\n",
       "CORE_COURSE_NAME_1_S         157\n",
       "CORE_COURSE_GRADE_1_S        232\n",
       "CORE_COURSE_NAME_2_S         439\n",
       "CORE_COURSE_GRADE_2_S        439\n",
       "CORE_COURSE_NAME_3_S        1038\n",
       "CORE_COURSE_GRADE_3_S       1038\n",
       "CORE_COURSE_NAME_4_S        2045\n",
       "CORE_COURSE_GRADE_4_S       2045\n",
       "CORE_COURSE_NAME_5_S        2950\n",
       "CORE_COURSE_GRADE_5_S       2950\n",
       "CORE_COURSE_NAME_6_S        3319\n",
       "CORE_COURSE_GRADE_6_S       3319\n",
       "HOUSING_STS                    0\n",
       "RETURNED_2ND_YR                0\n",
       "DISTANCE_FROM_HOME            25\n",
       "HIGH_SCHL_GPA                 53\n",
       "HIGH_SCHL_NAME                 1\n",
       "FATHER_HI_EDU_CD             432\n",
       "FATHER_HI_EDU_DESC             0\n",
       "MOTHER_HI_EDU_CD             489\n",
       "MOTHER_HI_EDU_DESC             0\n",
       "DEGREE_GROUP_CD                0\n",
       "DEGREE_GROUP_DESC              0\n",
       "FIRST_TERM_ATTEMPT_HRS         0\n",
       "FIRST_TERM_EARNED_HRS          0\n",
       "SECOND_TERM_ATTEMPT_HRS      206\n",
       "SECOND_TERM_EARNED_HRS       209\n",
       "GROSS_FIN_NEED                 0\n",
       "COST_OF_ATTEND                 0\n",
       "EST_FAM_CONTRIBUTION           0\n",
       "UNMET_NEED                     0\n",
       "dtype: int64"
      ]
     },
     "execution_count": 8,
     "metadata": {},
     "output_type": "execute_result"
    }
   ],
   "source": [
    "df.isnull().sum()"
   ]
  },
  {
   "cell_type": "code",
   "execution_count": 9,
   "metadata": {
    "execution": {
     "iopub.execute_input": "2023-07-18T17:41:55.973010Z",
     "iopub.status.busy": "2023-07-18T17:41:55.972601Z",
     "iopub.status.idle": "2023-07-18T17:41:55.985596Z",
     "shell.execute_reply": "2023-07-18T17:41:55.984537Z",
     "shell.execute_reply.started": "2023-07-18T17:41:55.972976Z"
    }
   },
   "outputs": [
    {
     "data": {
      "text/plain": [
       "STUDENT IDENTIFIER            int64\n",
       "STDNT_AGE                     int64\n",
       "STDNT_GENDER                 object\n",
       "STDNT_BACKGROUND             object\n",
       "IN_STATE_FLAG                object\n",
       "INTERNATIONAL_STS            object\n",
       "STDNT_MAJOR                  object\n",
       "STDNT_MINOR                  object\n",
       "STDNT_TEST_ENTRANCE1        float64\n",
       "STDNT_TEST_ENTRANCE2        float64\n",
       "STDNT_TEST_ENTRANCE_COMB    float64\n",
       "FIRST_TERM                    int64\n",
       "CORE_COURSE_NAME_1_F         object\n",
       "CORE_COURSE_GRADE_1_F        object\n",
       "CORE_COURSE_NAME_2_F         object\n",
       "CORE_COURSE_GRADE_2_F        object\n",
       "CORE_COURSE_NAME_3_F         object\n",
       "CORE_COURSE_GRADE_3_F        object\n",
       "CORE_COURSE_NAME_4_F         object\n",
       "CORE_COURSE_GRADE_4_F        object\n",
       "CORE_COURSE_NAME_5_F         object\n",
       "CORE_COURSE_GRADE_5_F        object\n",
       "CORE_COURSE_NAME_6_F         object\n",
       "CORE_COURSE_GRADE_6_F        object\n",
       "SECOND_TERM                   int64\n",
       "CORE_COURSE_NAME_1_S         object\n",
       "CORE_COURSE_GRADE_1_S        object\n",
       "CORE_COURSE_NAME_2_S         object\n",
       "CORE_COURSE_GRADE_2_S        object\n",
       "CORE_COURSE_NAME_3_S         object\n",
       "CORE_COURSE_GRADE_3_S        object\n",
       "CORE_COURSE_NAME_4_S         object\n",
       "CORE_COURSE_GRADE_4_S        object\n",
       "CORE_COURSE_NAME_5_S         object\n",
       "CORE_COURSE_GRADE_5_S        object\n",
       "CORE_COURSE_NAME_6_S         object\n",
       "CORE_COURSE_GRADE_6_S        object\n",
       "HOUSING_STS                  object\n",
       "RETURNED_2ND_YR               int64\n",
       "DISTANCE_FROM_HOME          float64\n",
       "HIGH_SCHL_GPA               float64\n",
       "HIGH_SCHL_NAME               object\n",
       "FATHER_HI_EDU_CD            float64\n",
       "FATHER_HI_EDU_DESC           object\n",
       "MOTHER_HI_EDU_CD            float64\n",
       "MOTHER_HI_EDU_DESC           object\n",
       "DEGREE_GROUP_CD              object\n",
       "DEGREE_GROUP_DESC            object\n",
       "FIRST_TERM_ATTEMPT_HRS        int64\n",
       "FIRST_TERM_EARNED_HRS         int64\n",
       "SECOND_TERM_ATTEMPT_HRS     float64\n",
       "SECOND_TERM_EARNED_HRS      float64\n",
       "GROSS_FIN_NEED                int64\n",
       "COST_OF_ATTEND                int64\n",
       "EST_FAM_CONTRIBUTION          int64\n",
       "UNMET_NEED                  float64\n",
       "dtype: object"
      ]
     },
     "execution_count": 9,
     "metadata": {},
     "output_type": "execute_result"
    }
   ],
   "source": [
    "df.dtypes"
   ]
  },
  {
   "cell_type": "code",
   "execution_count": 10,
   "metadata": {
    "execution": {
     "iopub.execute_input": "2023-07-18T17:41:55.987525Z",
     "iopub.status.busy": "2023-07-18T17:41:55.987181Z",
     "iopub.status.idle": "2023-07-18T17:41:56.004972Z",
     "shell.execute_reply": "2023-07-18T17:41:56.003636Z",
     "shell.execute_reply.started": "2023-07-18T17:41:55.987495Z"
    }
   },
   "outputs": [],
   "source": [
    "df['matricula']=df['STUDENT IDENTIFIER'] #matricula sera o novo index\n",
    "df.drop('STUDENT IDENTIFIER',axis=1,inplace=True)\n",
    "df['evadiu_2sem']=df['RETURNED_2ND_YR']\n",
    "df.drop('RETURNED_2ND_YR',axis=1,inplace=True)"
   ]
  },
  {
   "cell_type": "code",
   "execution_count": 11,
   "metadata": {
    "execution": {
     "iopub.execute_input": "2023-07-18T17:41:56.007127Z",
     "iopub.status.busy": "2023-07-18T17:41:56.006781Z",
     "iopub.status.idle": "2023-07-18T17:41:56.020605Z",
     "shell.execute_reply": "2023-07-18T17:41:56.019229Z",
     "shell.execute_reply.started": "2023-07-18T17:41:56.007097Z"
    }
   },
   "outputs": [
    {
     "name": "stdout",
     "output_type": "stream",
     "text": [
      "0\n",
      "0\n",
      "1    2677\n",
      "0     723\n",
      "Name: evadiu_2sem, dtype: int64\n"
     ]
    }
   ],
   "source": [
    "print(df['matricula'].isnull().sum())\n",
    "print(df['evadiu_2sem'].isnull().sum())\n",
    "print(df['evadiu_2sem'].value_counts())"
   ]
  },
  {
   "cell_type": "markdown",
   "metadata": {},
   "source": [
    "# Categóricos\n"
   ]
  },
  {
   "cell_type": "markdown",
   "metadata": {},
   "source": [
    "# Student Gender"
   ]
  },
  {
   "cell_type": "code",
   "execution_count": 12,
   "metadata": {
    "execution": {
     "iopub.execute_input": "2023-07-18T17:41:56.026112Z",
     "iopub.status.busy": "2023-07-18T17:41:56.025731Z",
     "iopub.status.idle": "2023-07-18T17:41:56.701085Z",
     "shell.execute_reply": "2023-07-18T17:41:56.699896Z",
     "shell.execute_reply.started": "2023-07-18T17:41:56.026080Z"
    }
   },
   "outputs": [
    {
     "name": "stdout",
     "output_type": "stream",
     "text": [
      "F    2140\n",
      "M    1260\n",
      "Name: STDNT_GENDER, dtype: int64\n",
      "nulls:  0\n"
     ]
    },
    {
     "data": {
      "text/html": [
       "<div>\n",
       "<style scoped>\n",
       "    .dataframe tbody tr th:only-of-type {\n",
       "        vertical-align: middle;\n",
       "    }\n",
       "\n",
       "    .dataframe tbody tr th {\n",
       "        vertical-align: top;\n",
       "    }\n",
       "\n",
       "    .dataframe thead th {\n",
       "        text-align: right;\n",
       "    }\n",
       "</style>\n",
       "<table border=\"1\" class=\"dataframe\">\n",
       "  <thead>\n",
       "    <tr style=\"text-align: right;\">\n",
       "      <th>evadiu_2sem</th>\n",
       "      <th>0</th>\n",
       "      <th>1</th>\n",
       "    </tr>\n",
       "    <tr>\n",
       "      <th>STDNT_GENDER</th>\n",
       "      <th></th>\n",
       "      <th></th>\n",
       "    </tr>\n",
       "  </thead>\n",
       "  <tbody>\n",
       "    <tr>\n",
       "      <th>F</th>\n",
       "      <td>0.221963</td>\n",
       "      <td>0.778037</td>\n",
       "    </tr>\n",
       "    <tr>\n",
       "      <th>M</th>\n",
       "      <td>0.196825</td>\n",
       "      <td>0.803175</td>\n",
       "    </tr>\n",
       "    <tr>\n",
       "      <th>All</th>\n",
       "      <td>0.212647</td>\n",
       "      <td>0.787353</td>\n",
       "    </tr>\n",
       "  </tbody>\n",
       "</table>\n",
       "</div>"
      ],
      "text/plain": [
       "evadiu_2sem          0         1\n",
       "STDNT_GENDER                    \n",
       "F             0.221963  0.778037\n",
       "M             0.196825  0.803175\n",
       "All           0.212647  0.787353"
      ]
     },
     "metadata": {},
     "output_type": "display_data"
    },
    {
     "data": {
      "image/png": "[encoded data removed]",
      "text/plain": [
       "<Figure size 1000x500 with 2 Axes>"
      ]
     },
     "metadata": {},
     "output_type": "display_data"
    }
   ],
   "source": [
    "analise_categoricos('STDNT_GENDER')\n"
   ]
  },
  {
   "cell_type": "code",
   "execution_count": 13,
   "metadata": {
    "execution": {
     "iopub.execute_input": "2023-07-18T17:41:56.703650Z",
     "iopub.status.busy": "2023-07-18T17:41:56.702886Z",
     "iopub.status.idle": "2023-07-18T17:41:56.715990Z",
     "shell.execute_reply": "2023-07-18T17:41:56.714986Z",
     "shell.execute_reply.started": "2023-07-18T17:41:56.703602Z"
    }
   },
   "outputs": [],
   "source": [
    "df['STDNT_GENDER'].replace([\"M\",\"F\"],[1,0],inplace=True)"
   ]
  },
  {
   "cell_type": "markdown",
   "metadata": {},
   "source": [
    "# Student Background"
   ]
  },
  {
   "cell_type": "code",
   "execution_count": 14,
   "metadata": {
    "execution": {
     "iopub.execute_input": "2023-07-18T17:41:56.717692Z",
     "iopub.status.busy": "2023-07-18T17:41:56.717209Z",
     "iopub.status.idle": "2023-07-18T17:41:58.936127Z",
     "shell.execute_reply": "2023-07-18T17:41:58.934884Z",
     "shell.execute_reply.started": "2023-07-18T17:41:56.717646Z"
    }
   },
   "outputs": [
    {
     "name": "stdout",
     "output_type": "stream",
     "text": [
      "BGD 1    2082\n",
      "BGD 3     947\n",
      "BGD 4     139\n",
      "BGD 2     106\n",
      "BGD 6      94\n",
      "BGD 7      19\n",
      "BGD 5       8\n",
      "BGD 8       5\n",
      "Name: STDNT_BACKGROUND, dtype: int64\n",
      "nulls:  0\n"
     ]
    },
    {
     "data": {
      "text/html": [
       "<div>\n",
       "<style scoped>\n",
       "    .dataframe tbody tr th:only-of-type {\n",
       "        vertical-align: middle;\n",
       "    }\n",
       "\n",
       "    .dataframe tbody tr th {\n",
       "        vertical-align: top;\n",
       "    }\n",
       "\n",
       "    .dataframe thead th {\n",
       "        text-align: right;\n",
       "    }\n",
       "</style>\n",
       "<table border=\"1\" class=\"dataframe\">\n",
       "  <thead>\n",
       "    <tr style=\"text-align: right;\">\n",
       "      <th>evadiu_2sem</th>\n",
       "      <th>0</th>\n",
       "      <th>1</th>\n",
       "    </tr>\n",
       "    <tr>\n",
       "      <th>STDNT_BACKGROUND</th>\n",
       "      <th></th>\n",
       "      <th></th>\n",
       "    </tr>\n",
       "  </thead>\n",
       "  <tbody>\n",
       "    <tr>\n",
       "      <th>BGD 1</th>\n",
       "      <td>0.229107</td>\n",
       "      <td>0.770893</td>\n",
       "    </tr>\n",
       "    <tr>\n",
       "      <th>BGD 2</th>\n",
       "      <td>0.226415</td>\n",
       "      <td>0.773585</td>\n",
       "    </tr>\n",
       "    <tr>\n",
       "      <th>BGD 3</th>\n",
       "      <td>0.179514</td>\n",
       "      <td>0.820486</td>\n",
       "    </tr>\n",
       "    <tr>\n",
       "      <th>BGD 4</th>\n",
       "      <td>0.187050</td>\n",
       "      <td>0.812950</td>\n",
       "    </tr>\n",
       "    <tr>\n",
       "      <th>BGD 5</th>\n",
       "      <td>0.500000</td>\n",
       "      <td>0.500000</td>\n",
       "    </tr>\n",
       "    <tr>\n",
       "      <th>BGD 6</th>\n",
       "      <td>0.148936</td>\n",
       "      <td>0.851064</td>\n",
       "    </tr>\n",
       "    <tr>\n",
       "      <th>BGD 7</th>\n",
       "      <td>0.368421</td>\n",
       "      <td>0.631579</td>\n",
       "    </tr>\n",
       "    <tr>\n",
       "      <th>BGD 8</th>\n",
       "      <td>0.200000</td>\n",
       "      <td>0.800000</td>\n",
       "    </tr>\n",
       "    <tr>\n",
       "      <th>All</th>\n",
       "      <td>0.212647</td>\n",
       "      <td>0.787353</td>\n",
       "    </tr>\n",
       "  </tbody>\n",
       "</table>\n",
       "</div>"
      ],
      "text/plain": [
       "evadiu_2sem              0         1\n",
       "STDNT_BACKGROUND                    \n",
       "BGD 1             0.229107  0.770893\n",
       "BGD 2             0.226415  0.773585\n",
       "BGD 3             0.179514  0.820486\n",
       "BGD 4             0.187050  0.812950\n",
       "BGD 5             0.500000  0.500000\n",
       "BGD 6             0.148936  0.851064\n",
       "BGD 7             0.368421  0.631579\n",
       "BGD 8             0.200000  0.800000\n",
       "All               0.212647  0.787353"
      ]
     },
     "metadata": {},
     "output_type": "display_data"
    }
   ],
   "source": [
    "analise_categoricos('STDNT_BACKGROUND')"
   ]
  },
  {
   "cell_type": "code",
   "execution_count": 15,
   "metadata": {
    "execution": {
     "iopub.execute_input": "2023-07-18T17:41:58.938718Z",
     "iopub.status.busy": "2023-07-18T17:41:58.938138Z",
     "iopub.status.idle": "2023-07-18T17:41:58.947769Z",
     "shell.execute_reply": "2023-07-18T17:41:58.946508Z",
     "shell.execute_reply.started": "2023-07-18T17:41:58.938673Z"
    }
   },
   "outputs": [],
   "source": [
    "df['STDNT_BACKGROUND'].replace(['BGD 7','BGD 5','BGD 8'],\n",
    " ['BG Outros','BG Outros','BG Outros'],inplace=True)"
   ]
  },
  {
   "cell_type": "code",
   "execution_count": 16,
   "metadata": {
    "execution": {
     "iopub.execute_input": "2023-07-18T17:41:58.949345Z",
     "iopub.status.busy": "2023-07-18T17:41:58.949009Z",
     "iopub.status.idle": "2023-07-18T17:42:00.716054Z",
     "shell.execute_reply": "2023-07-18T17:42:00.714837Z",
     "shell.execute_reply.started": "2023-07-18T17:41:58.949314Z"
    }
   },
   "outputs": [
    {
     "name": "stdout",
     "output_type": "stream",
     "text": [
      "BGD 1        2082\n",
      "BGD 3         947\n",
      "BGD 4         139\n",
      "BGD 2         106\n",
      "BGD 6          94\n",
      "BG Outros      32\n",
      "Name: STDNT_BACKGROUND, dtype: int64\n",
      "nulls:  0\n"
     ]
    },
    {
     "data": {
      "text/html": [
       "<div>\n",
       "<style scoped>\n",
       "    .dataframe tbody tr th:only-of-type {\n",
       "        vertical-align: middle;\n",
       "    }\n",
       "\n",
       "    .dataframe tbody tr th {\n",
       "        vertical-align: top;\n",
       "    }\n",
       "\n",
       "    .dataframe thead th {\n",
       "        text-align: right;\n",
       "    }\n",
       "</style>\n",
       "<table border=\"1\" class=\"dataframe\">\n",
       "  <thead>\n",
       "    <tr style=\"text-align: right;\">\n",
       "      <th>evadiu_2sem</th>\n",
       "      <th>0</th>\n",
       "      <th>1</th>\n",
       "    </tr>\n",
       "    <tr>\n",
       "      <th>STDNT_BACKGROUND</th>\n",
       "      <th></th>\n",
       "      <th></th>\n",
       "    </tr>\n",
       "  </thead>\n",
       "  <tbody>\n",
       "    <tr>\n",
       "      <th>BG Outros</th>\n",
       "      <td>0.375000</td>\n",
       "      <td>0.625000</td>\n",
       "    </tr>\n",
       "    <tr>\n",
       "      <th>BGD 1</th>\n",
       "      <td>0.229107</td>\n",
       "      <td>0.770893</td>\n",
       "    </tr>\n",
       "    <tr>\n",
       "      <th>BGD 2</th>\n",
       "      <td>0.226415</td>\n",
       "      <td>0.773585</td>\n",
       "    </tr>\n",
       "    <tr>\n",
       "      <th>BGD 3</th>\n",
       "      <td>0.179514</td>\n",
       "      <td>0.820486</td>\n",
       "    </tr>\n",
       "    <tr>\n",
       "      <th>BGD 4</th>\n",
       "      <td>0.187050</td>\n",
       "      <td>0.812950</td>\n",
       "    </tr>\n",
       "    <tr>\n",
       "      <th>BGD 6</th>\n",
       "      <td>0.148936</td>\n",
       "      <td>0.851064</td>\n",
       "    </tr>\n",
       "    <tr>\n",
       "      <th>All</th>\n",
       "      <td>0.212647</td>\n",
       "      <td>0.787353</td>\n",
       "    </tr>\n",
       "  </tbody>\n",
       "</table>\n",
       "</div>"
      ],
      "text/plain": [
       "evadiu_2sem              0         1\n",
       "STDNT_BACKGROUND                    \n",
       "BG Outros         0.375000  0.625000\n",
       "BGD 1             0.229107  0.770893\n",
       "BGD 2             0.226415  0.773585\n",
       "BGD 3             0.179514  0.820486\n",
       "BGD 4             0.187050  0.812950\n",
       "BGD 6             0.148936  0.851064\n",
       "All               0.212647  0.787353"
      ]
     },
     "metadata": {},
     "output_type": "display_data"
    }
   ],
   "source": [
    "analise_categoricos('STDNT_BACKGROUND')"
   ]
  },
  {
   "cell_type": "code",
   "execution_count": 17,
   "metadata": {
    "execution": {
     "iopub.execute_input": "2023-07-18T17:42:00.718781Z",
     "iopub.status.busy": "2023-07-18T17:42:00.717763Z",
     "iopub.status.idle": "2023-07-18T17:42:00.725820Z",
     "shell.execute_reply": "2023-07-18T17:42:00.724643Z",
     "shell.execute_reply.started": "2023-07-18T17:42:00.718744Z"
    }
   },
   "outputs": [
    {
     "data": {
      "text/plain": [
       "(3400, 56)"
      ]
     },
     "execution_count": 17,
     "metadata": {},
     "output_type": "execute_result"
    }
   ],
   "source": [
    "df.shape\n"
   ]
  },
  {
   "cell_type": "code",
   "execution_count": 18,
   "metadata": {
    "execution": {
     "iopub.execute_input": "2023-07-18T17:42:00.728001Z",
     "iopub.status.busy": "2023-07-18T17:42:00.727514Z",
     "iopub.status.idle": "2023-07-18T17:42:00.742182Z",
     "shell.execute_reply": "2023-07-18T17:42:00.741026Z",
     "shell.execute_reply.started": "2023-07-18T17:42:00.727959Z"
    }
   },
   "outputs": [
    {
     "data": {
      "text/plain": [
       "Index(['STDNT_AGE', 'STDNT_GENDER', 'STDNT_BACKGROUND', 'IN_STATE_FLAG',\n",
       "       'INTERNATIONAL_STS', 'STDNT_MAJOR', 'STDNT_MINOR',\n",
       "       'STDNT_TEST_ENTRANCE1', 'STDNT_TEST_ENTRANCE2',\n",
       "       'STDNT_TEST_ENTRANCE_COMB', 'FIRST_TERM', 'CORE_COURSE_NAME_1_F',\n",
       "       'CORE_COURSE_GRADE_1_F', 'CORE_COURSE_NAME_2_F',\n",
       "       'CORE_COURSE_GRADE_2_F', 'CORE_COURSE_NAME_3_F',\n",
       "       'CORE_COURSE_GRADE_3_F', 'CORE_COURSE_NAME_4_F',\n",
       "       'CORE_COURSE_GRADE_4_F', 'CORE_COURSE_NAME_5_F',\n",
       "       'CORE_COURSE_GRADE_5_F', 'CORE_COURSE_NAME_6_F',\n",
       "       'CORE_COURSE_GRADE_6_F', 'SECOND_TERM', 'CORE_COURSE_NAME_1_S',\n",
       "       'CORE_COURSE_GRADE_1_S', 'CORE_COURSE_NAME_2_S',\n",
       "       'CORE_COURSE_GRADE_2_S', 'CORE_COURSE_NAME_3_S',\n",
       "       'CORE_COURSE_GRADE_3_S', 'CORE_COURSE_NAME_4_S',\n",
       "       'CORE_COURSE_GRADE_4_S', 'CORE_COURSE_NAME_5_S',\n",
       "       'CORE_COURSE_GRADE_5_S', 'CORE_COURSE_NAME_6_S',\n",
       "       'CORE_COURSE_GRADE_6_S', 'HOUSING_STS', 'DISTANCE_FROM_HOME',\n",
       "       'HIGH_SCHL_GPA', 'HIGH_SCHL_NAME', 'FATHER_HI_EDU_CD',\n",
       "       'FATHER_HI_EDU_DESC', 'MOTHER_HI_EDU_CD', 'MOTHER_HI_EDU_DESC',\n",
       "       'DEGREE_GROUP_CD', 'DEGREE_GROUP_DESC', 'FIRST_TERM_ATTEMPT_HRS',\n",
       "       'FIRST_TERM_EARNED_HRS', 'SECOND_TERM_ATTEMPT_HRS',\n",
       "       'SECOND_TERM_EARNED_HRS', 'GROSS_FIN_NEED', 'COST_OF_ATTEND',\n",
       "       'EST_FAM_CONTRIBUTION', 'UNMET_NEED', 'matricula', 'evadiu_2sem'],\n",
       "      dtype='object')"
      ]
     },
     "execution_count": 18,
     "metadata": {},
     "output_type": "execute_result"
    }
   ],
   "source": [
    "df.columns"
   ]
  },
  {
   "cell_type": "markdown",
   "metadata": {},
   "source": [
    "REALIZARO OHC"
   ]
  },
  {
   "cell_type": "code",
   "execution_count": 19,
   "metadata": {
    "execution": {
     "iopub.execute_input": "2023-07-18T17:42:00.744175Z",
     "iopub.status.busy": "2023-07-18T17:42:00.743709Z",
     "iopub.status.idle": "2023-07-18T17:42:00.768534Z",
     "shell.execute_reply": "2023-07-18T17:42:00.767432Z",
     "shell.execute_reply.started": "2023-07-18T17:42:00.744133Z"
    }
   },
   "outputs": [],
   "source": [
    "encoder_BGD=OneHotEncoder(drop=None)\n",
    "temp=pd.DataFrame(encoder_BGD.fit_transform(df[['STDNT_BACKGROUND']]).toarray())\n",
    "joblib.dump(encoder_BGD,'encoder_BGD.sav')\n",
    "temp=temp.add_prefix('BGD')\n",
    "df=df.join(temp)\n",
    "df.drop('STDNT_BACKGROUND',axis=1,inplace=True)\n"
   ]
  },
  {
   "cell_type": "code",
   "execution_count": 20,
   "metadata": {
    "execution": {
     "iopub.execute_input": "2023-07-18T17:42:00.770828Z",
     "iopub.status.busy": "2023-07-18T17:42:00.770342Z",
     "iopub.status.idle": "2023-07-18T17:42:00.778078Z",
     "shell.execute_reply": "2023-07-18T17:42:00.776910Z",
     "shell.execute_reply.started": "2023-07-18T17:42:00.770782Z"
    }
   },
   "outputs": [
    {
     "data": {
      "text/plain": [
       "(3400, 61)"
      ]
     },
     "execution_count": 20,
     "metadata": {},
     "output_type": "execute_result"
    }
   ],
   "source": [
    "df.shape"
   ]
  },
  {
   "cell_type": "code",
   "execution_count": 21,
   "metadata": {
    "execution": {
     "iopub.execute_input": "2023-07-18T17:42:00.779980Z",
     "iopub.status.busy": "2023-07-18T17:42:00.779602Z",
     "iopub.status.idle": "2023-07-18T17:42:00.792757Z",
     "shell.execute_reply": "2023-07-18T17:42:00.791721Z",
     "shell.execute_reply.started": "2023-07-18T17:42:00.779947Z"
    }
   },
   "outputs": [
    {
     "data": {
      "text/plain": [
       "Index(['STDNT_AGE', 'STDNT_GENDER', 'IN_STATE_FLAG', 'INTERNATIONAL_STS',\n",
       "       'STDNT_MAJOR', 'STDNT_MINOR', 'STDNT_TEST_ENTRANCE1',\n",
       "       'STDNT_TEST_ENTRANCE2', 'STDNT_TEST_ENTRANCE_COMB', 'FIRST_TERM',\n",
       "       'CORE_COURSE_NAME_1_F', 'CORE_COURSE_GRADE_1_F', 'CORE_COURSE_NAME_2_F',\n",
       "       'CORE_COURSE_GRADE_2_F', 'CORE_COURSE_NAME_3_F',\n",
       "       'CORE_COURSE_GRADE_3_F', 'CORE_COURSE_NAME_4_F',\n",
       "       'CORE_COURSE_GRADE_4_F', 'CORE_COURSE_NAME_5_F',\n",
       "       'CORE_COURSE_GRADE_5_F', 'CORE_COURSE_NAME_6_F',\n",
       "       'CORE_COURSE_GRADE_6_F', 'SECOND_TERM', 'CORE_COURSE_NAME_1_S',\n",
       "       'CORE_COURSE_GRADE_1_S', 'CORE_COURSE_NAME_2_S',\n",
       "       'CORE_COURSE_GRADE_2_S', 'CORE_COURSE_NAME_3_S',\n",
       "       'CORE_COURSE_GRADE_3_S', 'CORE_COURSE_NAME_4_S',\n",
       "       'CORE_COURSE_GRADE_4_S', 'CORE_COURSE_NAME_5_S',\n",
       "       'CORE_COURSE_GRADE_5_S', 'CORE_COURSE_NAME_6_S',\n",
       "       'CORE_COURSE_GRADE_6_S', 'HOUSING_STS', 'DISTANCE_FROM_HOME',\n",
       "       'HIGH_SCHL_GPA', 'HIGH_SCHL_NAME', 'FATHER_HI_EDU_CD',\n",
       "       'FATHER_HI_EDU_DESC', 'MOTHER_HI_EDU_CD', 'MOTHER_HI_EDU_DESC',\n",
       "       'DEGREE_GROUP_CD', 'DEGREE_GROUP_DESC', 'FIRST_TERM_ATTEMPT_HRS',\n",
       "       'FIRST_TERM_EARNED_HRS', 'SECOND_TERM_ATTEMPT_HRS',\n",
       "       'SECOND_TERM_EARNED_HRS', 'GROSS_FIN_NEED', 'COST_OF_ATTEND',\n",
       "       'EST_FAM_CONTRIBUTION', 'UNMET_NEED', 'matricula', 'evadiu_2sem',\n",
       "       'BGD0', 'BGD1', 'BGD2', 'BGD3', 'BGD4', 'BGD5'],\n",
       "      dtype='object')"
      ]
     },
     "execution_count": 21,
     "metadata": {},
     "output_type": "execute_result"
    }
   ],
   "source": [
    "df.columns"
   ]
  },
  {
   "cell_type": "markdown",
   "metadata": {},
   "source": [
    "# Student in State"
   ]
  },
  {
   "cell_type": "code",
   "execution_count": 22,
   "metadata": {
    "execution": {
     "iopub.execute_input": "2023-07-18T17:42:00.795103Z",
     "iopub.status.busy": "2023-07-18T17:42:00.794348Z",
     "iopub.status.idle": "2023-07-18T17:42:01.533284Z",
     "shell.execute_reply": "2023-07-18T17:42:01.532125Z",
     "shell.execute_reply.started": "2023-07-18T17:42:00.795058Z"
    }
   },
   "outputs": [
    {
     "name": "stdout",
     "output_type": "stream",
     "text": [
      "Y    3063\n",
      "N     337\n",
      "Name: IN_STATE_FLAG, dtype: int64\n",
      "nulls:  0\n"
     ]
    },
    {
     "data": {
      "text/html": [
       "<div>\n",
       "<style scoped>\n",
       "    .dataframe tbody tr th:only-of-type {\n",
       "        vertical-align: middle;\n",
       "    }\n",
       "\n",
       "    .dataframe tbody tr th {\n",
       "        vertical-align: top;\n",
       "    }\n",
       "\n",
       "    .dataframe thead th {\n",
       "        text-align: right;\n",
       "    }\n",
       "</style>\n",
       "<table border=\"1\" class=\"dataframe\">\n",
       "  <thead>\n",
       "    <tr style=\"text-align: right;\">\n",
       "      <th>evadiu_2sem</th>\n",
       "      <th>0</th>\n",
       "      <th>1</th>\n",
       "    </tr>\n",
       "    <tr>\n",
       "      <th>IN_STATE_FLAG</th>\n",
       "      <th></th>\n",
       "      <th></th>\n",
       "    </tr>\n",
       "  </thead>\n",
       "  <tbody>\n",
       "    <tr>\n",
       "      <th>N</th>\n",
       "      <td>0.264095</td>\n",
       "      <td>0.735905</td>\n",
       "    </tr>\n",
       "    <tr>\n",
       "      <th>Y</th>\n",
       "      <td>0.206987</td>\n",
       "      <td>0.793013</td>\n",
       "    </tr>\n",
       "    <tr>\n",
       "      <th>All</th>\n",
       "      <td>0.212647</td>\n",
       "      <td>0.787353</td>\n",
       "    </tr>\n",
       "  </tbody>\n",
       "</table>\n",
       "</div>"
      ],
      "text/plain": [
       "evadiu_2sem           0         1\n",
       "IN_STATE_FLAG                    \n",
       "N              0.264095  0.735905\n",
       "Y              0.206987  0.793013\n",
       "All            0.212647  0.787353"
      ]
     },
     "metadata": {},
     "output_type": "display_data"
    }
   ],
   "source": [
    "analise_categoricos('IN_STATE_FLAG')"
   ]
  },
  {
   "cell_type": "code",
   "execution_count": 23,
   "metadata": {
    "execution": {
     "iopub.execute_input": "2023-07-18T17:42:01.535106Z",
     "iopub.status.busy": "2023-07-18T17:42:01.534726Z",
     "iopub.status.idle": "2023-07-18T17:42:01.547181Z",
     "shell.execute_reply": "2023-07-18T17:42:01.546022Z",
     "shell.execute_reply.started": "2023-07-18T17:42:01.535073Z"
    }
   },
   "outputs": [],
   "source": [
    "df['IN_STATE_FLAG'].replace(['Y','N'],\n",
    "  [1,0],inplace=True)"
   ]
  },
  {
   "cell_type": "markdown",
   "metadata": {},
   "source": [
    "# Student international"
   ]
  },
  {
   "cell_type": "code",
   "execution_count": 24,
   "metadata": {
    "execution": {
     "iopub.execute_input": "2023-07-18T17:42:01.549664Z",
     "iopub.status.busy": "2023-07-18T17:42:01.548517Z",
     "iopub.status.idle": "2023-07-18T17:42:02.305443Z",
     "shell.execute_reply": "2023-07-18T17:42:02.304592Z",
     "shell.execute_reply.started": "2023-07-18T17:42:01.549616Z"
    }
   },
   "outputs": [
    {
     "name": "stdout",
     "output_type": "stream",
     "text": [
      "N    3373\n",
      "Y      27\n",
      "Name: INTERNATIONAL_STS, dtype: int64\n",
      "nulls:  0\n"
     ]
    },
    {
     "data": {
      "text/html": [
       "<div>\n",
       "<style scoped>\n",
       "    .dataframe tbody tr th:only-of-type {\n",
       "        vertical-align: middle;\n",
       "    }\n",
       "\n",
       "    .dataframe tbody tr th {\n",
       "        vertical-align: top;\n",
       "    }\n",
       "\n",
       "    .dataframe thead th {\n",
       "        text-align: right;\n",
       "    }\n",
       "</style>\n",
       "<table border=\"1\" class=\"dataframe\">\n",
       "  <thead>\n",
       "    <tr style=\"text-align: right;\">\n",
       "      <th>evadiu_2sem</th>\n",
       "      <th>0</th>\n",
       "      <th>1</th>\n",
       "    </tr>\n",
       "    <tr>\n",
       "      <th>INTERNATIONAL_STS</th>\n",
       "      <th></th>\n",
       "      <th></th>\n",
       "    </tr>\n",
       "  </thead>\n",
       "  <tbody>\n",
       "    <tr>\n",
       "      <th>N</th>\n",
       "      <td>0.210792</td>\n",
       "      <td>0.789208</td>\n",
       "    </tr>\n",
       "    <tr>\n",
       "      <th>Y</th>\n",
       "      <td>0.444444</td>\n",
       "      <td>0.555556</td>\n",
       "    </tr>\n",
       "    <tr>\n",
       "      <th>All</th>\n",
       "      <td>0.212647</td>\n",
       "      <td>0.787353</td>\n",
       "    </tr>\n",
       "  </tbody>\n",
       "</table>\n",
       "</div>"
      ],
      "text/plain": [
       "evadiu_2sem               0         1\n",
       "INTERNATIONAL_STS                    \n",
       "N                  0.210792  0.789208\n",
       "Y                  0.444444  0.555556\n",
       "All                0.212647  0.787353"
      ]
     },
     "metadata": {},
     "output_type": "display_data"
    }
   ],
   "source": [
    "analise_categoricos('INTERNATIONAL_STS')"
   ]
  },
  {
   "cell_type": "markdown",
   "metadata": {},
   "source": [
    "Poucos dados para \"Y\""
   ]
  },
  {
   "cell_type": "code",
   "execution_count": 25,
   "metadata": {
    "execution": {
     "iopub.execute_input": "2023-07-18T17:42:02.307498Z",
     "iopub.status.busy": "2023-07-18T17:42:02.307121Z",
     "iopub.status.idle": "2023-07-18T17:42:02.316193Z",
     "shell.execute_reply": "2023-07-18T17:42:02.315212Z",
     "shell.execute_reply.started": "2023-07-18T17:42:02.307464Z"
    }
   },
   "outputs": [],
   "source": [
    "df.drop('INTERNATIONAL_STS',axis=1,inplace=True)"
   ]
  },
  {
   "cell_type": "markdown",
   "metadata": {},
   "source": [
    "# STDNT_MAJOR"
   ]
  },
  {
   "cell_type": "code",
   "execution_count": 26,
   "metadata": {
    "execution": {
     "iopub.execute_input": "2023-07-18T17:42:02.317983Z",
     "iopub.status.busy": "2023-07-18T17:42:02.317592Z",
     "iopub.status.idle": "2023-07-18T17:42:02.335457Z",
     "shell.execute_reply": "2023-07-18T17:42:02.333954Z",
     "shell.execute_reply.started": "2023-07-18T17:42:02.317954Z"
    }
   },
   "outputs": [
    {
     "data": {
      "text/plain": [
       "Undeclared                        460\n",
       "Biology                           362\n",
       "Early Childhood Education         190\n",
       "Pre-Nursing                       177\n",
       "Nursing                           164\n",
       "Psychology                        155\n",
       "Pre-Business                      133\n",
       "Theatre Arts                      131\n",
       "Music Performance                  99\n",
       "Criminal Justice                   98\n",
       "Music Education                    96\n",
       "General Business                   85\n",
       "Exercise Science                   81\n",
       "Art                                75\n",
       "Management                         72\n",
       "Communication                      70\n",
       "Political Science                  64\n",
       "Chemistry                          64\n",
       "English Language/Literature        60\n",
       "Engineering Studies                60\n",
       "Marketing                          59\n",
       "Computer Science - Systems         58\n",
       "Accounting                         54\n",
       "Health Science                     48\n",
       "Computer Science - Games           40\n",
       "Joint Enrollment - Accel           35\n",
       "History                            33\n",
       "Applied Computer Science           32\n",
       "Theatre Education                  29\n",
       "English and Secondary Ed           28\n",
       "Pre-Engineering/RETP               27\n",
       "History and Secondary Ed           27\n",
       "Mathematics                        26\n",
       "Finance                            24\n",
       "Management Information Systems     21\n",
       "Sociology                          20\n",
       "Health and Physical Education      20\n",
       "Middle Grades Education            17\n",
       "Music                              17\n",
       "Spec Ed: Gen. Curr. - Reading      13\n",
       "General Studies/AS                 12\n",
       "Mathematics and Secondary Ed       11\n",
       "Information Technology             10\n",
       "Art Education                       9\n",
       "Biology and Secondary Ed            5\n",
       "Spanish                             5\n",
       "Spanish with Teacher Cert           4\n",
       "French with Teacher Cert            4\n",
       "Geology                             4\n",
       "French                              4\n",
       "Early Admission - Accel             3\n",
       "Chemistry and Secondary Ed          2\n",
       "Earth and Space Science             2\n",
       "Liberal Arts                        1\n",
       "Name: STDNT_MAJOR, dtype: int64"
      ]
     },
     "execution_count": 26,
     "metadata": {},
     "output_type": "execute_result"
    }
   ],
   "source": [
    "df['STDNT_MAJOR'].value_counts()"
   ]
  },
  {
   "cell_type": "code",
   "execution_count": 27,
   "metadata": {
    "execution": {
     "iopub.execute_input": "2023-07-18T17:42:02.338234Z",
     "iopub.status.busy": "2023-07-18T17:42:02.337862Z",
     "iopub.status.idle": "2023-07-18T17:42:02.348745Z",
     "shell.execute_reply": "2023-07-18T17:42:02.347509Z",
     "shell.execute_reply.started": "2023-07-18T17:42:02.338202Z"
    }
   },
   "outputs": [
    {
     "name": "stdout",
     "output_type": "stream",
     "text": [
      "['English Language/Literature', 'Engineering Studies', 'Marketing', 'Computer Science - Systems', 'Accounting', 'Health Science', 'Computer Science - Games', 'Joint Enrollment - Accel', 'History', 'Applied Computer Science', 'Theatre Education', 'English and Secondary Ed', 'Pre-Engineering/RETP', 'History and Secondary Ed', 'Mathematics', 'Finance', 'Management Information Systems', 'Sociology', 'Health and Physical Education', 'Middle Grades Education', 'Music', 'Spec Ed: Gen. Curr. - Reading', 'General Studies/AS', 'Mathematics and Secondary Ed', 'Information Technology', 'Art Education', 'Biology and Secondary Ed', 'Spanish', 'Spanish with Teacher Cert', 'French with Teacher Cert', 'Geology', 'French', 'Early Admission - Accel', 'Chemistry and Secondary Ed', 'Earth and Space Science', 'Liberal Arts', 'Undeclared']\n"
     ]
    }
   ],
   "source": [
    "lista=df['STDNT_MAJOR'].value_counts()\n",
    "lista_remover=[]\n",
    "for i in range(0,len(lista)):\n",
    "    if lista[i]<=60:\n",
    "        lista_remover.append(lista.index[i])\n",
    "lista_remover.append('Undeclared')\n",
    "print(lista_remover)"
   ]
  },
  {
   "cell_type": "code",
   "execution_count": 28,
   "metadata": {
    "execution": {
     "iopub.execute_input": "2023-07-18T17:42:02.350423Z",
     "iopub.status.busy": "2023-07-18T17:42:02.350067Z",
     "iopub.status.idle": "2023-07-18T17:42:02.373679Z",
     "shell.execute_reply": "2023-07-18T17:42:02.372737Z",
     "shell.execute_reply.started": "2023-07-18T17:42:02.350393Z"
    }
   },
   "outputs": [],
   "source": [
    "df['STDNT_MAJOR'].replace(lista_remover,'Outros/Não especificado',inplace=True)"
   ]
  },
  {
   "cell_type": "code",
   "execution_count": 29,
   "metadata": {
    "execution": {
     "iopub.execute_input": "2023-07-18T17:42:02.375659Z",
     "iopub.status.busy": "2023-07-18T17:42:02.375067Z",
     "iopub.status.idle": "2023-07-18T17:42:07.615695Z",
     "shell.execute_reply": "2023-07-18T17:42:07.614730Z",
     "shell.execute_reply.started": "2023-07-18T17:42:02.375615Z"
    }
   },
   "outputs": [
    {
     "name": "stdout",
     "output_type": "stream",
     "text": [
      "Outros/Não especificado      1284\n",
      "Biology                       362\n",
      "Early Childhood Education     190\n",
      "Pre-Nursing                   177\n",
      "Nursing                       164\n",
      "Psychology                    155\n",
      "Pre-Business                  133\n",
      "Theatre Arts                  131\n",
      "Music Performance              99\n",
      "Criminal Justice               98\n",
      "Music Education                96\n",
      "General Business               85\n",
      "Exercise Science               81\n",
      "Art                            75\n",
      "Management                     72\n",
      "Communication                  70\n",
      "Political Science              64\n",
      "Chemistry                      64\n",
      "Name: STDNT_MAJOR, dtype: int64\n",
      "nulls:  0\n"
     ]
    },
    {
     "data": {
      "text/html": [
       "<div>\n",
       "<style scoped>\n",
       "    .dataframe tbody tr th:only-of-type {\n",
       "        vertical-align: middle;\n",
       "    }\n",
       "\n",
       "    .dataframe tbody tr th {\n",
       "        vertical-align: top;\n",
       "    }\n",
       "\n",
       "    .dataframe thead th {\n",
       "        text-align: right;\n",
       "    }\n",
       "</style>\n",
       "<table border=\"1\" class=\"dataframe\">\n",
       "  <thead>\n",
       "    <tr style=\"text-align: right;\">\n",
       "      <th>evadiu_2sem</th>\n",
       "      <th>0</th>\n",
       "      <th>1</th>\n",
       "    </tr>\n",
       "    <tr>\n",
       "      <th>STDNT_MAJOR</th>\n",
       "      <th></th>\n",
       "      <th></th>\n",
       "    </tr>\n",
       "  </thead>\n",
       "  <tbody>\n",
       "    <tr>\n",
       "      <th>Art</th>\n",
       "      <td>0.240000</td>\n",
       "      <td>0.760000</td>\n",
       "    </tr>\n",
       "    <tr>\n",
       "      <th>Biology</th>\n",
       "      <td>0.226519</td>\n",
       "      <td>0.773481</td>\n",
       "    </tr>\n",
       "    <tr>\n",
       "      <th>Chemistry</th>\n",
       "      <td>0.156250</td>\n",
       "      <td>0.843750</td>\n",
       "    </tr>\n",
       "    <tr>\n",
       "      <th>Communication</th>\n",
       "      <td>0.200000</td>\n",
       "      <td>0.800000</td>\n",
       "    </tr>\n",
       "    <tr>\n",
       "      <th>Criminal Justice</th>\n",
       "      <td>0.295918</td>\n",
       "      <td>0.704082</td>\n",
       "    </tr>\n",
       "    <tr>\n",
       "      <th>Early Childhood Education</th>\n",
       "      <td>0.194737</td>\n",
       "      <td>0.805263</td>\n",
       "    </tr>\n",
       "    <tr>\n",
       "      <th>Exercise Science</th>\n",
       "      <td>0.234568</td>\n",
       "      <td>0.765432</td>\n",
       "    </tr>\n",
       "    <tr>\n",
       "      <th>General Business</th>\n",
       "      <td>0.141176</td>\n",
       "      <td>0.858824</td>\n",
       "    </tr>\n",
       "    <tr>\n",
       "      <th>Management</th>\n",
       "      <td>0.208333</td>\n",
       "      <td>0.791667</td>\n",
       "    </tr>\n",
       "    <tr>\n",
       "      <th>Music Education</th>\n",
       "      <td>0.083333</td>\n",
       "      <td>0.916667</td>\n",
       "    </tr>\n",
       "    <tr>\n",
       "      <th>Music Performance</th>\n",
       "      <td>0.121212</td>\n",
       "      <td>0.878788</td>\n",
       "    </tr>\n",
       "    <tr>\n",
       "      <th>Nursing</th>\n",
       "      <td>0.225610</td>\n",
       "      <td>0.774390</td>\n",
       "    </tr>\n",
       "    <tr>\n",
       "      <th>Outros/Não especificado</th>\n",
       "      <td>0.219626</td>\n",
       "      <td>0.780374</td>\n",
       "    </tr>\n",
       "    <tr>\n",
       "      <th>Political Science</th>\n",
       "      <td>0.218750</td>\n",
       "      <td>0.781250</td>\n",
       "    </tr>\n",
       "    <tr>\n",
       "      <th>Pre-Business</th>\n",
       "      <td>0.240602</td>\n",
       "      <td>0.759398</td>\n",
       "    </tr>\n",
       "    <tr>\n",
       "      <th>Pre-Nursing</th>\n",
       "      <td>0.265537</td>\n",
       "      <td>0.734463</td>\n",
       "    </tr>\n",
       "    <tr>\n",
       "      <th>Psychology</th>\n",
       "      <td>0.277419</td>\n",
       "      <td>0.722581</td>\n",
       "    </tr>\n",
       "    <tr>\n",
       "      <th>Theatre Arts</th>\n",
       "      <td>0.091603</td>\n",
       "      <td>0.908397</td>\n",
       "    </tr>\n",
       "    <tr>\n",
       "      <th>All</th>\n",
       "      <td>0.212647</td>\n",
       "      <td>0.787353</td>\n",
       "    </tr>\n",
       "  </tbody>\n",
       "</table>\n",
       "</div>"
      ],
      "text/plain": [
       "evadiu_2sem                       0         1\n",
       "STDNT_MAJOR                                  \n",
       "Art                        0.240000  0.760000\n",
       "Biology                    0.226519  0.773481\n",
       "Chemistry                  0.156250  0.843750\n",
       "Communication              0.200000  0.800000\n",
       "Criminal Justice           0.295918  0.704082\n",
       "Early Childhood Education  0.194737  0.805263\n",
       "Exercise Science           0.234568  0.765432\n",
       "General Business           0.141176  0.858824\n",
       "Management                 0.208333  0.791667\n",
       "Music Education            0.083333  0.916667\n",
       "Music Performance          0.121212  0.878788\n",
       "Nursing                    0.225610  0.774390\n",
       "Outros/Não especificado    0.219626  0.780374\n",
       "Political Science          0.218750  0.781250\n",
       "Pre-Business               0.240602  0.759398\n",
       "Pre-Nursing                0.265537  0.734463\n",
       "Psychology                 0.277419  0.722581\n",
       "Theatre Arts               0.091603  0.908397\n",
       "All                        0.212647  0.787353"
      ]
     },
     "metadata": {},
     "output_type": "display_data"
    }
   ],
   "source": [
    "analise_categoricos('STDNT_MAJOR')"
   ]
  },
  {
   "cell_type": "markdown",
   "metadata": {},
   "source": [
    "Interessante manter, mas pode aumentar muito a dimensionalidade se fizermos via one hot encode.\n",
    "Vamos testar"
   ]
  },
  {
   "cell_type": "code",
   "execution_count": 30,
   "metadata": {
    "execution": {
     "iopub.execute_input": "2023-07-18T17:42:07.617737Z",
     "iopub.status.busy": "2023-07-18T17:42:07.617085Z",
     "iopub.status.idle": "2023-07-18T17:42:07.642057Z",
     "shell.execute_reply": "2023-07-18T17:42:07.641013Z",
     "shell.execute_reply.started": "2023-07-18T17:42:07.617699Z"
    }
   },
   "outputs": [],
   "source": [
    "encoder_major=OneHotEncoder(drop=None)\n",
    "temp=pd.DataFrame(encoder_major.fit_transform(df[['STDNT_MAJOR']]).toarray())\n",
    "joblib.dump(encoder_major,'encoder_major.sav')\n",
    "temp=temp.add_prefix('GRAD')\n",
    "df=df.join(temp)\n",
    "df.drop('STDNT_MAJOR',axis=1,inplace=True)"
   ]
  },
  {
   "cell_type": "markdown",
   "metadata": {},
   "source": [
    "# STDNT_MINOR"
   ]
  },
  {
   "cell_type": "code",
   "execution_count": 31,
   "metadata": {
    "execution": {
     "iopub.execute_input": "2023-07-18T17:42:07.644073Z",
     "iopub.status.busy": "2023-07-18T17:42:07.643625Z",
     "iopub.status.idle": "2023-07-18T17:42:07.659020Z",
     "shell.execute_reply": "2023-07-18T17:42:07.657655Z",
     "shell.execute_reply.started": "2023-07-18T17:42:07.644030Z"
    }
   },
   "outputs": [
    {
     "data": {
      "text/plain": [
       "N                                3160\n",
       "Spanish                            26\n",
       "Psychology                         19\n",
       "Music                              19\n",
       "Foundations of Business            15\n",
       "Communication                      14\n",
       "History                            13\n",
       "Theatre Arts                       12\n",
       "Criminal Justice                   12\n",
       "Computer Science - Systems         10\n",
       "Early Childhood Education           9\n",
       "Mathematics                         7\n",
       "Professional Writing                6\n",
       "Marketing                           6\n",
       "Art History                         6\n",
       "Art                                 5\n",
       "Sociology                           5\n",
       "English Language/Literature         5\n",
       "Political Science                   4\n",
       "Chemistry                           4\n",
       "Accounting                          4\n",
       "Biology                             4\n",
       "French                              4\n",
       "Computer Info. Management           3\n",
       "Exercise Science                    3\n",
       "International Business              3\n",
       "Economics                           3\n",
       "Health Science                      3\n",
       "Asian Studies                       2\n",
       "Creative Writing                    2\n",
       "Military Sci & Adv Leadership       2\n",
       "African Studies                     2\n",
       "Management                          2\n",
       "Anthropology                        2\n",
       "Philosophy                          2\n",
       "Women's Studies                     1\n",
       "Finance                             1\n",
       "Name: STDNT_MINOR, dtype: int64"
      ]
     },
     "execution_count": 31,
     "metadata": {},
     "output_type": "execute_result"
    }
   ],
   "source": [
    "df['STDNT_MINOR'].value_counts()"
   ]
  },
  {
   "cell_type": "markdown",
   "metadata": {},
   "source": [
    "Poucos dados"
   ]
  },
  {
   "cell_type": "code",
   "execution_count": 32,
   "metadata": {
    "execution": {
     "iopub.execute_input": "2023-07-18T17:42:07.672285Z",
     "iopub.status.busy": "2023-07-18T17:42:07.671849Z",
     "iopub.status.idle": "2023-07-18T17:42:07.681865Z",
     "shell.execute_reply": "2023-07-18T17:42:07.680923Z",
     "shell.execute_reply.started": "2023-07-18T17:42:07.672251Z"
    }
   },
   "outputs": [],
   "source": [
    "df.drop('STDNT_MINOR',axis=1,inplace=True)"
   ]
  },
  {
   "cell_type": "markdown",
   "metadata": {},
   "source": [
    "# Housing_STS"
   ]
  },
  {
   "cell_type": "code",
   "execution_count": 33,
   "metadata": {
    "execution": {
     "iopub.execute_input": "2023-07-18T17:42:07.684887Z",
     "iopub.status.busy": "2023-07-18T17:42:07.683817Z",
     "iopub.status.idle": "2023-07-18T17:42:08.468513Z",
     "shell.execute_reply": "2023-07-18T17:42:08.467463Z",
     "shell.execute_reply.started": "2023-07-18T17:42:07.684836Z"
    }
   },
   "outputs": [
    {
     "name": "stdout",
     "output_type": "stream",
     "text": [
      "Off Campus    1981\n",
      "On Campus     1419\n",
      "Name: HOUSING_STS, dtype: int64\n",
      "nulls:  0\n"
     ]
    },
    {
     "data": {
      "text/html": [
       "<div>\n",
       "<style scoped>\n",
       "    .dataframe tbody tr th:only-of-type {\n",
       "        vertical-align: middle;\n",
       "    }\n",
       "\n",
       "    .dataframe tbody tr th {\n",
       "        vertical-align: top;\n",
       "    }\n",
       "\n",
       "    .dataframe thead th {\n",
       "        text-align: right;\n",
       "    }\n",
       "</style>\n",
       "<table border=\"1\" class=\"dataframe\">\n",
       "  <thead>\n",
       "    <tr style=\"text-align: right;\">\n",
       "      <th>evadiu_2sem</th>\n",
       "      <th>0</th>\n",
       "      <th>1</th>\n",
       "    </tr>\n",
       "    <tr>\n",
       "      <th>HOUSING_STS</th>\n",
       "      <th></th>\n",
       "      <th></th>\n",
       "    </tr>\n",
       "  </thead>\n",
       "  <tbody>\n",
       "    <tr>\n",
       "      <th>Off Campus</th>\n",
       "      <td>0.196365</td>\n",
       "      <td>0.803635</td>\n",
       "    </tr>\n",
       "    <tr>\n",
       "      <th>On Campus</th>\n",
       "      <td>0.235377</td>\n",
       "      <td>0.764623</td>\n",
       "    </tr>\n",
       "    <tr>\n",
       "      <th>All</th>\n",
       "      <td>0.212647</td>\n",
       "      <td>0.787353</td>\n",
       "    </tr>\n",
       "  </tbody>\n",
       "</table>\n",
       "</div>"
      ],
      "text/plain": [
       "evadiu_2sem         0         1\n",
       "HOUSING_STS                    \n",
       "Off Campus   0.196365  0.803635\n",
       "On Campus    0.235377  0.764623\n",
       "All          0.212647  0.787353"
      ]
     },
     "metadata": {},
     "output_type": "display_data"
    }
   ],
   "source": [
    " analise_categoricos('HOUSING_STS')"
   ]
  },
  {
   "cell_type": "code",
   "execution_count": 34,
   "metadata": {
    "execution": {
     "iopub.execute_input": "2023-07-18T17:42:08.470381Z",
     "iopub.status.busy": "2023-07-18T17:42:08.470058Z",
     "iopub.status.idle": "2023-07-18T17:42:08.480271Z",
     "shell.execute_reply": "2023-07-18T17:42:08.479107Z",
     "shell.execute_reply.started": "2023-07-18T17:42:08.470351Z"
    }
   },
   "outputs": [],
   "source": [
    "df['HOUSING_STS'].replace(['On Campus','Off Campus'],[1,0],inplace=True)"
   ]
  },
  {
   "cell_type": "markdown",
   "metadata": {},
   "source": [
    "# FATHER_HI_EDU_CD & FATHER_HI_EDU_DESC"
   ]
  },
  {
   "cell_type": "code",
   "execution_count": 35,
   "metadata": {
    "execution": {
     "iopub.execute_input": "2023-07-18T17:42:08.482374Z",
     "iopub.status.busy": "2023-07-18T17:42:08.481875Z",
     "iopub.status.idle": "2023-07-18T17:42:08.496739Z",
     "shell.execute_reply": "2023-07-18T17:42:08.495643Z",
     "shell.execute_reply.started": "2023-07-18T17:42:08.482343Z"
    }
   },
   "outputs": [
    {
     "name": "stdout",
     "output_type": "stream",
     "text": [
      "2.0    1336\n",
      "3.0    1309\n",
      "4.0     226\n",
      "1.0      97\n",
      "Name: FATHER_HI_EDU_CD, dtype: int64\n"
     ]
    },
    {
     "data": {
      "text/plain": [
       "High School                  1336\n",
       "College/Beyond               1309\n",
       "No Information                432\n",
       "Other/Unknown                 226\n",
       "Middle School/Junior High      97\n",
       "Name: FATHER_HI_EDU_DESC, dtype: int64"
      ]
     },
     "metadata": {},
     "output_type": "display_data"
    }
   ],
   "source": [
    "print(df['FATHER_HI_EDU_CD'].value_counts())\n",
    "display(df['FATHER_HI_EDU_DESC'].value_counts())"
   ]
  },
  {
   "cell_type": "code",
   "execution_count": 36,
   "metadata": {
    "execution": {
     "iopub.execute_input": "2023-07-18T17:42:08.498717Z",
     "iopub.status.busy": "2023-07-18T17:42:08.498266Z",
     "iopub.status.idle": "2023-07-18T17:42:08.510726Z",
     "shell.execute_reply": "2023-07-18T17:42:08.509587Z",
     "shell.execute_reply.started": "2023-07-18T17:42:08.498674Z"
    }
   },
   "outputs": [
    {
     "name": "stdout",
     "output_type": "stream",
     "text": [
      "432\n",
      "0\n"
     ]
    }
   ],
   "source": [
    "print(df['FATHER_HI_EDU_CD'].isnull().sum())\n",
    "print(df['FATHER_HI_EDU_DESC'].isnull().sum())"
   ]
  },
  {
   "cell_type": "markdown",
   "metadata": {},
   "source": [
    "No information em DESC é nulo em CD. Juntar eles com \"other/unknown\"\n",
    "High School , College/Beyon e Middle School/Junior High tem relações de crescimento em relação ao outro -> int em vez de OHC\n",
    "Other/unknown não tem essa informação -> levar a 0."
   ]
  },
  {
   "cell_type": "code",
   "execution_count": 37,
   "metadata": {
    "execution": {
     "iopub.execute_input": "2023-07-18T17:42:08.513612Z",
     "iopub.status.busy": "2023-07-18T17:42:08.513025Z",
     "iopub.status.idle": "2023-07-18T17:42:08.527245Z",
     "shell.execute_reply": "2023-07-18T17:42:08.526184Z",
     "shell.execute_reply.started": "2023-07-18T17:42:08.513542Z"
    }
   },
   "outputs": [],
   "source": [
    "df.drop(['FATHER_HI_EDU_DESC'],axis=1,inplace=True)\n",
    "df['FATHER_HI_EDU_CD'].fillna(0,inplace=True)\n",
    "df['FATHER_HI_EDU_CD'].replace([4],[0],inplace=True)"
   ]
  },
  {
   "cell_type": "code",
   "execution_count": 38,
   "metadata": {
    "execution": {
     "iopub.execute_input": "2023-07-18T17:42:08.528603Z",
     "iopub.status.busy": "2023-07-18T17:42:08.528285Z",
     "iopub.status.idle": "2023-07-18T17:42:09.745092Z",
     "shell.execute_reply": "2023-07-18T17:42:09.743907Z",
     "shell.execute_reply.started": "2023-07-18T17:42:08.528575Z"
    }
   },
   "outputs": [
    {
     "name": "stdout",
     "output_type": "stream",
     "text": [
      "2.0    1336\n",
      "3.0    1309\n",
      "0.0     658\n",
      "1.0      97\n",
      "Name: FATHER_HI_EDU_CD, dtype: int64\n",
      "nulls:  0\n"
     ]
    },
    {
     "data": {
      "text/html": [
       "<div>\n",
       "<style scoped>\n",
       "    .dataframe tbody tr th:only-of-type {\n",
       "        vertical-align: middle;\n",
       "    }\n",
       "\n",
       "    .dataframe tbody tr th {\n",
       "        vertical-align: top;\n",
       "    }\n",
       "\n",
       "    .dataframe thead th {\n",
       "        text-align: right;\n",
       "    }\n",
       "</style>\n",
       "<table border=\"1\" class=\"dataframe\">\n",
       "  <thead>\n",
       "    <tr style=\"text-align: right;\">\n",
       "      <th>evadiu_2sem</th>\n",
       "      <th>0</th>\n",
       "      <th>1</th>\n",
       "    </tr>\n",
       "    <tr>\n",
       "      <th>FATHER_HI_EDU_CD</th>\n",
       "      <th></th>\n",
       "      <th></th>\n",
       "    </tr>\n",
       "  </thead>\n",
       "  <tbody>\n",
       "    <tr>\n",
       "      <th>0.0</th>\n",
       "      <td>0.229483</td>\n",
       "      <td>0.770517</td>\n",
       "    </tr>\n",
       "    <tr>\n",
       "      <th>1.0</th>\n",
       "      <td>0.268041</td>\n",
       "      <td>0.731959</td>\n",
       "    </tr>\n",
       "    <tr>\n",
       "      <th>2.0</th>\n",
       "      <td>0.216317</td>\n",
       "      <td>0.783683</td>\n",
       "    </tr>\n",
       "    <tr>\n",
       "      <th>3.0</th>\n",
       "      <td>0.196333</td>\n",
       "      <td>0.803667</td>\n",
       "    </tr>\n",
       "    <tr>\n",
       "      <th>All</th>\n",
       "      <td>0.212647</td>\n",
       "      <td>0.787353</td>\n",
       "    </tr>\n",
       "  </tbody>\n",
       "</table>\n",
       "</div>"
      ],
      "text/plain": [
       "evadiu_2sem              0         1\n",
       "FATHER_HI_EDU_CD                    \n",
       "0.0               0.229483  0.770517\n",
       "1.0               0.268041  0.731959\n",
       "2.0               0.216317  0.783683\n",
       "3.0               0.196333  0.803667\n",
       "All               0.212647  0.787353"
      ]
     },
     "metadata": {},
     "output_type": "display_data"
    }
   ],
   "source": [
    "analise_categoricos('FATHER_HI_EDU_CD')"
   ]
  },
  {
   "cell_type": "markdown",
   "metadata": {},
   "source": [
    "# MOTHER_HI_EDU_CD & MOTHER_HI_EDU_DESC"
   ]
  },
  {
   "cell_type": "code",
   "execution_count": 39,
   "metadata": {
    "execution": {
     "iopub.execute_input": "2023-07-18T17:42:09.747092Z",
     "iopub.status.busy": "2023-07-18T17:42:09.746731Z",
     "iopub.status.idle": "2023-07-18T17:42:09.760222Z",
     "shell.execute_reply": "2023-07-18T17:42:09.759004Z",
     "shell.execute_reply.started": "2023-07-18T17:42:09.747060Z"
    }
   },
   "outputs": [
    {
     "name": "stdout",
     "output_type": "stream",
     "text": [
      "3.0    1500\n",
      "2.0    1223\n",
      "4.0     117\n",
      "1.0      71\n",
      "Name: MOTHER_HI_EDU_CD, dtype: int64\n"
     ]
    },
    {
     "data": {
      "text/plain": [
       "College/Beyond               1500\n",
       "High School                  1223\n",
       "No Information                489\n",
       "Other/Unknown                 117\n",
       "Middle School/Junior High      71\n",
       "Name: MOTHER_HI_EDU_DESC, dtype: int64"
      ]
     },
     "metadata": {},
     "output_type": "display_data"
    }
   ],
   "source": [
    "print(df['MOTHER_HI_EDU_CD'].value_counts())\n",
    "display(df['MOTHER_HI_EDU_DESC'].value_counts())"
   ]
  },
  {
   "cell_type": "code",
   "execution_count": 40,
   "metadata": {
    "execution": {
     "iopub.execute_input": "2023-07-18T17:42:09.763413Z",
     "iopub.status.busy": "2023-07-18T17:42:09.762293Z",
     "iopub.status.idle": "2023-07-18T17:42:09.774268Z",
     "shell.execute_reply": "2023-07-18T17:42:09.773298Z",
     "shell.execute_reply.started": "2023-07-18T17:42:09.763375Z"
    }
   },
   "outputs": [
    {
     "name": "stdout",
     "output_type": "stream",
     "text": [
      "489\n",
      "0\n"
     ]
    }
   ],
   "source": [
    "print(df['MOTHER_HI_EDU_CD'].isnull().sum())\n",
    "print(df['MOTHER_HI_EDU_DESC'].isnull().sum())"
   ]
  },
  {
   "cell_type": "markdown",
   "metadata": {},
   "source": [
    "No information em DESC é nulo em CD. Juntar eles com \"other/unknown\"\n",
    "High School , College/Beyon e Middle School/Junior High tem relações de crescimento em relação ao outro -> int em vez de OHC\n",
    "Other/unknown não tem essa informação -> levar a 0."
   ]
  },
  {
   "cell_type": "code",
   "execution_count": 41,
   "metadata": {
    "execution": {
     "iopub.execute_input": "2023-07-18T17:42:09.776608Z",
     "iopub.status.busy": "2023-07-18T17:42:09.776104Z",
     "iopub.status.idle": "2023-07-18T17:42:09.795076Z",
     "shell.execute_reply": "2023-07-18T17:42:09.793965Z",
     "shell.execute_reply.started": "2023-07-18T17:42:09.776537Z"
    }
   },
   "outputs": [],
   "source": [
    "df.drop(['MOTHER_HI_EDU_DESC'],axis=1,inplace=True)\n",
    "df['MOTHER_HI_EDU_CD'].fillna(0,inplace=True)\n",
    "df['MOTHER_HI_EDU_CD'].replace([4],[0],inplace=True)"
   ]
  },
  {
   "cell_type": "code",
   "execution_count": 42,
   "metadata": {
    "execution": {
     "iopub.execute_input": "2023-07-18T17:42:09.796874Z",
     "iopub.status.busy": "2023-07-18T17:42:09.796463Z",
     "iopub.status.idle": "2023-07-18T17:42:11.041785Z",
     "shell.execute_reply": "2023-07-18T17:42:11.040586Z",
     "shell.execute_reply.started": "2023-07-18T17:42:09.796843Z"
    }
   },
   "outputs": [
    {
     "name": "stdout",
     "output_type": "stream",
     "text": [
      "3.0    1500\n",
      "2.0    1223\n",
      "0.0     606\n",
      "1.0      71\n",
      "Name: MOTHER_HI_EDU_CD, dtype: int64\n",
      "nulls:  0\n"
     ]
    },
    {
     "data": {
      "text/html": [
       "<div>\n",
       "<style scoped>\n",
       "    .dataframe tbody tr th:only-of-type {\n",
       "        vertical-align: middle;\n",
       "    }\n",
       "\n",
       "    .dataframe tbody tr th {\n",
       "        vertical-align: top;\n",
       "    }\n",
       "\n",
       "    .dataframe thead th {\n",
       "        text-align: right;\n",
       "    }\n",
       "</style>\n",
       "<table border=\"1\" class=\"dataframe\">\n",
       "  <thead>\n",
       "    <tr style=\"text-align: right;\">\n",
       "      <th>evadiu_2sem</th>\n",
       "      <th>0</th>\n",
       "      <th>1</th>\n",
       "    </tr>\n",
       "    <tr>\n",
       "      <th>MOTHER_HI_EDU_CD</th>\n",
       "      <th></th>\n",
       "      <th></th>\n",
       "    </tr>\n",
       "  </thead>\n",
       "  <tbody>\n",
       "    <tr>\n",
       "      <th>0.0</th>\n",
       "      <td>0.232673</td>\n",
       "      <td>0.767327</td>\n",
       "    </tr>\n",
       "    <tr>\n",
       "      <th>1.0</th>\n",
       "      <td>0.225352</td>\n",
       "      <td>0.774648</td>\n",
       "    </tr>\n",
       "    <tr>\n",
       "      <th>2.0</th>\n",
       "      <td>0.216680</td>\n",
       "      <td>0.783320</td>\n",
       "    </tr>\n",
       "    <tr>\n",
       "      <th>3.0</th>\n",
       "      <td>0.200667</td>\n",
       "      <td>0.799333</td>\n",
       "    </tr>\n",
       "    <tr>\n",
       "      <th>All</th>\n",
       "      <td>0.212647</td>\n",
       "      <td>0.787353</td>\n",
       "    </tr>\n",
       "  </tbody>\n",
       "</table>\n",
       "</div>"
      ],
      "text/plain": [
       "evadiu_2sem              0         1\n",
       "MOTHER_HI_EDU_CD                    \n",
       "0.0               0.232673  0.767327\n",
       "1.0               0.225352  0.774648\n",
       "2.0               0.216680  0.783320\n",
       "3.0               0.200667  0.799333\n",
       "All               0.212647  0.787353"
      ]
     },
     "metadata": {},
     "output_type": "display_data"
    }
   ],
   "source": [
    "analise_categoricos('MOTHER_HI_EDU_CD')"
   ]
  },
  {
   "cell_type": "markdown",
   "metadata": {},
   "source": [
    "# CORE_COURSE_NAME_* e CORE_COURSE_GRADE_* "
   ]
  },
  {
   "cell_type": "code",
   "execution_count": 43,
   "metadata": {
    "execution": {
     "iopub.execute_input": "2023-07-18T17:42:11.043651Z",
     "iopub.status.busy": "2023-07-18T17:42:11.043220Z",
     "iopub.status.idle": "2023-07-18T17:42:11.054413Z",
     "shell.execute_reply": "2023-07-18T17:42:11.053147Z",
     "shell.execute_reply.started": "2023-07-18T17:42:11.043616Z"
    }
   },
   "outputs": [
    {
     "name": "stdout",
     "output_type": "stream",
     "text": [
      "nulls  0\n",
      "ENGL 1101     624\n",
      "COMM 1110     278\n",
      "HIST 2111     271\n",
      "MATH 1111     226\n",
      "CHEM 1211     202\n",
      "             ... \n",
      "MATH 2125       1\n",
      "PHYS 2311       1\n",
      "GEOL 1121L      1\n",
      "THEA 1100I      1\n",
      "ENGL 2111       1\n",
      "Name: CORE_COURSE_NAME_1_F, Length: 69, dtype: int64\n"
     ]
    }
   ],
   "source": [
    "print('nulls ', df['CORE_COURSE_NAME_1_F'].isnull().sum())\n",
    "print(df['CORE_COURSE_NAME_1_F'].value_counts())"
   ]
  },
  {
   "cell_type": "code",
   "execution_count": 44,
   "metadata": {
    "execution": {
     "iopub.execute_input": "2023-07-18T17:42:11.056014Z",
     "iopub.status.busy": "2023-07-18T17:42:11.055677Z",
     "iopub.status.idle": "2023-07-18T17:42:11.070866Z",
     "shell.execute_reply": "2023-07-18T17:42:11.069666Z",
     "shell.execute_reply.started": "2023-07-18T17:42:11.055985Z"
    }
   },
   "outputs": [
    {
     "name": "stdout",
     "output_type": "stream",
     "text": [
      "nulls  0\n",
      "C          1024\n",
      "B           941\n",
      "D           538\n",
      "F           440\n",
      "A           322\n",
      "NOT REP     106\n",
      "INCOMPL      29\n",
      "Name: CORE_COURSE_GRADE_1_F, dtype: int64\n"
     ]
    }
   ],
   "source": [
    "print('nulls ', df['CORE_COURSE_GRADE_1_F'].isnull().sum())\n",
    "print(df['CORE_COURSE_GRADE_1_F'].value_counts())"
   ]
  },
  {
   "cell_type": "code",
   "execution_count": 45,
   "metadata": {
    "execution": {
     "iopub.execute_input": "2023-07-18T17:42:11.072503Z",
     "iopub.status.busy": "2023-07-18T17:42:11.072150Z",
     "iopub.status.idle": "2023-07-18T17:42:11.087299Z",
     "shell.execute_reply": "2023-07-18T17:42:11.086149Z",
     "shell.execute_reply.started": "2023-07-18T17:42:11.072474Z"
    }
   },
   "outputs": [
    {
     "name": "stdout",
     "output_type": "stream",
     "text": [
      "nulls  2755\n",
      "ENGL 1101                   81\n",
      "ITDS 2749                   57\n",
      "MATH 1111                   47\n",
      "MATH 1101                   39\n",
      "MUSC 1100                   38\n",
      "COMM 1110                   33\n",
      "POLS 1101                   32\n",
      "ITDS 2735                   30\n",
      "HIST 2111                   27\n",
      "PSYC 1101                   23\n",
      "CHEM 1211L                  23\n",
      "CHEM 1151L                  19\n",
      "THEA 1100                   19\n",
      "SPAN 1001                   19\n",
      "CPSC 1301L                  16\n",
      "MATH 1113                   15\n",
      "SOCI 1101                   14\n",
      "LEAD 1705                   14\n",
      "HIST 2112                   11\n",
      "ITDS 2748                   10\n",
      "STAT 1127                    7\n",
      "SPAN 1002                    6\n",
      "ECON 2106                    6\n",
      "MATH 1131                    5\n",
      "ENGL 1102                    5\n",
      "ARTH 1100                    4\n",
      "POLS 1101H                   3\n",
      "FREN 1001                    3\n",
      "MATH 1125                    3\n",
      "HIST 1111                    3\n",
      "BIOL 1215K                   3\n",
      "CPSC 1105                    3\n",
      "CHEM 1211                    3\n",
      "ITDS 1146                    2\n",
      "CPSC 1301                    2\n",
      "ECON 2105                    2\n",
      "COMM 1110I                   2\n",
      "MATH 2115                    1\n",
      "ITDS 2746                    1\n",
      "FREN 1002                    1\n",
      "HIST 1112                    1\n",
      "GEOL 1121                    1\n",
      "HIST 1112I                   1\n",
      "GEOL 1110                    1\n",
      "ENVS 1105I                   1\n",
      "ITDS 2726                    1\n",
      "ITDS 1145                    1\n",
      "PHYS 1325                    1\n",
      "Life and Career Planning     1\n",
      "ITDS 1156                    1\n",
      "POLS 2401                    1\n",
      "JAPN 1001                    1\n",
      "CHEM 1151                    1\n",
      "Name: CORE_COURSE_NAME_5_F, dtype: int64\n"
     ]
    }
   ],
   "source": [
    "print('nulls ', df['CORE_COURSE_NAME_5_F'].isnull().sum())\n",
    "print(df['CORE_COURSE_NAME_5_F'].value_counts())"
   ]
  },
  {
   "cell_type": "code",
   "execution_count": 46,
   "metadata": {
    "execution": {
     "iopub.execute_input": "2023-07-18T17:42:11.088937Z",
     "iopub.status.busy": "2023-07-18T17:42:11.088608Z",
     "iopub.status.idle": "2023-07-18T17:42:11.104309Z",
     "shell.execute_reply": "2023-07-18T17:42:11.103376Z",
     "shell.execute_reply.started": "2023-07-18T17:42:11.088908Z"
    }
   },
   "outputs": [
    {
     "name": "stdout",
     "output_type": "stream",
     "text": [
      "nulls  439\n",
      "ENGL 1102     617\n",
      "COMM 1110     208\n",
      "POLS 1101     183\n",
      "HIST 2111     164\n",
      "HIST 2112     150\n",
      "             ... \n",
      "POLS 1101H      1\n",
      "GEOL 2225       1\n",
      "MATH 2115       1\n",
      "COMM 1110H      1\n",
      "MATH 2125       1\n",
      "Name: CORE_COURSE_NAME_2_S, Length: 69, dtype: int64\n"
     ]
    }
   ],
   "source": [
    "print('nulls ', df['CORE_COURSE_NAME_2_S'].isnull().sum())\n",
    "print(df['CORE_COURSE_NAME_2_S'].value_counts())"
   ]
  },
  {
   "cell_type": "markdown",
   "metadata": {},
   "source": [
    "Referentes ao nome das matérias e as notas. São dados interessantes se atrelarmos a materia e a nota. Mas iria aumentar muito a dimensionalidade dos dados (em especial discriminar materiais). A quantidade de notas também depende das materias puxadas. Para simplificar o problema é mais fácil levarmos em conta apenas a quantidade de creditos puxados e de creditos aprovados."
   ]
  },
  {
   "cell_type": "code",
   "execution_count": 47,
   "metadata": {
    "execution": {
     "iopub.execute_input": "2023-07-18T17:42:11.106846Z",
     "iopub.status.busy": "2023-07-18T17:42:11.106001Z",
     "iopub.status.idle": "2023-07-18T17:42:11.117351Z",
     "shell.execute_reply": "2023-07-18T17:42:11.116148Z",
     "shell.execute_reply.started": "2023-07-18T17:42:11.106811Z"
    }
   },
   "outputs": [],
   "source": [
    "df.drop(['CORE_COURSE_NAME_1_F','CORE_COURSE_GRADE_1_F','CORE_COURSE_NAME_2_F','CORE_COURSE_GRADE_2_F'\n",
    "    ,'CORE_COURSE_NAME_3_F','CORE_COURSE_GRADE_3_F','CORE_COURSE_NAME_4_F','CORE_COURSE_GRADE_4_F'\n",
    "    ,'CORE_COURSE_NAME_5_F','CORE_COURSE_GRADE_5_F','CORE_COURSE_NAME_6_F','CORE_COURSE_GRADE_6_F'],axis=1,inplace=True)\n"
   ]
  },
  {
   "cell_type": "code",
   "execution_count": 48,
   "metadata": {
    "execution": {
     "iopub.execute_input": "2023-07-18T17:42:11.119783Z",
     "iopub.status.busy": "2023-07-18T17:42:11.119364Z",
     "iopub.status.idle": "2023-07-18T17:42:11.130252Z",
     "shell.execute_reply": "2023-07-18T17:42:11.129289Z",
     "shell.execute_reply.started": "2023-07-18T17:42:11.119740Z"
    }
   },
   "outputs": [],
   "source": [
    "df.drop(['CORE_COURSE_NAME_1_S','CORE_COURSE_GRADE_1_S','CORE_COURSE_NAME_2_S','CORE_COURSE_GRADE_2_S'\n",
    "    ,'CORE_COURSE_NAME_3_S','CORE_COURSE_GRADE_3_S','CORE_COURSE_NAME_4_S','CORE_COURSE_GRADE_4_S'\n",
    "    ,'CORE_COURSE_NAME_5_S','CORE_COURSE_GRADE_5_S','CORE_COURSE_NAME_6_S','CORE_COURSE_GRADE_6_S'],axis=1,inplace=True)"
   ]
  },
  {
   "cell_type": "markdown",
   "metadata": {},
   "source": [
    "# HIGH_SCHL_NAME "
   ]
  },
  {
   "cell_type": "code",
   "execution_count": 49,
   "metadata": {
    "execution": {
     "iopub.execute_input": "2023-07-18T17:42:11.133918Z",
     "iopub.status.busy": "2023-07-18T17:42:11.133543Z",
     "iopub.status.idle": "2023-07-18T17:42:11.148808Z",
     "shell.execute_reply": "2023-07-18T17:42:11.147460Z",
     "shell.execute_reply.started": "2023-07-18T17:42:11.133888Z"
    }
   },
   "outputs": [
    {
     "data": {
      "text/plain": [
       "SCHOOL 11     249\n",
       "SCHOOL 130    245\n",
       "SCHOOL 10     238\n",
       "SCHOOL 1      209\n",
       "SCHOOL 2      129\n",
       "             ... \n",
       "SCHOOL 398      1\n",
       "SCHOOL 344      1\n",
       "SCHOOL 495      1\n",
       "SCHOOL 493      1\n",
       "SCHOOL 414      1\n",
       "Name: HIGH_SCHL_NAME, Length: 439, dtype: int64"
      ]
     },
     "execution_count": 49,
     "metadata": {},
     "output_type": "execute_result"
    }
   ],
   "source": [
    "df['HIGH_SCHL_NAME'].value_counts()"
   ]
  },
  {
   "cell_type": "code",
   "execution_count": 50,
   "metadata": {
    "execution": {
     "iopub.execute_input": "2023-07-18T17:42:11.150081Z",
     "iopub.status.busy": "2023-07-18T17:42:11.149772Z",
     "iopub.status.idle": "2023-07-18T17:42:11.164656Z",
     "shell.execute_reply": "2023-07-18T17:42:11.163768Z",
     "shell.execute_reply.started": "2023-07-18T17:42:11.150054Z"
    }
   },
   "outputs": [
    {
     "name": "stdout",
     "output_type": "stream",
     "text": [
      "439\n"
     ]
    },
    {
     "data": {
      "text/plain": [
       "SCHOOL 130    245\n",
       "SCHOOL 10     238\n",
       "SCHOOL 1      209\n",
       "SCHOOL 2      129\n",
       "SCHOOL 34     106\n",
       "SCHOOL 27      71\n",
       "SCHOOL 9       54\n",
       "SCHOOL 7       53\n",
       "SCHOOL 87      37\n",
       "SCHOOL 14      36\n",
       "SCHOOL 5       33\n",
       "SCHOOL 22      32\n",
       "SCHOOL 13      31\n",
       "SCHOOL 24      31\n",
       "SCHOOL 98      29\n",
       "SCHOOL 153     29\n",
       "SCHOOL 17      29\n",
       "SCHOOL 141     28\n",
       "SCHOOL 70      25\n",
       "Name: HIGH_SCHL_NAME, dtype: int64"
      ]
     },
     "execution_count": 50,
     "metadata": {},
     "output_type": "execute_result"
    }
   ],
   "source": [
    "print(df['HIGH_SCHL_NAME'].nunique())\n",
    "df['HIGH_SCHL_NAME'].value_counts()[1:20]"
   ]
  },
  {
   "cell_type": "markdown",
   "metadata": {},
   "source": [
    "Utilizar School geraria uma dimensionalidade alta e temos pouco dados para cada escolar.\n"
   ]
  },
  {
   "cell_type": "code",
   "execution_count": 51,
   "metadata": {
    "execution": {
     "iopub.execute_input": "2023-07-18T17:42:11.167018Z",
     "iopub.status.busy": "2023-07-18T17:42:11.165858Z",
     "iopub.status.idle": "2023-07-18T17:42:11.173807Z",
     "shell.execute_reply": "2023-07-18T17:42:11.172868Z",
     "shell.execute_reply.started": "2023-07-18T17:42:11.166973Z"
    }
   },
   "outputs": [],
   "source": [
    "df.drop(['HIGH_SCHL_NAME'],axis=1,inplace=True)\n"
   ]
  },
  {
   "cell_type": "markdown",
   "metadata": {},
   "source": [
    "# DEGREE GROUP CD & DEGREE_GROUP_DESC"
   ]
  },
  {
   "cell_type": "code",
   "execution_count": 52,
   "metadata": {
    "execution": {
     "iopub.execute_input": "2023-07-18T17:42:11.175883Z",
     "iopub.status.busy": "2023-07-18T17:42:11.175050Z",
     "iopub.status.idle": "2023-07-18T17:42:11.192896Z",
     "shell.execute_reply": "2023-07-18T17:42:11.191697Z",
     "shell.execute_reply.started": "2023-07-18T17:42:11.175850Z"
    }
   },
   "outputs": [
    {
     "name": "stdout",
     "output_type": "stream",
     "text": [
      "B    3384\n",
      "A      12\n",
      "V       4\n",
      "Name: DEGREE_GROUP_CD, dtype: int64\n",
      "Bachelors           3384\n",
      "Associate             12\n",
      "Career Associate       4\n",
      "Name: DEGREE_GROUP_DESC, dtype: int64\n"
     ]
    }
   ],
   "source": [
    "print(df['DEGREE_GROUP_CD'].value_counts())\n",
    "print(df['DEGREE_GROUP_DESC'].value_counts())"
   ]
  },
  {
   "cell_type": "markdown",
   "metadata": {},
   "source": [
    "Praticamente todos dados são de um único valor, com 12 amostras em um segundo valor e 4 amostras em um terceiro."
   ]
  },
  {
   "cell_type": "code",
   "execution_count": 53,
   "metadata": {
    "execution": {
     "iopub.execute_input": "2023-07-18T17:42:11.196972Z",
     "iopub.status.busy": "2023-07-18T17:42:11.196596Z",
     "iopub.status.idle": "2023-07-18T17:42:11.206037Z",
     "shell.execute_reply": "2023-07-18T17:42:11.205127Z",
     "shell.execute_reply.started": "2023-07-18T17:42:11.196941Z"
    }
   },
   "outputs": [],
   "source": [
    "df.drop(['DEGREE_GROUP_CD','DEGREE_GROUP_DESC'],axis=1,inplace=True)"
   ]
  },
  {
   "cell_type": "markdown",
   "metadata": {},
   "source": [
    "# Númericos"
   ]
  },
  {
   "cell_type": "markdown",
   "metadata": {},
   "source": [
    "# Student Age"
   ]
  },
  {
   "cell_type": "code",
   "execution_count": 54,
   "metadata": {
    "execution": {
     "iopub.execute_input": "2023-07-18T17:42:11.208106Z",
     "iopub.status.busy": "2023-07-18T17:42:11.207173Z",
     "iopub.status.idle": "2023-07-18T17:42:11.557218Z",
     "shell.execute_reply": "2023-07-18T17:42:11.556014Z",
     "shell.execute_reply.started": "2023-07-18T17:42:11.208074Z"
    }
   },
   "outputs": [
    {
     "name": "stdout",
     "output_type": "stream",
     "text": [
      "18    2860\n",
      "17     309\n",
      "19     190\n",
      "20      14\n",
      "16       8\n",
      "21       7\n",
      "22       4\n",
      "23       3\n",
      "25       3\n",
      "26       1\n",
      "24       1\n",
      "Name: STDNT_AGE, dtype: int64\n",
      "0\n"
     ]
    },
    {
     "data": {
      "image/png": "[encoded data removed]",
      "text/plain": [
       "<Figure size 4000x500 with 8 Axes>"
      ]
     },
     "metadata": {},
     "output_type": "display_data"
    },
    {
     "data": {
      "image/png": "[encoded data removed]",
      "text/plain": [
       "<Figure size 3000x500 with 6 Axes>"
      ]
     },
     "metadata": {},
     "output_type": "display_data"
    },
    {
     "data": {
      "image/png": "[encoded data removed]",
      "text/plain": [
       "<Figure size 1000x500 with 2 Axes>"
      ]
     },
     "metadata": {},
     "output_type": "display_data"
    },
    {
     "data": {
      "image/png": "[encoded data removed]",
      "text/plain": [
       "<Figure size 1000x500 with 2 Axes>"
      ]
     },
     "metadata": {},
     "output_type": "display_data"
    },
    {
     "data": {
      "image/png": "[encoded data removed]",
      "text/plain": [
       "<Figure size 9000x500 with 18 Axes>"
      ]
     },
     "metadata": {},
     "output_type": "display_data"
    },
    {
     "data": {
      "image/png": "[encoded data removed]",
      "text/plain": [
       "<Figure size 1000x500 with 2 Axes>"
      ]
     },
     "metadata": {},
     "output_type": "display_data"
    },
    {
     "data": {
      "image/png": "[encoded data removed]",
      "text/plain": [
       "<Figure size 2000x500 with 4 Axes>"
      ]
     },
     "metadata": {},
     "output_type": "display_data"
    },
    {
     "data": {
      "image/png": "[encoded data removed]",
      "text/plain": [
       "<Figure size 2000x500 with 4 Axes>"
      ]
     },
     "metadata": {},
     "output_type": "display_data"
    }
   ],
   "source": [
    "print(df['STDNT_AGE'].value_counts())\n",
    "print(df['STDNT_AGE'].isnull().sum())\n",
    "sns.histplot(df['STDNT_AGE'],kde=False)\n",
    "plt.title('distribuicao idade')\n",
    "plt.ylabel('numero de ocorrencias')\n",
    "plt.xlabel('idade')\n",
    "plt.show()\n"
   ]
  },
  {
   "cell_type": "markdown",
   "metadata": {},
   "source": [
    "Dados concentrados em 18, com quantia menor em 17 e 19. As outras idades as quantias são muito pequenas.\n",
    "Podemos dividir entre abaixo de 18, 18 e acima de 18. Ou eliminar o atributo.\n",
    "A solução mais simples que evita problemas de idades muito discrepantes é eliminar."
   ]
  },
  {
   "cell_type": "code",
   "execution_count": 55,
   "metadata": {
    "execution": {
     "iopub.execute_input": "2023-07-18T17:42:11.558983Z",
     "iopub.status.busy": "2023-07-18T17:42:11.558630Z",
     "iopub.status.idle": "2023-07-18T17:42:11.566152Z",
     "shell.execute_reply": "2023-07-18T17:42:11.564827Z",
     "shell.execute_reply.started": "2023-07-18T17:42:11.558953Z"
    }
   },
   "outputs": [],
   "source": [
    "df.drop('STDNT_AGE',axis=1,inplace=True)\n",
    "\n",
    "#TESTAR BIN <18, 18 e <18"
   ]
  },
  {
   "cell_type": "markdown",
   "metadata": {},
   "source": [
    "# STDNT_TEST_ENTRANCE1 & STDNT_TEST_ENTRANCE2 & STUDENT_ENTRANCE_COMB"
   ]
  },
  {
   "cell_type": "code",
   "execution_count": 56,
   "metadata": {
    "execution": {
     "iopub.execute_input": "2023-07-18T17:42:11.568037Z",
     "iopub.status.busy": "2023-07-18T17:42:11.567698Z",
     "iopub.status.idle": "2023-07-18T17:42:11.596664Z",
     "shell.execute_reply": "2023-07-18T17:42:11.595408Z",
     "shell.execute_reply.started": "2023-07-18T17:42:11.568008Z"
    }
   },
   "outputs": [
    {
     "data": {
      "text/html": [
       "<div>\n",
       "<style scoped>\n",
       "    .dataframe tbody tr th:only-of-type {\n",
       "        vertical-align: middle;\n",
       "    }\n",
       "\n",
       "    .dataframe tbody tr th {\n",
       "        vertical-align: top;\n",
       "    }\n",
       "\n",
       "    .dataframe thead th {\n",
       "        text-align: right;\n",
       "    }\n",
       "</style>\n",
       "<table border=\"1\" class=\"dataframe\">\n",
       "  <thead>\n",
       "    <tr style=\"text-align: right;\">\n",
       "      <th></th>\n",
       "      <th>STDNT_TEST_ENTRANCE1</th>\n",
       "      <th>STDNT_TEST_ENTRANCE2</th>\n",
       "      <th>STDNT_TEST_ENTRANCE_COMB</th>\n",
       "    </tr>\n",
       "  </thead>\n",
       "  <tbody>\n",
       "    <tr>\n",
       "      <th>0</th>\n",
       "      <td>NaN</td>\n",
       "      <td>1150.0</td>\n",
       "      <td>1150.0</td>\n",
       "    </tr>\n",
       "    <tr>\n",
       "      <th>1</th>\n",
       "      <td>26.0</td>\n",
       "      <td>NaN</td>\n",
       "      <td>1190.0</td>\n",
       "    </tr>\n",
       "    <tr>\n",
       "      <th>2</th>\n",
       "      <td>NaN</td>\n",
       "      <td>1020.0</td>\n",
       "      <td>1030.0</td>\n",
       "    </tr>\n",
       "    <tr>\n",
       "      <th>3</th>\n",
       "      <td>NaN</td>\n",
       "      <td>1210.0</td>\n",
       "      <td>1220.0</td>\n",
       "    </tr>\n",
       "    <tr>\n",
       "      <th>4</th>\n",
       "      <td>NaN</td>\n",
       "      <td>1200.0</td>\n",
       "      <td>1190.0</td>\n",
       "    </tr>\n",
       "    <tr>\n",
       "      <th>...</th>\n",
       "      <td>...</td>\n",
       "      <td>...</td>\n",
       "      <td>...</td>\n",
       "    </tr>\n",
       "    <tr>\n",
       "      <th>3395</th>\n",
       "      <td>NaN</td>\n",
       "      <td>800.0</td>\n",
       "      <td>790.0</td>\n",
       "    </tr>\n",
       "    <tr>\n",
       "      <th>3396</th>\n",
       "      <td>20.0</td>\n",
       "      <td>NaN</td>\n",
       "      <td>950.0</td>\n",
       "    </tr>\n",
       "    <tr>\n",
       "      <th>3397</th>\n",
       "      <td>NaN</td>\n",
       "      <td>1020.0</td>\n",
       "      <td>1030.0</td>\n",
       "    </tr>\n",
       "    <tr>\n",
       "      <th>3398</th>\n",
       "      <td>21.0</td>\n",
       "      <td>NaN</td>\n",
       "      <td>990.0</td>\n",
       "    </tr>\n",
       "    <tr>\n",
       "      <th>3399</th>\n",
       "      <td>NaN</td>\n",
       "      <td>890.0</td>\n",
       "      <td>870.0</td>\n",
       "    </tr>\n",
       "  </tbody>\n",
       "</table>\n",
       "<p>3400 rows × 3 columns</p>\n",
       "</div>"
      ],
      "text/plain": [
       "      STDNT_TEST_ENTRANCE1  STDNT_TEST_ENTRANCE2  STDNT_TEST_ENTRANCE_COMB\n",
       "0                      NaN                1150.0                    1150.0\n",
       "1                     26.0                   NaN                    1190.0\n",
       "2                      NaN                1020.0                    1030.0\n",
       "3                      NaN                1210.0                    1220.0\n",
       "4                      NaN                1200.0                    1190.0\n",
       "...                    ...                   ...                       ...\n",
       "3395                   NaN                 800.0                     790.0\n",
       "3396                  20.0                   NaN                     950.0\n",
       "3397                   NaN                1020.0                    1030.0\n",
       "3398                  21.0                   NaN                     990.0\n",
       "3399                   NaN                 890.0                     870.0\n",
       "\n",
       "[3400 rows x 3 columns]"
      ]
     },
     "execution_count": 56,
     "metadata": {},
     "output_type": "execute_result"
    }
   ],
   "source": [
    "df[['STDNT_TEST_ENTRANCE1','STDNT_TEST_ENTRANCE2','STDNT_TEST_ENTRANCE_COMB']]"
   ]
  },
  {
   "cell_type": "code",
   "execution_count": 57,
   "metadata": {
    "execution": {
     "iopub.execute_input": "2023-07-18T17:42:11.599000Z",
     "iopub.status.busy": "2023-07-18T17:42:11.598270Z",
     "iopub.status.idle": "2023-07-18T17:42:11.611580Z",
     "shell.execute_reply": "2023-07-18T17:42:11.610341Z",
     "shell.execute_reply.started": "2023-07-18T17:42:11.598955Z"
    }
   },
   "outputs": [
    {
     "data": {
      "text/plain": [
       "STDNT_TEST_ENTRANCE1        2294\n",
       "STDNT_TEST_ENTRANCE2         908\n",
       "STDNT_TEST_ENTRANCE_COMB     518\n",
       "dtype: int64"
      ]
     },
     "execution_count": 57,
     "metadata": {},
     "output_type": "execute_result"
    }
   ],
   "source": [
    "df[['STDNT_TEST_ENTRANCE1','STDNT_TEST_ENTRANCE2','STDNT_TEST_ENTRANCE_COMB']].isnull().sum()"
   ]
  },
  {
   "cell_type": "code",
   "execution_count": 58,
   "metadata": {
    "execution": {
     "iopub.execute_input": "2023-07-18T17:42:11.614057Z",
     "iopub.status.busy": "2023-07-18T17:42:11.613668Z",
     "iopub.status.idle": "2023-07-18T17:42:11.897408Z",
     "shell.execute_reply": "2023-07-18T17:42:11.896230Z",
     "shell.execute_reply.started": "2023-07-18T17:42:11.614009Z"
    }
   },
   "outputs": [
    {
     "data": {
      "text/plain": [
       "<matplotlib.collections.PathCollection at 0x27b222afc70>"
      ]
     },
     "execution_count": 58,
     "metadata": {},
     "output_type": "execute_result"
    }
   ],
   "source": [
    "plt.scatter(df['STDNT_TEST_ENTRANCE1'],df['STDNT_TEST_ENTRANCE_COMB'])"
   ]
  },
  {
   "cell_type": "code",
   "execution_count": 59,
   "metadata": {
    "execution": {
     "iopub.execute_input": "2023-07-18T17:42:11.899942Z",
     "iopub.status.busy": "2023-07-18T17:42:11.899037Z",
     "iopub.status.idle": "2023-07-18T17:42:12.194135Z",
     "shell.execute_reply": "2023-07-18T17:42:12.192790Z",
     "shell.execute_reply.started": "2023-07-18T17:42:11.899907Z"
    }
   },
   "outputs": [
    {
     "data": {
      "text/plain": [
       "<matplotlib.collections.PathCollection at 0x27b2223e0a0>"
      ]
     },
     "execution_count": 59,
     "metadata": {},
     "output_type": "execute_result"
    }
   ],
   "source": [
    "plt.scatter(df['STDNT_TEST_ENTRANCE2'],df['STDNT_TEST_ENTRANCE_COMB'])"
   ]
  },
  {
   "cell_type": "code",
   "execution_count": 60,
   "metadata": {
    "execution": {
     "iopub.execute_input": "2023-07-18T17:42:12.195856Z",
     "iopub.status.busy": "2023-07-18T17:42:12.195510Z",
     "iopub.status.idle": "2023-07-18T17:42:12.362452Z",
     "shell.execute_reply": "2023-07-18T17:42:12.361203Z",
     "shell.execute_reply.started": "2023-07-18T17:42:12.195827Z"
    }
   },
   "outputs": [
    {
     "name": "stderr",
     "output_type": "stream",
     "text": [
      "C:\\Users\\leonardo.reigoto\\Anaconda3\\lib\\site-packages\\seaborn\\_decorators.py:36: FutureWarning: Pass the following variable as a keyword arg: x. From version 0.12, the only valid positional argument will be `data`, and passing other arguments without an explicit keyword will result in an error or misinterpretation.\n",
      "  warnings.warn(\n"
     ]
    },
    {
     "data": {
      "text/plain": [
       "<AxesSubplot:xlabel='STDNT_TEST_ENTRANCE_COMB'>"
      ]
     },
     "execution_count": 60,
     "metadata": {},
     "output_type": "execute_result"
    }
   ],
   "source": [
    "sns.boxplot(df['STDNT_TEST_ENTRANCE_COMB'])"
   ]
  },
  {
   "cell_type": "markdown",
   "metadata": {},
   "source": [
    "Muitos dados faltantes e não há muitas informações sobre os campos. Melhor utilizar excluir essas variáveis"
   ]
  },
  {
   "cell_type": "code",
   "execution_count": 61,
   "metadata": {
    "execution": {
     "iopub.execute_input": "2023-07-18T17:42:12.364453Z",
     "iopub.status.busy": "2023-07-18T17:42:12.364008Z",
     "iopub.status.idle": "2023-07-18T17:42:12.373321Z",
     "shell.execute_reply": "2023-07-18T17:42:12.372055Z",
     "shell.execute_reply.started": "2023-07-18T17:42:12.364403Z"
    }
   },
   "outputs": [],
   "source": [
    "df.drop(['STDNT_TEST_ENTRANCE1','STDNT_TEST_ENTRANCE2','STDNT_TEST_ENTRANCE_COMB'],axis=1,inplace=True)"
   ]
  },
  {
   "cell_type": "code",
   "execution_count": 62,
   "metadata": {
    "execution": {
     "iopub.execute_input": "2023-07-18T17:42:12.375989Z",
     "iopub.status.busy": "2023-07-18T17:42:12.374956Z",
     "iopub.status.idle": "2023-07-18T17:42:12.393820Z",
     "shell.execute_reply": "2023-07-18T17:42:12.392481Z",
     "shell.execute_reply.started": "2023-07-18T17:42:12.375944Z"
    }
   },
   "outputs": [
    {
     "data": {
      "text/plain": [
       "STDNT_GENDER                 int64\n",
       "IN_STATE_FLAG                int64\n",
       "FIRST_TERM                   int64\n",
       "SECOND_TERM                  int64\n",
       "HOUSING_STS                  int64\n",
       "DISTANCE_FROM_HOME         float64\n",
       "HIGH_SCHL_GPA              float64\n",
       "FATHER_HI_EDU_CD           float64\n",
       "MOTHER_HI_EDU_CD           float64\n",
       "FIRST_TERM_ATTEMPT_HRS       int64\n",
       "FIRST_TERM_EARNED_HRS        int64\n",
       "SECOND_TERM_ATTEMPT_HRS    float64\n",
       "SECOND_TERM_EARNED_HRS     float64\n",
       "GROSS_FIN_NEED               int64\n",
       "COST_OF_ATTEND               int64\n",
       "EST_FAM_CONTRIBUTION         int64\n",
       "UNMET_NEED                 float64\n",
       "matricula                    int64\n",
       "evadiu_2sem                  int64\n",
       "BGD0                       float64\n",
       "BGD1                       float64\n",
       "BGD2                       float64\n",
       "BGD3                       float64\n",
       "BGD4                       float64\n",
       "BGD5                       float64\n",
       "GRAD0                      float64\n",
       "GRAD1                      float64\n",
       "GRAD2                      float64\n",
       "GRAD3                      float64\n",
       "GRAD4                      float64\n",
       "GRAD5                      float64\n",
       "GRAD6                      float64\n",
       "GRAD7                      float64\n",
       "GRAD8                      float64\n",
       "GRAD9                      float64\n",
       "GRAD10                     float64\n",
       "GRAD11                     float64\n",
       "GRAD12                     float64\n",
       "GRAD13                     float64\n",
       "GRAD14                     float64\n",
       "GRAD15                     float64\n",
       "GRAD16                     float64\n",
       "GRAD17                     float64\n",
       "dtype: object"
      ]
     },
     "execution_count": 62,
     "metadata": {},
     "output_type": "execute_result"
    }
   ],
   "source": [
    "df.dtypes"
   ]
  },
  {
   "cell_type": "markdown",
   "metadata": {},
   "source": [
    "# First term e Second term"
   ]
  },
  {
   "cell_type": "code",
   "execution_count": 63,
   "metadata": {
    "execution": {
     "iopub.execute_input": "2023-07-18T17:42:12.395828Z",
     "iopub.status.busy": "2023-07-18T17:42:12.395265Z",
     "iopub.status.idle": "2023-07-18T17:42:12.407645Z",
     "shell.execute_reply": "2023-07-18T17:42:12.406479Z",
     "shell.execute_reply.started": "2023-07-18T17:42:12.395786Z"
    }
   },
   "outputs": [
    {
     "data": {
      "text/plain": [
       "200908    676\n",
       "201008    632\n",
       "200808    581\n",
       "200708    521\n",
       "200608    497\n",
       "200508    493\n",
       "Name: FIRST_TERM, dtype: int64"
      ]
     },
     "execution_count": 63,
     "metadata": {},
     "output_type": "execute_result"
    }
   ],
   "source": [
    "df['FIRST_TERM'].value_counts()"
   ]
  },
  {
   "cell_type": "code",
   "execution_count": 64,
   "metadata": {
    "execution": {
     "iopub.execute_input": "2023-07-18T17:42:12.409378Z",
     "iopub.status.busy": "2023-07-18T17:42:12.409014Z",
     "iopub.status.idle": "2023-07-18T17:42:12.421790Z",
     "shell.execute_reply": "2023-07-18T17:42:12.420617Z",
     "shell.execute_reply.started": "2023-07-18T17:42:12.409347Z"
    }
   },
   "outputs": [
    {
     "data": {
      "text/plain": [
       "201002    676\n",
       "201102    632\n",
       "200902    581\n",
       "200802    521\n",
       "200702    497\n",
       "200602    493\n",
       "Name: SECOND_TERM, dtype: int64"
      ]
     },
     "execution_count": 64,
     "metadata": {},
     "output_type": "execute_result"
    }
   ],
   "source": [
    "df['SECOND_TERM'].value_counts()"
   ]
  },
  {
   "cell_type": "markdown",
   "metadata": {},
   "source": [
    "\"FIRST_TERM\" e \"SECOND_TERM\" parecem ser os anos do primeiro/segundo semestre (2005,2006,2007,2008,2009,2010...)\n",
    "Apesar de termos dados distribuidos entre esses anos, vamos simplificar a analise os eliminando. Nossa proposta aqui não é fazer uma análise temporal, por exemplo queremos utilizar o modelo em 2023 com dados antigos."
   ]
  },
  {
   "cell_type": "code",
   "execution_count": 65,
   "metadata": {
    "execution": {
     "iopub.execute_input": "2023-07-18T17:42:12.423953Z",
     "iopub.status.busy": "2023-07-18T17:42:12.423510Z",
     "iopub.status.idle": "2023-07-18T17:42:12.433732Z",
     "shell.execute_reply": "2023-07-18T17:42:12.432654Z",
     "shell.execute_reply.started": "2023-07-18T17:42:12.423914Z"
    }
   },
   "outputs": [],
   "source": [
    "df.drop(['FIRST_TERM','SECOND_TERM'],axis=1,inplace=True)"
   ]
  },
  {
   "cell_type": "markdown",
   "metadata": {},
   "source": [
    "# DISTANCE_FROM_HOME"
   ]
  },
  {
   "cell_type": "code",
   "execution_count": 66,
   "metadata": {
    "execution": {
     "iopub.execute_input": "2023-07-18T17:42:12.435995Z",
     "iopub.status.busy": "2023-07-18T17:42:12.435573Z",
     "iopub.status.idle": "2023-07-18T17:42:12.450995Z",
     "shell.execute_reply": "2023-07-18T17:42:12.449739Z",
     "shell.execute_reply.started": "2023-07-18T17:42:12.435955Z"
    }
   },
   "outputs": [
    {
     "name": "stdout",
     "output_type": "stream",
     "text": [
      "nulls  25\n",
      "69.0      1402\n",
      "0.0        671\n",
      "150.0      497\n",
      "90.0       248\n",
      "138.0      227\n",
      "          ... \n",
      "2221.0       1\n",
      "310.0        1\n",
      "694.0        1\n",
      "316.0        1\n",
      "1216.0       1\n",
      "Name: DISTANCE_FROM_HOME, Length: 71, dtype: int64\n"
     ]
    }
   ],
   "source": [
    "print('nulls ',df['DISTANCE_FROM_HOME'].isnull().sum())\n",
    "print(df['DISTANCE_FROM_HOME'].value_counts())\n"
   ]
  },
  {
   "cell_type": "code",
   "execution_count": 67,
   "metadata": {
    "execution": {
     "iopub.execute_input": "2023-07-18T17:42:12.453051Z",
     "iopub.status.busy": "2023-07-18T17:42:12.452732Z",
     "iopub.status.idle": "2023-07-18T17:42:12.777439Z",
     "shell.execute_reply": "2023-07-18T17:42:12.776437Z",
     "shell.execute_reply.started": "2023-07-18T17:42:12.453022Z"
    }
   },
   "outputs": [
    {
     "name": "stderr",
     "output_type": "stream",
     "text": [
      "C:\\Users\\leonardo.reigoto\\Anaconda3\\lib\\site-packages\\seaborn\\distributions.py:2619: FutureWarning: `distplot` is a deprecated function and will be removed in a future version. Please adapt your code to use either `displot` (a figure-level function with similar flexibility) or `histplot` (an axes-level function for histograms).\n",
      "  warnings.warn(msg, FutureWarning)\n"
     ]
    },
    {
     "data": {
      "image/png": "[encoded data removed]",
      "text/plain": [
       "<Figure size 640x480 with 1 Axes>"
      ]
     },
     "metadata": {},
     "output_type": "display_data"
    }
   ],
   "source": [
    "sns.distplot(df['DISTANCE_FROM_HOME'],kde=False)\n",
    "plt.title('distance from home')\n",
    "plt.ylabel('numero de ocorrencias')\n",
    "plt.xlabel('distancia')\n",
    "plt.show()"
   ]
  },
  {
   "cell_type": "code",
   "execution_count": 68,
   "metadata": {
    "execution": {
     "iopub.execute_input": "2023-07-18T17:42:12.779397Z",
     "iopub.status.busy": "2023-07-18T17:42:12.778857Z",
     "iopub.status.idle": "2023-07-18T17:42:12.952855Z",
     "shell.execute_reply": "2023-07-18T17:42:12.951795Z",
     "shell.execute_reply.started": "2023-07-18T17:42:12.779364Z"
    }
   },
   "outputs": [
    {
     "name": "stderr",
     "output_type": "stream",
     "text": [
      "C:\\Users\\leonardo.reigoto\\Anaconda3\\lib\\site-packages\\seaborn\\_decorators.py:36: FutureWarning: Pass the following variable as a keyword arg: x. From version 0.12, the only valid positional argument will be `data`, and passing other arguments without an explicit keyword will result in an error or misinterpretation.\n",
      "  warnings.warn(\n"
     ]
    },
    {
     "data": {
      "text/plain": [
       "<AxesSubplot:xlabel='DISTANCE_FROM_HOME'>"
      ]
     },
     "execution_count": 68,
     "metadata": {},
     "output_type": "execute_result"
    }
   ],
   "source": [
    "sns.boxplot(df['DISTANCE_FROM_HOME'])"
   ]
  },
  {
   "cell_type": "code",
   "execution_count": 69,
   "metadata": {
    "execution": {
     "iopub.execute_input": "2023-07-18T17:42:12.955156Z",
     "iopub.status.busy": "2023-07-18T17:42:12.954225Z",
     "iopub.status.idle": "2023-07-18T17:42:12.967338Z",
     "shell.execute_reply": "2023-07-18T17:42:12.966147Z",
     "shell.execute_reply.started": "2023-07-18T17:42:12.955120Z"
    }
   },
   "outputs": [
    {
     "data": {
      "text/plain": [
       "count    3375.000000\n",
       "mean       99.825185\n",
       "std       235.196984\n",
       "min         0.000000\n",
       "25%        69.000000\n",
       "50%        69.000000\n",
       "75%       138.000000\n",
       "max      5932.000000\n",
       "Name: DISTANCE_FROM_HOME, dtype: float64"
      ]
     },
     "execution_count": 69,
     "metadata": {},
     "output_type": "execute_result"
    }
   ],
   "source": [
    "df['DISTANCE_FROM_HOME'].describe()"
   ]
  },
  {
   "cell_type": "code",
   "execution_count": 70,
   "metadata": {
    "execution": {
     "iopub.execute_input": "2023-07-18T17:42:12.969993Z",
     "iopub.status.busy": "2023-07-18T17:42:12.968985Z",
     "iopub.status.idle": "2023-07-18T17:42:12.981363Z",
     "shell.execute_reply": "2023-07-18T17:42:12.980500Z",
     "shell.execute_reply.started": "2023-07-18T17:42:12.969947Z"
    }
   },
   "outputs": [
    {
     "name": "stdout",
     "output_type": "stream",
     "text": [
      "719\n",
      "136\n",
      "74\n",
      "60\n"
     ]
    }
   ],
   "source": [
    "print(df[df['DISTANCE_FROM_HOME']>138].shape[0])\n",
    "print(df[df['DISTANCE_FROM_HOME']>200].shape[0])\n",
    "print(df[df['DISTANCE_FROM_HOME']>250].shape[0])\n",
    "print(df[df['DISTANCE_FROM_HOME']>300].shape[0])"
   ]
  },
  {
   "cell_type": "code",
   "execution_count": 71,
   "metadata": {
    "execution": {
     "iopub.execute_input": "2023-07-18T17:42:12.983583Z",
     "iopub.status.busy": "2023-07-18T17:42:12.982762Z",
     "iopub.status.idle": "2023-07-18T17:42:12.995880Z",
     "shell.execute_reply": "2023-07-18T17:42:12.994821Z",
     "shell.execute_reply.started": "2023-07-18T17:42:12.983529Z"
    }
   },
   "outputs": [],
   "source": [
    "df=df[df['DISTANCE_FROM_HOME']<300]"
   ]
  },
  {
   "cell_type": "code",
   "execution_count": 72,
   "metadata": {
    "execution": {
     "iopub.execute_input": "2023-07-18T17:42:12.998145Z",
     "iopub.status.busy": "2023-07-18T17:42:12.997612Z",
     "iopub.status.idle": "2023-07-18T17:42:13.016379Z",
     "shell.execute_reply": "2023-07-18T17:42:13.015080Z",
     "shell.execute_reply.started": "2023-07-18T17:42:12.998112Z"
    }
   },
   "outputs": [
    {
     "data": {
      "text/plain": [
       "STDNT_GENDER                 0\n",
       "IN_STATE_FLAG                0\n",
       "HOUSING_STS                  0\n",
       "DISTANCE_FROM_HOME           0\n",
       "HIGH_SCHL_GPA               41\n",
       "FATHER_HI_EDU_CD             0\n",
       "MOTHER_HI_EDU_CD             0\n",
       "FIRST_TERM_ATTEMPT_HRS       0\n",
       "FIRST_TERM_EARNED_HRS        0\n",
       "SECOND_TERM_ATTEMPT_HRS    199\n",
       "SECOND_TERM_EARNED_HRS     202\n",
       "GROSS_FIN_NEED               0\n",
       "COST_OF_ATTEND               0\n",
       "EST_FAM_CONTRIBUTION         0\n",
       "UNMET_NEED                   0\n",
       "matricula                    0\n",
       "evadiu_2sem                  0\n",
       "BGD0                         0\n",
       "BGD1                         0\n",
       "BGD2                         0\n",
       "BGD3                         0\n",
       "BGD4                         0\n",
       "BGD5                         0\n",
       "GRAD0                        0\n",
       "GRAD1                        0\n",
       "GRAD2                        0\n",
       "GRAD3                        0\n",
       "GRAD4                        0\n",
       "GRAD5                        0\n",
       "GRAD6                        0\n",
       "GRAD7                        0\n",
       "GRAD8                        0\n",
       "GRAD9                        0\n",
       "GRAD10                       0\n",
       "GRAD11                       0\n",
       "GRAD12                       0\n",
       "GRAD13                       0\n",
       "GRAD14                       0\n",
       "GRAD15                       0\n",
       "GRAD16                       0\n",
       "GRAD17                       0\n",
       "dtype: int64"
      ]
     },
     "execution_count": 72,
     "metadata": {},
     "output_type": "execute_result"
    }
   ],
   "source": [
    "df.isnull().sum()"
   ]
  },
  {
   "cell_type": "markdown",
   "metadata": {},
   "source": [
    "# HIGH_SCHL_GPA"
   ]
  },
  {
   "cell_type": "code",
   "execution_count": 73,
   "metadata": {
    "execution": {
     "iopub.execute_input": "2023-07-18T17:42:13.018096Z",
     "iopub.status.busy": "2023-07-18T17:42:13.017719Z",
     "iopub.status.idle": "2023-07-18T17:42:13.027664Z",
     "shell.execute_reply": "2023-07-18T17:42:13.026422Z",
     "shell.execute_reply.started": "2023-07-18T17:42:13.018051Z"
    }
   },
   "outputs": [
    {
     "name": "stdout",
     "output_type": "stream",
     "text": [
      "nulls  41\n",
      "3.0000    142\n",
      "4.0000    121\n",
      "3.5000     86\n",
      "2.9300     72\n",
      "3.1300     70\n",
      "         ... \n",
      "3.9500      1\n",
      "2.0400      1\n",
      "2.9230      1\n",
      "2.4500      1\n",
      "3.6875      1\n",
      "Name: HIGH_SCHL_GPA, Length: 198, dtype: int64\n"
     ]
    }
   ],
   "source": [
    "print('nulls ',df['HIGH_SCHL_GPA'].isnull().sum())\n",
    "print(df['HIGH_SCHL_GPA'].value_counts())"
   ]
  },
  {
   "cell_type": "code",
   "execution_count": 74,
   "metadata": {
    "execution": {
     "iopub.execute_input": "2023-07-18T17:42:13.029233Z",
     "iopub.status.busy": "2023-07-18T17:42:13.028886Z",
     "iopub.status.idle": "2023-07-18T17:42:13.366926Z",
     "shell.execute_reply": "2023-07-18T17:42:13.365715Z",
     "shell.execute_reply.started": "2023-07-18T17:42:13.029204Z"
    }
   },
   "outputs": [
    {
     "name": "stderr",
     "output_type": "stream",
     "text": [
      "C:\\Users\\leonardo.reigoto\\Anaconda3\\lib\\site-packages\\seaborn\\distributions.py:2619: FutureWarning: `distplot` is a deprecated function and will be removed in a future version. Please adapt your code to use either `displot` (a figure-level function with similar flexibility) or `histplot` (an axes-level function for histograms).\n",
      "  warnings.warn(msg, FutureWarning)\n"
     ]
    },
    {
     "data": {
      "text/plain": [
       "<AxesSubplot:xlabel='HIGH_SCHL_GPA'>"
      ]
     },
     "execution_count": 74,
     "metadata": {},
     "output_type": "execute_result"
    }
   ],
   "source": [
    "sns.distplot(df['HIGH_SCHL_GPA'],kde=False)"
   ]
  },
  {
   "cell_type": "code",
   "execution_count": 75,
   "metadata": {
    "execution": {
     "iopub.execute_input": "2023-07-18T17:42:13.369443Z",
     "iopub.status.busy": "2023-07-18T17:42:13.368692Z",
     "iopub.status.idle": "2023-07-18T17:42:13.380353Z",
     "shell.execute_reply": "2023-07-18T17:42:13.379289Z",
     "shell.execute_reply.started": "2023-07-18T17:42:13.369408Z"
    }
   },
   "outputs": [
    {
     "data": {
      "text/plain": [
       "count    3274.000000\n",
       "mean        3.202411\n",
       "std         0.453368\n",
       "min         0.000000\n",
       "25%         2.870000\n",
       "50%         3.200000\n",
       "75%         3.560000\n",
       "max         4.000000\n",
       "Name: HIGH_SCHL_GPA, dtype: float64"
      ]
     },
     "execution_count": 75,
     "metadata": {},
     "output_type": "execute_result"
    }
   ],
   "source": [
    "df['HIGH_SCHL_GPA'].describe()"
   ]
  },
  {
   "cell_type": "code",
   "execution_count": 76,
   "metadata": {
    "execution": {
     "iopub.execute_input": "2023-07-18T17:42:13.382085Z",
     "iopub.status.busy": "2023-07-18T17:42:13.381682Z",
     "iopub.status.idle": "2023-07-18T17:42:13.632610Z",
     "shell.execute_reply": "2023-07-18T17:42:13.631163Z",
     "shell.execute_reply.started": "2023-07-18T17:42:13.382051Z"
    }
   },
   "outputs": [
    {
     "name": "stderr",
     "output_type": "stream",
     "text": [
      "C:\\Users\\leonardo.reigoto\\Anaconda3\\lib\\site-packages\\seaborn\\_decorators.py:36: FutureWarning: Pass the following variable as a keyword arg: x. From version 0.12, the only valid positional argument will be `data`, and passing other arguments without an explicit keyword will result in an error or misinterpretation.\n",
      "  warnings.warn(\n"
     ]
    },
    {
     "data": {
      "text/plain": [
       "<AxesSubplot:xlabel='HIGH_SCHL_GPA'>"
      ]
     },
     "execution_count": 76,
     "metadata": {},
     "output_type": "execute_result"
    }
   ],
   "source": [
    "sns.boxplot(df['HIGH_SCHL_GPA'])"
   ]
  },
  {
   "cell_type": "code",
   "execution_count": 77,
   "metadata": {
    "execution": {
     "iopub.execute_input": "2023-07-18T17:42:13.634618Z",
     "iopub.status.busy": "2023-07-18T17:42:13.634266Z",
     "iopub.status.idle": "2023-07-18T17:42:13.642277Z",
     "shell.execute_reply": "2023-07-18T17:42:13.641432Z",
     "shell.execute_reply.started": "2023-07-18T17:42:13.634552Z"
    }
   },
   "outputs": [],
   "source": [
    "df.dropna(subset=['HIGH_SCHL_GPA'],inplace=True)"
   ]
  },
  {
   "cell_type": "code",
   "execution_count": 78,
   "metadata": {
    "execution": {
     "iopub.execute_input": "2023-07-18T17:42:13.644228Z",
     "iopub.status.busy": "2023-07-18T17:42:13.643881Z",
     "iopub.status.idle": "2023-07-18T17:42:13.660359Z",
     "shell.execute_reply": "2023-07-18T17:42:13.659249Z",
     "shell.execute_reply.started": "2023-07-18T17:42:13.644197Z"
    }
   },
   "outputs": [
    {
     "data": {
      "text/plain": [
       "(3274, 41)"
      ]
     },
     "execution_count": 78,
     "metadata": {},
     "output_type": "execute_result"
    }
   ],
   "source": [
    "df.shape"
   ]
  },
  {
   "cell_type": "code",
   "execution_count": 79,
   "metadata": {
    "execution": {
     "iopub.execute_input": "2023-07-18T17:42:13.662705Z",
     "iopub.status.busy": "2023-07-18T17:42:13.662329Z",
     "iopub.status.idle": "2023-07-18T17:42:13.681054Z",
     "shell.execute_reply": "2023-07-18T17:42:13.679661Z",
     "shell.execute_reply.started": "2023-07-18T17:42:13.662663Z"
    }
   },
   "outputs": [
    {
     "data": {
      "text/plain": [
       "STDNT_GENDER                 0\n",
       "IN_STATE_FLAG                0\n",
       "HOUSING_STS                  0\n",
       "DISTANCE_FROM_HOME           0\n",
       "HIGH_SCHL_GPA                0\n",
       "FATHER_HI_EDU_CD             0\n",
       "MOTHER_HI_EDU_CD             0\n",
       "FIRST_TERM_ATTEMPT_HRS       0\n",
       "FIRST_TERM_EARNED_HRS        0\n",
       "SECOND_TERM_ATTEMPT_HRS    197\n",
       "SECOND_TERM_EARNED_HRS     200\n",
       "GROSS_FIN_NEED               0\n",
       "COST_OF_ATTEND               0\n",
       "EST_FAM_CONTRIBUTION         0\n",
       "UNMET_NEED                   0\n",
       "matricula                    0\n",
       "evadiu_2sem                  0\n",
       "BGD0                         0\n",
       "BGD1                         0\n",
       "BGD2                         0\n",
       "BGD3                         0\n",
       "BGD4                         0\n",
       "BGD5                         0\n",
       "GRAD0                        0\n",
       "GRAD1                        0\n",
       "GRAD2                        0\n",
       "GRAD3                        0\n",
       "GRAD4                        0\n",
       "GRAD5                        0\n",
       "GRAD6                        0\n",
       "GRAD7                        0\n",
       "GRAD8                        0\n",
       "GRAD9                        0\n",
       "GRAD10                       0\n",
       "GRAD11                       0\n",
       "GRAD12                       0\n",
       "GRAD13                       0\n",
       "GRAD14                       0\n",
       "GRAD15                       0\n",
       "GRAD16                       0\n",
       "GRAD17                       0\n",
       "dtype: int64"
      ]
     },
     "execution_count": 79,
     "metadata": {},
     "output_type": "execute_result"
    }
   ],
   "source": [
    "df.isnull().sum()"
   ]
  },
  {
   "cell_type": "markdown",
   "metadata": {},
   "source": [
    "# FIRST_TERM_ATTEMPT_HRS, FIRST_TERM_EARNED_HRS"
   ]
  },
  {
   "cell_type": "code",
   "execution_count": 80,
   "metadata": {
    "execution": {
     "iopub.execute_input": "2023-07-18T17:42:13.683263Z",
     "iopub.status.busy": "2023-07-18T17:42:13.682892Z",
     "iopub.status.idle": "2023-07-18T17:42:13.691462Z",
     "shell.execute_reply": "2023-07-18T17:42:13.690611Z",
     "shell.execute_reply.started": "2023-07-18T17:42:13.683232Z"
    }
   },
   "outputs": [
    {
     "name": "stdout",
     "output_type": "stream",
     "text": [
      "nulls  0\n",
      "15    767\n",
      "13    720\n",
      "12    715\n",
      "14    511\n",
      "16    417\n",
      "17    102\n",
      "18     27\n",
      "19      8\n",
      "9       3\n",
      "20      2\n",
      "11      2\n",
      "Name: FIRST_TERM_ATTEMPT_HRS, dtype: int64\n"
     ]
    }
   ],
   "source": [
    "print('nulls ',df['FIRST_TERM_ATTEMPT_HRS'].isnull().sum())\n",
    "print(df['FIRST_TERM_ATTEMPT_HRS'].value_counts())"
   ]
  },
  {
   "cell_type": "code",
   "execution_count": 81,
   "metadata": {
    "execution": {
     "iopub.execute_input": "2023-07-18T17:42:13.692944Z",
     "iopub.status.busy": "2023-07-18T17:42:13.692521Z",
     "iopub.status.idle": "2023-07-18T17:42:13.707456Z",
     "shell.execute_reply": "2023-07-18T17:42:13.706145Z",
     "shell.execute_reply.started": "2023-07-18T17:42:13.692897Z"
    }
   },
   "outputs": [
    {
     "name": "stdout",
     "output_type": "stream",
     "text": [
      "nulls  0\n",
      "12    666\n",
      "13    508\n",
      "15    506\n",
      "14    306\n",
      "9     281\n",
      "16    246\n",
      "10    205\n",
      "11    153\n",
      "6      94\n",
      "8      92\n",
      "7      68\n",
      "17     46\n",
      "3      32\n",
      "4      18\n",
      "18     14\n",
      "5      12\n",
      "19      7\n",
      "0       7\n",
      "2       7\n",
      "1       5\n",
      "20      1\n",
      "Name: FIRST_TERM_EARNED_HRS, dtype: int64\n"
     ]
    }
   ],
   "source": [
    "print('nulls ',df['FIRST_TERM_EARNED_HRS'].isnull().sum())\n",
    "print(df['FIRST_TERM_EARNED_HRS'].value_counts())"
   ]
  },
  {
   "cell_type": "code",
   "execution_count": 82,
   "metadata": {
    "execution": {
     "iopub.execute_input": "2023-07-18T17:42:13.709700Z",
     "iopub.status.busy": "2023-07-18T17:42:13.709096Z",
     "iopub.status.idle": "2023-07-18T17:42:13.724530Z",
     "shell.execute_reply": "2023-07-18T17:42:13.723234Z",
     "shell.execute_reply.started": "2023-07-18T17:42:13.709634Z"
    }
   },
   "outputs": [
    {
     "data": {
      "text/plain": [
       " 0     1956\n",
       " 4      426\n",
       " 3      392\n",
       " 6      132\n",
       " 7      110\n",
       " 1       92\n",
       " 10      33\n",
       " 5       29\n",
       " 9       29\n",
       " 2       20\n",
       " 8       16\n",
       " 11      12\n",
       " 12      10\n",
       " 13       8\n",
       "-3        4\n",
       " 14       3\n",
       " 15       2\n",
       "dtype: int64"
      ]
     },
     "execution_count": 82,
     "metadata": {},
     "output_type": "execute_result"
    }
   ],
   "source": [
    "(df['FIRST_TERM_ATTEMPT_HRS']-df['FIRST_TERM_EARNED_HRS']).value_counts()"
   ]
  },
  {
   "cell_type": "code",
   "execution_count": 83,
   "metadata": {
    "execution": {
     "iopub.execute_input": "2023-07-18T17:42:13.726682Z",
     "iopub.status.busy": "2023-07-18T17:42:13.726188Z",
     "iopub.status.idle": "2023-07-18T17:42:13.742483Z",
     "shell.execute_reply": "2023-07-18T17:42:13.741367Z",
     "shell.execute_reply.started": "2023-07-18T17:42:13.726629Z"
    }
   },
   "outputs": [
    {
     "data": {
      "text/plain": [
       "[906, 998, 2262, 3342]"
      ]
     },
     "execution_count": 83,
     "metadata": {},
     "output_type": "execute_result"
    }
   ],
   "source": [
    "temp=df[(df['FIRST_TERM_ATTEMPT_HRS']- df['FIRST_TERM_EARNED_HRS']<0)].index.tolist()\n",
    "temp"
   ]
  },
  {
   "cell_type": "code",
   "execution_count": 84,
   "metadata": {
    "execution": {
     "iopub.execute_input": "2023-07-18T17:42:13.744646Z",
     "iopub.status.busy": "2023-07-18T17:42:13.744159Z",
     "iopub.status.idle": "2023-07-18T17:42:13.765648Z",
     "shell.execute_reply": "2023-07-18T17:42:13.764501Z",
     "shell.execute_reply.started": "2023-07-18T17:42:13.744603Z"
    }
   },
   "outputs": [
    {
     "data": {
      "text/html": [
       "<div>\n",
       "<style scoped>\n",
       "    .dataframe tbody tr th:only-of-type {\n",
       "        vertical-align: middle;\n",
       "    }\n",
       "\n",
       "    .dataframe tbody tr th {\n",
       "        vertical-align: top;\n",
       "    }\n",
       "\n",
       "    .dataframe thead th {\n",
       "        text-align: right;\n",
       "    }\n",
       "</style>\n",
       "<table border=\"1\" class=\"dataframe\">\n",
       "  <thead>\n",
       "    <tr style=\"text-align: right;\">\n",
       "      <th></th>\n",
       "      <th>FIRST_TERM_ATTEMPT_HRS</th>\n",
       "      <th>FIRST_TERM_EARNED_HRS</th>\n",
       "    </tr>\n",
       "  </thead>\n",
       "  <tbody>\n",
       "    <tr>\n",
       "      <th>906</th>\n",
       "      <td>13</td>\n",
       "      <td>16</td>\n",
       "    </tr>\n",
       "    <tr>\n",
       "      <th>998</th>\n",
       "      <td>9</td>\n",
       "      <td>12</td>\n",
       "    </tr>\n",
       "    <tr>\n",
       "      <th>2262</th>\n",
       "      <td>13</td>\n",
       "      <td>16</td>\n",
       "    </tr>\n",
       "    <tr>\n",
       "      <th>3342</th>\n",
       "      <td>11</td>\n",
       "      <td>14</td>\n",
       "    </tr>\n",
       "  </tbody>\n",
       "</table>\n",
       "</div>"
      ],
      "text/plain": [
       "      FIRST_TERM_ATTEMPT_HRS  FIRST_TERM_EARNED_HRS\n",
       "906                       13                     16\n",
       "998                        9                     12\n",
       "2262                      13                     16\n",
       "3342                      11                     14"
      ]
     },
     "execution_count": 84,
     "metadata": {},
     "output_type": "execute_result"
    }
   ],
   "source": [
    "df.loc[temp,['FIRST_TERM_ATTEMPT_HRS','FIRST_TERM_EARNED_HRS']]"
   ]
  },
  {
   "cell_type": "markdown",
   "metadata": {},
   "source": [
    "Esses indices tem o número de creditos ganhos maior que o cursado. Provavelmente foi inversão na hora de preencher a coluna.\n",
    "Vamos inverte-las"
   ]
  },
  {
   "cell_type": "code",
   "execution_count": 85,
   "metadata": {
    "execution": {
     "iopub.execute_input": "2023-07-18T17:42:13.768656Z",
     "iopub.status.busy": "2023-07-18T17:42:13.767533Z",
     "iopub.status.idle": "2023-07-18T17:42:13.786192Z",
     "shell.execute_reply": "2023-07-18T17:42:13.785036Z",
     "shell.execute_reply.started": "2023-07-18T17:42:13.768612Z"
    }
   },
   "outputs": [],
   "source": [
    "for linha in temp:\n",
    "    temp2=df.loc[linha]['FIRST_TERM_ATTEMPT_HRS']\n",
    "    df.loc[linha,['FIRST_TERM_ATTEMPT_HRS','FIRST_TERM_EARNED_HRS']]=[df.loc[linha]['FIRST_TERM_EARNED_HRS'],temp2]"
   ]
  },
  {
   "cell_type": "code",
   "execution_count": 86,
   "metadata": {
    "execution": {
     "iopub.execute_input": "2023-07-18T17:42:13.788816Z",
     "iopub.status.busy": "2023-07-18T17:42:13.788132Z",
     "iopub.status.idle": "2023-07-18T17:42:13.806135Z",
     "shell.execute_reply": "2023-07-18T17:42:13.805034Z",
     "shell.execute_reply.started": "2023-07-18T17:42:13.788775Z"
    }
   },
   "outputs": [
    {
     "data": {
      "text/html": [
       "<div>\n",
       "<style scoped>\n",
       "    .dataframe tbody tr th:only-of-type {\n",
       "        vertical-align: middle;\n",
       "    }\n",
       "\n",
       "    .dataframe tbody tr th {\n",
       "        vertical-align: top;\n",
       "    }\n",
       "\n",
       "    .dataframe thead th {\n",
       "        text-align: right;\n",
       "    }\n",
       "</style>\n",
       "<table border=\"1\" class=\"dataframe\">\n",
       "  <thead>\n",
       "    <tr style=\"text-align: right;\">\n",
       "      <th></th>\n",
       "      <th>FIRST_TERM_ATTEMPT_HRS</th>\n",
       "      <th>FIRST_TERM_EARNED_HRS</th>\n",
       "    </tr>\n",
       "  </thead>\n",
       "  <tbody>\n",
       "    <tr>\n",
       "      <th>906</th>\n",
       "      <td>16</td>\n",
       "      <td>13</td>\n",
       "    </tr>\n",
       "    <tr>\n",
       "      <th>998</th>\n",
       "      <td>12</td>\n",
       "      <td>9</td>\n",
       "    </tr>\n",
       "    <tr>\n",
       "      <th>2262</th>\n",
       "      <td>16</td>\n",
       "      <td>13</td>\n",
       "    </tr>\n",
       "    <tr>\n",
       "      <th>3342</th>\n",
       "      <td>14</td>\n",
       "      <td>11</td>\n",
       "    </tr>\n",
       "  </tbody>\n",
       "</table>\n",
       "</div>"
      ],
      "text/plain": [
       "      FIRST_TERM_ATTEMPT_HRS  FIRST_TERM_EARNED_HRS\n",
       "906                       16                     13\n",
       "998                       12                      9\n",
       "2262                      16                     13\n",
       "3342                      14                     11"
      ]
     },
     "execution_count": 86,
     "metadata": {},
     "output_type": "execute_result"
    }
   ],
   "source": [
    "df.loc[temp,['FIRST_TERM_ATTEMPT_HRS','FIRST_TERM_EARNED_HRS']]"
   ]
  },
  {
   "cell_type": "markdown",
   "metadata": {},
   "source": [
    "Creditos cursados e creditos ganhos tem alta correlação. Vamos criar um novo atribute que seriam creditos reprovados e remover o creditos ganhos."
   ]
  },
  {
   "cell_type": "code",
   "execution_count": 87,
   "metadata": {
    "execution": {
     "iopub.execute_input": "2023-07-18T17:42:13.808364Z",
     "iopub.status.busy": "2023-07-18T17:42:13.807844Z",
     "iopub.status.idle": "2023-07-18T17:42:13.830474Z",
     "shell.execute_reply": "2023-07-18T17:42:13.829602Z",
     "shell.execute_reply.started": "2023-07-18T17:42:13.808333Z"
    }
   },
   "outputs": [
    {
     "name": "stdout",
     "output_type": "stream",
     "text": [
      "0     1956\n",
      "4      426\n",
      "3      396\n",
      "6      132\n",
      "7      110\n",
      "1       92\n",
      "10      33\n",
      "5       29\n",
      "9       29\n",
      "2       20\n",
      "8       16\n",
      "11      12\n",
      "12      10\n",
      "13       8\n",
      "14       3\n",
      "15       2\n",
      "Name: First_Lost_Hours, dtype: int64\n"
     ]
    }
   ],
   "source": [
    "df['First_Lost_Hours']=df['FIRST_TERM_ATTEMPT_HRS']-df['FIRST_TERM_EARNED_HRS']\n",
    "df.drop('FIRST_TERM_EARNED_HRS',axis=1,inplace=True)\n",
    "print(df['First_Lost_Hours'].value_counts())"
   ]
  },
  {
   "cell_type": "markdown",
   "metadata": {},
   "source": [
    "# SECOND_TERM_ATTEMPT_HRS, SECOND_TERM_EARNED_HRS"
   ]
  },
  {
   "cell_type": "code",
   "execution_count": 88,
   "metadata": {
    "execution": {
     "iopub.execute_input": "2023-07-18T17:42:13.833654Z",
     "iopub.status.busy": "2023-07-18T17:42:13.832497Z",
     "iopub.status.idle": "2023-07-18T17:42:13.848092Z",
     "shell.execute_reply": "2023-07-18T17:42:13.846810Z",
     "shell.execute_reply.started": "2023-07-18T17:42:13.833606Z"
    }
   },
   "outputs": [
    {
     "name": "stdout",
     "output_type": "stream",
     "text": [
      "nulls  197\n"
     ]
    },
    {
     "data": {
      "text/plain": [
       "15.0    592\n",
       "12.0    590\n",
       "13.0    549\n",
       "16.0    461\n",
       "14.0    410\n",
       "17.0    199\n",
       "18.0    112\n",
       "19.0     69\n",
       "9.0      20\n",
       "10.0     20\n",
       "11.0     19\n",
       "20.0     10\n",
       "7.0       8\n",
       "6.0       4\n",
       "8.0       3\n",
       "4.0       3\n",
       "3.0       3\n",
       "23.0      2\n",
       "21.0      1\n",
       "22.0      1\n",
       "2.0       1\n",
       "Name: SECOND_TERM_ATTEMPT_HRS, dtype: int64"
      ]
     },
     "execution_count": 88,
     "metadata": {},
     "output_type": "execute_result"
    }
   ],
   "source": [
    "print('nulls ',df['SECOND_TERM_ATTEMPT_HRS'].isnull().sum())\n",
    "df['SECOND_TERM_ATTEMPT_HRS'].value_counts()"
   ]
  },
  {
   "cell_type": "code",
   "execution_count": 89,
   "metadata": {
    "execution": {
     "iopub.execute_input": "2023-07-18T17:42:13.850930Z",
     "iopub.status.busy": "2023-07-18T17:42:13.850074Z",
     "iopub.status.idle": "2023-07-18T17:42:13.865671Z",
     "shell.execute_reply": "2023-07-18T17:42:13.864335Z",
     "shell.execute_reply.started": "2023-07-18T17:42:13.850880Z"
    }
   },
   "outputs": [
    {
     "name": "stdout",
     "output_type": "stream",
     "text": [
      "nulls  200\n"
     ]
    },
    {
     "data": {
      "text/plain": [
       "12.0    542\n",
       "15.0    423\n",
       "13.0    416\n",
       "14.0    297\n",
       "16.0    297\n",
       "9.0     238\n",
       "10.0    163\n",
       "17.0    127\n",
       "11.0    111\n",
       "6.0      92\n",
       "18.0     81\n",
       "8.0      59\n",
       "7.0      58\n",
       "3.0      56\n",
       "19.0     29\n",
       "4.0      25\n",
       "5.0      19\n",
       "0.0      19\n",
       "20.0      8\n",
       "2.0       8\n",
       "1.0       3\n",
       "23.0      2\n",
       "21.0      1\n",
       "Name: SECOND_TERM_EARNED_HRS, dtype: int64"
      ]
     },
     "execution_count": 89,
     "metadata": {},
     "output_type": "execute_result"
    }
   ],
   "source": [
    "print('nulls ',df['SECOND_TERM_EARNED_HRS'].isnull().sum())\n",
    "df['SECOND_TERM_EARNED_HRS'].value_counts()"
   ]
  },
  {
   "cell_type": "code",
   "execution_count": 90,
   "metadata": {
    "execution": {
     "iopub.execute_input": "2023-07-18T17:42:13.868520Z",
     "iopub.status.busy": "2023-07-18T17:42:13.867358Z",
     "iopub.status.idle": "2023-07-18T17:42:13.880248Z",
     "shell.execute_reply": "2023-07-18T17:42:13.879183Z",
     "shell.execute_reply.started": "2023-07-18T17:42:13.868461Z"
    }
   },
   "outputs": [
    {
     "name": "stdout",
     "output_type": "stream",
     "text": [
      "0    172\n",
      "1     25\n",
      "Name: evadiu_2sem, dtype: int64\n"
     ]
    }
   ],
   "source": [
    "temp=df[(df['SECOND_TERM_ATTEMPT_HRS'].isnull()) & (df['SECOND_TERM_EARNED_HRS'].isnull())].index.tolist()\n",
    "len(temp)\n",
    "print(df.loc[temp]['evadiu_2sem'].value_counts())"
   ]
  },
  {
   "cell_type": "markdown",
   "metadata": {},
   "source": [
    "A maior parte dos alunos que tem valores nulos nesse campo sairam (172 sairam e 25 continuaram). Provavelmente são alunos que não cursaram materia no segundo semestre e já desistiram no primeiro semestre. Poderiamos criar um atributo \"tentou_segundo_semestre\" que indicaria se o aluno cursou ou não o segundo semestre. Ele provavelmente iria aumentar a taxa de acerto pois é importante para avaliar a desistência. Mas iriamos acabar prevendo um evento já observado. No lugar vamos apenas preencher esses campos com 0, mas mesmo assim o classificador irá tender a classificar a desistência baseado em observar 0 nesses campos."
   ]
  },
  {
   "cell_type": "code",
   "execution_count": 91,
   "metadata": {
    "execution": {
     "iopub.execute_input": "2023-07-18T17:42:13.882349Z",
     "iopub.status.busy": "2023-07-18T17:42:13.881617Z",
     "iopub.status.idle": "2023-07-18T17:42:13.889200Z",
     "shell.execute_reply": "2023-07-18T17:42:13.888216Z",
     "shell.execute_reply.started": "2023-07-18T17:42:13.882315Z"
    }
   },
   "outputs": [],
   "source": [
    "df['SECOND_TERM_ATTEMPT_HRS'].fillna(0,inplace=True)\n",
    "df['SECOND_TERM_EARNED_HRS'].fillna(0,inplace=True)"
   ]
  },
  {
   "cell_type": "code",
   "execution_count": 92,
   "metadata": {
    "execution": {
     "iopub.execute_input": "2023-07-18T17:42:13.906936Z",
     "iopub.status.busy": "2023-07-18T17:42:13.905595Z",
     "iopub.status.idle": "2023-07-18T17:42:13.915377Z",
     "shell.execute_reply": "2023-07-18T17:42:13.914178Z",
     "shell.execute_reply.started": "2023-07-18T17:42:13.906892Z"
    }
   },
   "outputs": [
    {
     "data": {
      "text/plain": [
       "[662]"
      ]
     },
     "execution_count": 92,
     "metadata": {},
     "output_type": "execute_result"
    }
   ],
   "source": [
    "temp=df[(df['SECOND_TERM_ATTEMPT_HRS']- df['SECOND_TERM_EARNED_HRS']<0)].index.tolist()\n",
    "temp"
   ]
  },
  {
   "cell_type": "code",
   "execution_count": 93,
   "metadata": {
    "execution": {
     "iopub.execute_input": "2023-07-18T17:42:13.917640Z",
     "iopub.status.busy": "2023-07-18T17:42:13.917140Z",
     "iopub.status.idle": "2023-07-18T17:42:13.934477Z",
     "shell.execute_reply": "2023-07-18T17:42:13.933458Z",
     "shell.execute_reply.started": "2023-07-18T17:42:13.917594Z"
    }
   },
   "outputs": [
    {
     "data": {
      "text/plain": [
       " 0.0     2074\n",
       " 3.0      437\n",
       " 4.0      259\n",
       " 6.0      139\n",
       " 7.0      108\n",
       " 1.0       74\n",
       " 9.0       45\n",
       " 10.0      35\n",
       " 2.0       27\n",
       " 8.0       19\n",
       " 12.0      16\n",
       " 5.0       15\n",
       " 13.0      12\n",
       " 11.0       7\n",
       " 14.0       2\n",
       " 16.0       2\n",
       " 15.0       2\n",
       "-1.0        1\n",
       "Name: Second_Lost_Hours, dtype: int64"
      ]
     },
     "execution_count": 93,
     "metadata": {},
     "output_type": "execute_result"
    }
   ],
   "source": [
    "df['Second_Lost_Hours']=df['SECOND_TERM_ATTEMPT_HRS']-df['SECOND_TERM_EARNED_HRS']\n",
    "df.drop('SECOND_TERM_EARNED_HRS',axis=1,inplace=True)\n",
    "df['Second_Lost_Hours'].value_counts()"
   ]
  },
  {
   "cell_type": "markdown",
   "metadata": {},
   "source": [
    "# GROSS_FIN_NEED  "
   ]
  },
  {
   "cell_type": "code",
   "execution_count": 94,
   "metadata": {
    "execution": {
     "iopub.execute_input": "2023-07-18T17:42:13.936950Z",
     "iopub.status.busy": "2023-07-18T17:42:13.936211Z",
     "iopub.status.idle": "2023-07-18T17:42:13.956836Z",
     "shell.execute_reply": "2023-07-18T17:42:13.955367Z",
     "shell.execute_reply.started": "2023-07-18T17:42:13.936905Z"
    }
   },
   "outputs": [
    {
     "name": "stdout",
     "output_type": "stream",
     "text": [
      "0\n"
     ]
    },
    {
     "data": {
      "text/plain": [
       "0          2138\n",
       "1418100      68\n",
       "1306020      18\n",
       "1146420      15\n",
       "1316580      14\n",
       "           ... \n",
       "996000        1\n",
       "809940        1\n",
       "851220        1\n",
       "1381320       1\n",
       "244560        1\n",
       "Name: GROSS_FIN_NEED, Length: 902, dtype: int64"
      ]
     },
     "execution_count": 94,
     "metadata": {},
     "output_type": "execute_result"
    }
   ],
   "source": [
    "print(df['GROSS_FIN_NEED'].isnull().sum())\n",
    "(df['GROSS_FIN_NEED'].value_counts())"
   ]
  },
  {
   "cell_type": "code",
   "execution_count": 95,
   "metadata": {
    "execution": {
     "iopub.execute_input": "2023-07-18T17:42:13.959643Z",
     "iopub.status.busy": "2023-07-18T17:42:13.958638Z",
     "iopub.status.idle": "2023-07-18T17:42:14.278970Z",
     "shell.execute_reply": "2023-07-18T17:42:14.277859Z",
     "shell.execute_reply.started": "2023-07-18T17:42:13.959586Z"
    }
   },
   "outputs": [
    {
     "data": {
      "image/png": "[encoded data removed]",
      "text/plain": [
       "<Figure size 640x480 with 1 Axes>"
      ]
     },
     "metadata": {},
     "output_type": "display_data"
    }
   ],
   "source": [
    "sns.histplot(df['GROSS_FIN_NEED'],kde=False)\n",
    "plt.show()"
   ]
  },
  {
   "cell_type": "code",
   "execution_count": 96,
   "metadata": {
    "execution": {
     "iopub.execute_input": "2023-07-18T17:42:14.280952Z",
     "iopub.status.busy": "2023-07-18T17:42:14.280631Z",
     "iopub.status.idle": "2023-07-18T17:42:14.289068Z",
     "shell.execute_reply": "2023-07-18T17:42:14.287797Z",
     "shell.execute_reply.started": "2023-07-18T17:42:14.280923Z"
    }
   },
   "outputs": [],
   "source": [
    "len(df[df['GROSS_FIN_NEED']>1.6*10e5])\n",
    "df=df[df['GROSS_FIN_NEED']<1.6*10e5]"
   ]
  },
  {
   "cell_type": "code",
   "execution_count": 97,
   "metadata": {
    "execution": {
     "iopub.execute_input": "2023-07-18T17:42:14.291661Z",
     "iopub.status.busy": "2023-07-18T17:42:14.291123Z",
     "iopub.status.idle": "2023-07-18T17:42:14.301295Z",
     "shell.execute_reply": "2023-07-18T17:42:14.300262Z",
     "shell.execute_reply.started": "2023-07-18T17:42:14.291613Z"
    }
   },
   "outputs": [],
   "source": [
    "#df.drop('GROSS_FIN_NEED',axis=1,inplace=True)"
   ]
  },
  {
   "cell_type": "markdown",
   "metadata": {},
   "source": [
    "# COST_OF_ATTEND e EST_FAM_CONTRIBUTION e UNMET_NEED "
   ]
  },
  {
   "cell_type": "code",
   "execution_count": 98,
   "metadata": {
    "execution": {
     "iopub.execute_input": "2023-07-18T17:42:14.303485Z",
     "iopub.status.busy": "2023-07-18T17:42:14.303000Z",
     "iopub.status.idle": "2023-07-18T17:42:14.322961Z",
     "shell.execute_reply": "2023-07-18T17:42:14.321952Z",
     "shell.execute_reply.started": "2023-07-18T17:42:14.303453Z"
    }
   },
   "outputs": [
    {
     "name": "stdout",
     "output_type": "stream",
     "text": [
      "0\n"
     ]
    },
    {
     "data": {
      "text/plain": [
       " 0.0         1740\n",
       "-417420.0      59\n",
       "-347580.0      43\n",
       "-288180.0      40\n",
       "-326880.0      39\n",
       "             ... \n",
       " 335460.0       1\n",
       " 338520.0       1\n",
       "-135000.0       1\n",
       " 433800.0       1\n",
       "-289140.0       1\n",
       "Name: UNMET_NEED, Length: 1149, dtype: int64"
      ]
     },
     "execution_count": 98,
     "metadata": {},
     "output_type": "execute_result"
    }
   ],
   "source": [
    "print(df['UNMET_NEED'].isnull().sum())\n",
    "df['UNMET_NEED'].value_counts() "
   ]
  },
  {
   "cell_type": "code",
   "execution_count": 99,
   "metadata": {
    "execution": {
     "iopub.execute_input": "2023-07-18T17:42:14.325037Z",
     "iopub.status.busy": "2023-07-18T17:42:14.324243Z",
     "iopub.status.idle": "2023-07-18T17:42:15.203640Z",
     "shell.execute_reply": "2023-07-18T17:42:15.202354Z",
     "shell.execute_reply.started": "2023-07-18T17:42:14.324985Z"
    }
   },
   "outputs": [
    {
     "data": {
      "image/png": "[encoded data removed]",
      "text/plain": [
       "<Figure size 640x480 with 1 Axes>"
      ]
     },
     "metadata": {},
     "output_type": "display_data"
    }
   ],
   "source": [
    "sns.histplot(df['UNMET_NEED'],kde=False)\n",
    "plt.show()"
   ]
  },
  {
   "cell_type": "code",
   "execution_count": 100,
   "metadata": {
    "execution": {
     "iopub.execute_input": "2023-07-18T17:42:15.206246Z",
     "iopub.status.busy": "2023-07-18T17:42:15.205480Z",
     "iopub.status.idle": "2023-07-18T17:42:15.436191Z",
     "shell.execute_reply": "2023-07-18T17:42:15.435050Z",
     "shell.execute_reply.started": "2023-07-18T17:42:15.206198Z"
    }
   },
   "outputs": [
    {
     "name": "stderr",
     "output_type": "stream",
     "text": [
      "C:\\Users\\leonardo.reigoto\\Anaconda3\\lib\\site-packages\\seaborn\\_decorators.py:36: FutureWarning: Pass the following variable as a keyword arg: x. From version 0.12, the only valid positional argument will be `data`, and passing other arguments without an explicit keyword will result in an error or misinterpretation.\n",
      "  warnings.warn(\n"
     ]
    },
    {
     "data": {
      "text/plain": [
       "<AxesSubplot:xlabel='UNMET_NEED'>"
      ]
     },
     "execution_count": 100,
     "metadata": {},
     "output_type": "execute_result"
    }
   ],
   "source": [
    "sns.boxplot(df['UNMET_NEED'])"
   ]
  },
  {
   "cell_type": "code",
   "execution_count": 101,
   "metadata": {
    "execution": {
     "iopub.execute_input": "2023-07-18T17:42:15.438043Z",
     "iopub.status.busy": "2023-07-18T17:42:15.437668Z",
     "iopub.status.idle": "2023-07-18T17:42:15.451204Z",
     "shell.execute_reply": "2023-07-18T17:42:15.449985Z",
     "shell.execute_reply.started": "2023-07-18T17:42:15.438010Z"
    }
   },
   "outputs": [
    {
     "data": {
      "text/plain": [
       "count    3.273000e+03\n",
       "mean     7.558977e+04\n",
       "std      2.729110e+05\n",
       "min     -9.213000e+05\n",
       "25%      0.000000e+00\n",
       "50%      0.000000e+00\n",
       "75%      1.958400e+05\n",
       "max      1.216980e+06\n",
       "Name: UNMET_NEED, dtype: float64"
      ]
     },
     "execution_count": 101,
     "metadata": {},
     "output_type": "execute_result"
    }
   ],
   "source": [
    "df['UNMET_NEED'].describe()"
   ]
  },
  {
   "cell_type": "code",
   "execution_count": 102,
   "metadata": {
    "execution": {
     "iopub.execute_input": "2023-07-18T17:42:15.453453Z",
     "iopub.status.busy": "2023-07-18T17:42:15.453094Z",
     "iopub.status.idle": "2023-07-18T17:42:15.461907Z",
     "shell.execute_reply": "2023-07-18T17:42:15.460855Z",
     "shell.execute_reply.started": "2023-07-18T17:42:15.453422Z"
    }
   },
   "outputs": [],
   "source": [
    "df.drop(['UNMET_NEED'],axis=1,inplace=True)"
   ]
  },
  {
   "cell_type": "markdown",
   "metadata": {},
   "source": [
    "# COST_OF_ATTEND"
   ]
  },
  {
   "cell_type": "code",
   "execution_count": 103,
   "metadata": {
    "execution": {
     "iopub.execute_input": "2023-07-18T17:42:15.464215Z",
     "iopub.status.busy": "2023-07-18T17:42:15.463853Z",
     "iopub.status.idle": "2023-07-18T17:42:15.481391Z",
     "shell.execute_reply": "2023-07-18T17:42:15.480131Z",
     "shell.execute_reply.started": "2023-07-18T17:42:15.464186Z"
    }
   },
   "outputs": [
    {
     "name": "stdout",
     "output_type": "stream",
     "text": [
      "0\n"
     ]
    },
    {
     "data": {
      "text/plain": [
       "0          1614\n",
       "1418100     215\n",
       "1176420      97\n",
       "1146420      84\n",
       "1306020      83\n",
       "           ... \n",
       "2082900       1\n",
       "1559220       1\n",
       "845940        1\n",
       "1804860       1\n",
       "833160        1\n",
       "Name: COST_OF_ATTEND, Length: 114, dtype: int64"
      ]
     },
     "execution_count": 103,
     "metadata": {},
     "output_type": "execute_result"
    }
   ],
   "source": [
    "print(df['COST_OF_ATTEND'].isnull().sum())\n",
    "df['COST_OF_ATTEND'].value_counts() "
   ]
  },
  {
   "cell_type": "code",
   "execution_count": 104,
   "metadata": {
    "execution": {
     "iopub.execute_input": "2023-07-18T17:42:15.483884Z",
     "iopub.status.busy": "2023-07-18T17:42:15.483362Z",
     "iopub.status.idle": "2023-07-18T17:42:15.812968Z",
     "shell.execute_reply": "2023-07-18T17:42:15.811782Z",
     "shell.execute_reply.started": "2023-07-18T17:42:15.483839Z"
    }
   },
   "outputs": [
    {
     "data": {
      "image/png": "[encoded data removed]",
      "text/plain": [
       "<Figure size 640x480 with 1 Axes>"
      ]
     },
     "metadata": {},
     "output_type": "display_data"
    }
   ],
   "source": [
    "sns.histplot(df['COST_OF_ATTEND'],kde=False)\n",
    "plt.show()"
   ]
  },
  {
   "cell_type": "code",
   "execution_count": 105,
   "metadata": {
    "execution": {
     "iopub.execute_input": "2023-07-18T17:42:15.815684Z",
     "iopub.status.busy": "2023-07-18T17:42:15.814591Z",
     "iopub.status.idle": "2023-07-18T17:42:16.038303Z",
     "shell.execute_reply": "2023-07-18T17:42:16.037058Z",
     "shell.execute_reply.started": "2023-07-18T17:42:15.815646Z"
    }
   },
   "outputs": [
    {
     "name": "stderr",
     "output_type": "stream",
     "text": [
      "C:\\Users\\leonardo.reigoto\\Anaconda3\\lib\\site-packages\\seaborn\\_decorators.py:36: FutureWarning: Pass the following variable as a keyword arg: x. From version 0.12, the only valid positional argument will be `data`, and passing other arguments without an explicit keyword will result in an error or misinterpretation.\n",
      "  warnings.warn(\n"
     ]
    },
    {
     "data": {
      "text/plain": [
       "<AxesSubplot:xlabel='COST_OF_ATTEND'>"
      ]
     },
     "execution_count": 105,
     "metadata": {},
     "output_type": "execute_result"
    }
   ],
   "source": [
    "sns.boxplot(df['COST_OF_ATTEND'])"
   ]
  },
  {
   "cell_type": "markdown",
   "metadata": {},
   "source": [
    "# EST FAM CONTRIBUTION"
   ]
  },
  {
   "cell_type": "code",
   "execution_count": 106,
   "metadata": {
    "execution": {
     "iopub.execute_input": "2023-07-18T17:42:16.040064Z",
     "iopub.status.busy": "2023-07-18T17:42:16.039708Z",
     "iopub.status.idle": "2023-07-18T17:42:16.052125Z",
     "shell.execute_reply": "2023-07-18T17:42:16.050864Z",
     "shell.execute_reply.started": "2023-07-18T17:42:16.040032Z"
    }
   },
   "outputs": [
    {
     "name": "stdout",
     "output_type": "stream",
     "text": [
      "nulls  0\n"
     ]
    },
    {
     "data": {
      "text/plain": [
       "0          2027\n",
       "5999940      12\n",
       "1080          4\n",
       "800220        3\n",
       "2400          3\n",
       "           ... \n",
       "1760700       1\n",
       "602460        1\n",
       "1607100       1\n",
       "647880        1\n",
       "1288980       1\n",
       "Name: EST_FAM_CONTRIBUTION, Length: 1196, dtype: int64"
      ]
     },
     "execution_count": 106,
     "metadata": {},
     "output_type": "execute_result"
    }
   ],
   "source": [
    "print('nulls ',df['EST_FAM_CONTRIBUTION'].isnull().sum())\n",
    "df['EST_FAM_CONTRIBUTION'].value_counts() "
   ]
  },
  {
   "cell_type": "code",
   "execution_count": 107,
   "metadata": {
    "execution": {
     "iopub.execute_input": "2023-07-18T17:42:16.054200Z",
     "iopub.status.busy": "2023-07-18T17:42:16.053550Z",
     "iopub.status.idle": "2023-07-18T17:42:16.572762Z",
     "shell.execute_reply": "2023-07-18T17:42:16.571485Z",
     "shell.execute_reply.started": "2023-07-18T17:42:16.054167Z"
    }
   },
   "outputs": [
    {
     "data": {
      "image/png": "[encoded data removed]",
      "text/plain": [
       "<Figure size 640x480 with 1 Axes>"
      ]
     },
     "metadata": {},
     "output_type": "display_data"
    }
   ],
   "source": [
    "sns.histplot(df['EST_FAM_CONTRIBUTION'],kde=False)\n",
    "plt.show()"
   ]
  },
  {
   "cell_type": "code",
   "execution_count": 108,
   "metadata": {
    "execution": {
     "iopub.execute_input": "2023-07-18T17:42:16.574908Z",
     "iopub.status.busy": "2023-07-18T17:42:16.574581Z",
     "iopub.status.idle": "2023-07-18T17:42:16.587193Z",
     "shell.execute_reply": "2023-07-18T17:42:16.586246Z",
     "shell.execute_reply.started": "2023-07-18T17:42:16.574879Z"
    }
   },
   "outputs": [
    {
     "data": {
      "text/plain": [
       "count    3.273000e+03\n",
       "mean     3.473875e+05\n",
       "std      7.934443e+05\n",
       "min      0.000000e+00\n",
       "25%      0.000000e+00\n",
       "50%      0.000000e+00\n",
       "75%      3.276600e+05\n",
       "max      5.999940e+06\n",
       "Name: EST_FAM_CONTRIBUTION, dtype: float64"
      ]
     },
     "execution_count": 108,
     "metadata": {},
     "output_type": "execute_result"
    }
   ],
   "source": [
    "df['EST_FAM_CONTRIBUTION'].describe()"
   ]
  },
  {
   "cell_type": "code",
   "execution_count": 109,
   "metadata": {
    "execution": {
     "iopub.execute_input": "2023-07-18T17:42:16.588777Z",
     "iopub.status.busy": "2023-07-18T17:42:16.588403Z",
     "iopub.status.idle": "2023-07-18T17:42:16.603266Z",
     "shell.execute_reply": "2023-07-18T17:42:16.602385Z",
     "shell.execute_reply.started": "2023-07-18T17:42:16.588745Z"
    }
   },
   "outputs": [],
   "source": [
    "df.drop(['EST_FAM_CONTRIBUTION'],axis=1,inplace=True)"
   ]
  },
  {
   "cell_type": "code",
   "execution_count": null,
   "metadata": {},
   "outputs": [],
   "source": []
  },
  {
   "cell_type": "code",
   "execution_count": 110,
   "metadata": {
    "execution": {
     "iopub.execute_input": "2023-07-18T17:42:16.605058Z",
     "iopub.status.busy": "2023-07-18T17:42:16.604561Z",
     "iopub.status.idle": "2023-07-18T17:42:16.618275Z",
     "shell.execute_reply": "2023-07-18T17:42:16.617355Z",
     "shell.execute_reply.started": "2023-07-18T17:42:16.605027Z"
    }
   },
   "outputs": [
    {
     "data": {
      "text/plain": [
       "Index(['STDNT_GENDER', 'IN_STATE_FLAG', 'HOUSING_STS', 'DISTANCE_FROM_HOME',\n",
       "       'HIGH_SCHL_GPA', 'FATHER_HI_EDU_CD', 'MOTHER_HI_EDU_CD',\n",
       "       'FIRST_TERM_ATTEMPT_HRS', 'SECOND_TERM_ATTEMPT_HRS', 'GROSS_FIN_NEED',\n",
       "       'COST_OF_ATTEND', 'matricula', 'evadiu_2sem', 'BGD0', 'BGD1', 'BGD2',\n",
       "       'BGD3', 'BGD4', 'BGD5', 'GRAD0', 'GRAD1', 'GRAD2', 'GRAD3', 'GRAD4',\n",
       "       'GRAD5', 'GRAD6', 'GRAD7', 'GRAD8', 'GRAD9', 'GRAD10', 'GRAD11',\n",
       "       'GRAD12', 'GRAD13', 'GRAD14', 'GRAD15', 'GRAD16', 'GRAD17',\n",
       "       'First_Lost_Hours', 'Second_Lost_Hours'],\n",
       "      dtype='object')"
      ]
     },
     "execution_count": 110,
     "metadata": {},
     "output_type": "execute_result"
    }
   ],
   "source": [
    "df.columns"
   ]
  },
  {
   "cell_type": "code",
   "execution_count": 111,
   "metadata": {
    "execution": {
     "iopub.execute_input": "2023-07-18T17:42:16.620050Z",
     "iopub.status.busy": "2023-07-18T17:42:16.619527Z",
     "iopub.status.idle": "2023-07-18T17:42:16.632118Z",
     "shell.execute_reply": "2023-07-18T17:42:16.630963Z",
     "shell.execute_reply.started": "2023-07-18T17:42:16.620019Z"
    }
   },
   "outputs": [],
   "source": [
    "df.set_index('matricula',inplace=True)"
   ]
  },
  {
   "cell_type": "code",
   "execution_count": 112,
   "metadata": {
    "execution": {
     "iopub.execute_input": "2023-07-18T17:42:16.633965Z",
     "iopub.status.busy": "2023-07-18T17:42:16.633591Z",
     "iopub.status.idle": "2023-07-18T17:42:16.674819Z",
     "shell.execute_reply": "2023-07-18T17:42:16.673654Z",
     "shell.execute_reply.started": "2023-07-18T17:42:16.633932Z"
    }
   },
   "outputs": [
    {
     "data": {
      "text/html": [
       "<div>\n",
       "<style scoped>\n",
       "    .dataframe tbody tr th:only-of-type {\n",
       "        vertical-align: middle;\n",
       "    }\n",
       "\n",
       "    .dataframe tbody tr th {\n",
       "        vertical-align: top;\n",
       "    }\n",
       "\n",
       "    .dataframe thead th {\n",
       "        text-align: right;\n",
       "    }\n",
       "</style>\n",
       "<table border=\"1\" class=\"dataframe\">\n",
       "  <thead>\n",
       "    <tr style=\"text-align: right;\">\n",
       "      <th></th>\n",
       "      <th>STDNT_GENDER</th>\n",
       "      <th>IN_STATE_FLAG</th>\n",
       "      <th>HOUSING_STS</th>\n",
       "      <th>DISTANCE_FROM_HOME</th>\n",
       "      <th>HIGH_SCHL_GPA</th>\n",
       "      <th>FATHER_HI_EDU_CD</th>\n",
       "      <th>MOTHER_HI_EDU_CD</th>\n",
       "      <th>FIRST_TERM_ATTEMPT_HRS</th>\n",
       "      <th>SECOND_TERM_ATTEMPT_HRS</th>\n",
       "      <th>GROSS_FIN_NEED</th>\n",
       "      <th>...</th>\n",
       "      <th>GRAD10</th>\n",
       "      <th>GRAD11</th>\n",
       "      <th>GRAD12</th>\n",
       "      <th>GRAD13</th>\n",
       "      <th>GRAD14</th>\n",
       "      <th>GRAD15</th>\n",
       "      <th>GRAD16</th>\n",
       "      <th>GRAD17</th>\n",
       "      <th>First_Lost_Hours</th>\n",
       "      <th>Second_Lost_Hours</th>\n",
       "    </tr>\n",
       "    <tr>\n",
       "      <th>matricula</th>\n",
       "      <th></th>\n",
       "      <th></th>\n",
       "      <th></th>\n",
       "      <th></th>\n",
       "      <th></th>\n",
       "      <th></th>\n",
       "      <th></th>\n",
       "      <th></th>\n",
       "      <th></th>\n",
       "      <th></th>\n",
       "      <th></th>\n",
       "      <th></th>\n",
       "      <th></th>\n",
       "      <th></th>\n",
       "      <th></th>\n",
       "      <th></th>\n",
       "      <th></th>\n",
       "      <th></th>\n",
       "      <th></th>\n",
       "      <th></th>\n",
       "      <th></th>\n",
       "    </tr>\n",
       "  </thead>\n",
       "  <tbody>\n",
       "    <tr>\n",
       "      <th>7808615</th>\n",
       "      <td>0</td>\n",
       "      <td>1</td>\n",
       "      <td>1</td>\n",
       "      <td>150.0</td>\n",
       "      <td>4.00</td>\n",
       "      <td>0.0</td>\n",
       "      <td>0.0</td>\n",
       "      <td>16</td>\n",
       "      <td>14.0</td>\n",
       "      <td>0</td>\n",
       "      <td>...</td>\n",
       "      <td>0.0</td>\n",
       "      <td>0.0</td>\n",
       "      <td>1.0</td>\n",
       "      <td>0.0</td>\n",
       "      <td>0.0</td>\n",
       "      <td>0.0</td>\n",
       "      <td>0.0</td>\n",
       "      <td>0.0</td>\n",
       "      <td>0</td>\n",
       "      <td>0.0</td>\n",
       "    </tr>\n",
       "    <tr>\n",
       "      <th>7830063</th>\n",
       "      <td>0</td>\n",
       "      <td>0</td>\n",
       "      <td>0</td>\n",
       "      <td>69.0</td>\n",
       "      <td>2.89</td>\n",
       "      <td>3.0</td>\n",
       "      <td>3.0</td>\n",
       "      <td>18</td>\n",
       "      <td>18.0</td>\n",
       "      <td>570000</td>\n",
       "      <td>...</td>\n",
       "      <td>0.0</td>\n",
       "      <td>0.0</td>\n",
       "      <td>1.0</td>\n",
       "      <td>0.0</td>\n",
       "      <td>0.0</td>\n",
       "      <td>0.0</td>\n",
       "      <td>0.0</td>\n",
       "      <td>0.0</td>\n",
       "      <td>0</td>\n",
       "      <td>0.0</td>\n",
       "    </tr>\n",
       "    <tr>\n",
       "      <th>7847538</th>\n",
       "      <td>1</td>\n",
       "      <td>1</td>\n",
       "      <td>1</td>\n",
       "      <td>150.0</td>\n",
       "      <td>3.39</td>\n",
       "      <td>2.0</td>\n",
       "      <td>0.0</td>\n",
       "      <td>15</td>\n",
       "      <td>14.0</td>\n",
       "      <td>0</td>\n",
       "      <td>...</td>\n",
       "      <td>0.0</td>\n",
       "      <td>0.0</td>\n",
       "      <td>1.0</td>\n",
       "      <td>0.0</td>\n",
       "      <td>0.0</td>\n",
       "      <td>0.0</td>\n",
       "      <td>0.0</td>\n",
       "      <td>0.0</td>\n",
       "      <td>0</td>\n",
       "      <td>0.0</td>\n",
       "    </tr>\n",
       "    <tr>\n",
       "      <th>8006429</th>\n",
       "      <td>1</td>\n",
       "      <td>1</td>\n",
       "      <td>1</td>\n",
       "      <td>150.0</td>\n",
       "      <td>2.93</td>\n",
       "      <td>3.0</td>\n",
       "      <td>3.0</td>\n",
       "      <td>13</td>\n",
       "      <td>14.0</td>\n",
       "      <td>0</td>\n",
       "      <td>...</td>\n",
       "      <td>0.0</td>\n",
       "      <td>0.0</td>\n",
       "      <td>1.0</td>\n",
       "      <td>0.0</td>\n",
       "      <td>0.0</td>\n",
       "      <td>0.0</td>\n",
       "      <td>0.0</td>\n",
       "      <td>0.0</td>\n",
       "      <td>0</td>\n",
       "      <td>0.0</td>\n",
       "    </tr>\n",
       "    <tr>\n",
       "      <th>7962680</th>\n",
       "      <td>0</td>\n",
       "      <td>1</td>\n",
       "      <td>0</td>\n",
       "      <td>69.0</td>\n",
       "      <td>3.86</td>\n",
       "      <td>3.0</td>\n",
       "      <td>2.0</td>\n",
       "      <td>12</td>\n",
       "      <td>12.0</td>\n",
       "      <td>835920</td>\n",
       "      <td>...</td>\n",
       "      <td>0.0</td>\n",
       "      <td>0.0</td>\n",
       "      <td>0.0</td>\n",
       "      <td>0.0</td>\n",
       "      <td>0.0</td>\n",
       "      <td>0.0</td>\n",
       "      <td>0.0</td>\n",
       "      <td>0.0</td>\n",
       "      <td>0</td>\n",
       "      <td>0.0</td>\n",
       "    </tr>\n",
       "  </tbody>\n",
       "</table>\n",
       "<p>5 rows × 38 columns</p>\n",
       "</div>"
      ],
      "text/plain": [
       "           STDNT_GENDER  IN_STATE_FLAG  HOUSING_STS  DISTANCE_FROM_HOME  \\\n",
       "matricula                                                                 \n",
       "7808615               0              1            1               150.0   \n",
       "7830063               0              0            0                69.0   \n",
       "7847538               1              1            1               150.0   \n",
       "8006429               1              1            1               150.0   \n",
       "7962680               0              1            0                69.0   \n",
       "\n",
       "           HIGH_SCHL_GPA  FATHER_HI_EDU_CD  MOTHER_HI_EDU_CD  \\\n",
       "matricula                                                      \n",
       "7808615             4.00               0.0               0.0   \n",
       "7830063             2.89               3.0               3.0   \n",
       "7847538             3.39               2.0               0.0   \n",
       "8006429             2.93               3.0               3.0   \n",
       "7962680             3.86               3.0               2.0   \n",
       "\n",
       "           FIRST_TERM_ATTEMPT_HRS  SECOND_TERM_ATTEMPT_HRS  GROSS_FIN_NEED  \\\n",
       "matricula                                                                    \n",
       "7808615                        16                     14.0               0   \n",
       "7830063                        18                     18.0          570000   \n",
       "7847538                        15                     14.0               0   \n",
       "8006429                        13                     14.0               0   \n",
       "7962680                        12                     12.0          835920   \n",
       "\n",
       "           ...  GRAD10  GRAD11  GRAD12  GRAD13  GRAD14  GRAD15  GRAD16  \\\n",
       "matricula  ...                                                           \n",
       "7808615    ...     0.0     0.0     1.0     0.0     0.0     0.0     0.0   \n",
       "7830063    ...     0.0     0.0     1.0     0.0     0.0     0.0     0.0   \n",
       "7847538    ...     0.0     0.0     1.0     0.0     0.0     0.0     0.0   \n",
       "8006429    ...     0.0     0.0     1.0     0.0     0.0     0.0     0.0   \n",
       "7962680    ...     0.0     0.0     0.0     0.0     0.0     0.0     0.0   \n",
       "\n",
       "           GRAD17  First_Lost_Hours  Second_Lost_Hours  \n",
       "matricula                                               \n",
       "7808615       0.0                 0                0.0  \n",
       "7830063       0.0                 0                0.0  \n",
       "7847538       0.0                 0                0.0  \n",
       "8006429       0.0                 0                0.0  \n",
       "7962680       0.0                 0                0.0  \n",
       "\n",
       "[5 rows x 38 columns]"
      ]
     },
     "execution_count": 112,
     "metadata": {},
     "output_type": "execute_result"
    }
   ],
   "source": [
    "df.head()"
   ]
  },
  {
   "cell_type": "code",
   "execution_count": 113,
   "metadata": {
    "execution": {
     "iopub.execute_input": "2023-07-18T17:42:16.677388Z",
     "iopub.status.busy": "2023-07-18T17:42:16.676659Z",
     "iopub.status.idle": "2023-07-18T17:42:16.691763Z",
     "shell.execute_reply": "2023-07-18T17:42:16.690383Z",
     "shell.execute_reply.started": "2023-07-18T17:42:16.677339Z"
    }
   },
   "outputs": [],
   "source": [
    "df_train, df_test = train_test_split(df, test_size=0.1, random_state=42)"
   ]
  },
  {
   "cell_type": "code",
   "execution_count": 114,
   "metadata": {
    "execution": {
     "iopub.execute_input": "2023-07-18T17:42:16.693918Z",
     "iopub.status.busy": "2023-07-18T17:42:16.693414Z",
     "iopub.status.idle": "2023-07-18T17:42:16.703700Z",
     "shell.execute_reply": "2023-07-18T17:42:16.702485Z",
     "shell.execute_reply.started": "2023-07-18T17:42:16.693885Z"
    }
   },
   "outputs": [],
   "source": [
    "X_train=df_train.drop('evadiu_2sem',axis=1)\n",
    "y_train=df_train['evadiu_2sem']\n",
    "X_test=df_test.drop('evadiu_2sem',axis=1)\n",
    "y_test=df_test['evadiu_2sem']"
   ]
  },
  {
   "cell_type": "code",
   "execution_count": 115,
   "metadata": {
    "execution": {
     "iopub.execute_input": "2023-07-18T17:42:16.705456Z",
     "iopub.status.busy": "2023-07-18T17:42:16.705111Z",
     "iopub.status.idle": "2023-07-18T17:42:16.718747Z",
     "shell.execute_reply": "2023-07-18T17:42:16.717446Z",
     "shell.execute_reply.started": "2023-07-18T17:42:16.705427Z"
    }
   },
   "outputs": [
    {
     "data": {
      "text/plain": [
       "(2945, 37)"
      ]
     },
     "execution_count": 115,
     "metadata": {},
     "output_type": "execute_result"
    }
   ],
   "source": [
    "X_train.shape"
   ]
  },
  {
   "cell_type": "code",
   "execution_count": 116,
   "metadata": {
    "execution": {
     "iopub.execute_input": "2023-07-18T17:42:16.720860Z",
     "iopub.status.busy": "2023-07-18T17:42:16.720394Z",
     "iopub.status.idle": "2023-07-18T17:42:16.770859Z",
     "shell.execute_reply": "2023-07-18T17:42:16.769552Z",
     "shell.execute_reply.started": "2023-07-18T17:42:16.720818Z"
    }
   },
   "outputs": [
    {
     "data": {
      "text/html": [
       "<div>\n",
       "<style scoped>\n",
       "    .dataframe tbody tr th:only-of-type {\n",
       "        vertical-align: middle;\n",
       "    }\n",
       "\n",
       "    .dataframe tbody tr th {\n",
       "        vertical-align: top;\n",
       "    }\n",
       "\n",
       "    .dataframe thead th {\n",
       "        text-align: right;\n",
       "    }\n",
       "</style>\n",
       "<table border=\"1\" class=\"dataframe\">\n",
       "  <thead>\n",
       "    <tr style=\"text-align: right;\">\n",
       "      <th></th>\n",
       "      <th>STDNT_GENDER</th>\n",
       "      <th>IN_STATE_FLAG</th>\n",
       "      <th>HOUSING_STS</th>\n",
       "      <th>DISTANCE_FROM_HOME</th>\n",
       "      <th>HIGH_SCHL_GPA</th>\n",
       "      <th>FATHER_HI_EDU_CD</th>\n",
       "      <th>MOTHER_HI_EDU_CD</th>\n",
       "      <th>FIRST_TERM_ATTEMPT_HRS</th>\n",
       "      <th>SECOND_TERM_ATTEMPT_HRS</th>\n",
       "      <th>GROSS_FIN_NEED</th>\n",
       "      <th>...</th>\n",
       "      <th>GRAD10</th>\n",
       "      <th>GRAD11</th>\n",
       "      <th>GRAD12</th>\n",
       "      <th>GRAD13</th>\n",
       "      <th>GRAD14</th>\n",
       "      <th>GRAD15</th>\n",
       "      <th>GRAD16</th>\n",
       "      <th>GRAD17</th>\n",
       "      <th>First_Lost_Hours</th>\n",
       "      <th>Second_Lost_Hours</th>\n",
       "    </tr>\n",
       "    <tr>\n",
       "      <th>matricula</th>\n",
       "      <th></th>\n",
       "      <th></th>\n",
       "      <th></th>\n",
       "      <th></th>\n",
       "      <th></th>\n",
       "      <th></th>\n",
       "      <th></th>\n",
       "      <th></th>\n",
       "      <th></th>\n",
       "      <th></th>\n",
       "      <th></th>\n",
       "      <th></th>\n",
       "      <th></th>\n",
       "      <th></th>\n",
       "      <th></th>\n",
       "      <th></th>\n",
       "      <th></th>\n",
       "      <th></th>\n",
       "      <th></th>\n",
       "      <th></th>\n",
       "      <th></th>\n",
       "    </tr>\n",
       "  </thead>\n",
       "  <tbody>\n",
       "    <tr>\n",
       "      <th>7799972</th>\n",
       "      <td>0</td>\n",
       "      <td>1</td>\n",
       "      <td>1</td>\n",
       "      <td>138.0</td>\n",
       "      <td>3.60</td>\n",
       "      <td>0.0</td>\n",
       "      <td>0.0</td>\n",
       "      <td>18</td>\n",
       "      <td>14.0</td>\n",
       "      <td>0</td>\n",
       "      <td>...</td>\n",
       "      <td>0.0</td>\n",
       "      <td>0.0</td>\n",
       "      <td>1.0</td>\n",
       "      <td>0.0</td>\n",
       "      <td>0.0</td>\n",
       "      <td>0.0</td>\n",
       "      <td>0.0</td>\n",
       "      <td>0.0</td>\n",
       "      <td>0</td>\n",
       "      <td>0.0</td>\n",
       "    </tr>\n",
       "    <tr>\n",
       "      <th>7912807</th>\n",
       "      <td>0</td>\n",
       "      <td>1</td>\n",
       "      <td>0</td>\n",
       "      <td>59.0</td>\n",
       "      <td>3.64</td>\n",
       "      <td>2.0</td>\n",
       "      <td>3.0</td>\n",
       "      <td>12</td>\n",
       "      <td>13.0</td>\n",
       "      <td>1340880</td>\n",
       "      <td>...</td>\n",
       "      <td>0.0</td>\n",
       "      <td>1.0</td>\n",
       "      <td>0.0</td>\n",
       "      <td>0.0</td>\n",
       "      <td>0.0</td>\n",
       "      <td>0.0</td>\n",
       "      <td>0.0</td>\n",
       "      <td>0.0</td>\n",
       "      <td>0</td>\n",
       "      <td>0.0</td>\n",
       "    </tr>\n",
       "    <tr>\n",
       "      <th>7942758</th>\n",
       "      <td>1</td>\n",
       "      <td>0</td>\n",
       "      <td>0</td>\n",
       "      <td>0.0</td>\n",
       "      <td>3.16</td>\n",
       "      <td>0.0</td>\n",
       "      <td>0.0</td>\n",
       "      <td>15</td>\n",
       "      <td>0.0</td>\n",
       "      <td>0</td>\n",
       "      <td>...</td>\n",
       "      <td>0.0</td>\n",
       "      <td>0.0</td>\n",
       "      <td>1.0</td>\n",
       "      <td>0.0</td>\n",
       "      <td>0.0</td>\n",
       "      <td>0.0</td>\n",
       "      <td>0.0</td>\n",
       "      <td>0.0</td>\n",
       "      <td>0</td>\n",
       "      <td>0.0</td>\n",
       "    </tr>\n",
       "    <tr>\n",
       "      <th>7986328</th>\n",
       "      <td>1</td>\n",
       "      <td>1</td>\n",
       "      <td>1</td>\n",
       "      <td>90.0</td>\n",
       "      <td>3.36</td>\n",
       "      <td>2.0</td>\n",
       "      <td>3.0</td>\n",
       "      <td>15</td>\n",
       "      <td>17.0</td>\n",
       "      <td>867060</td>\n",
       "      <td>...</td>\n",
       "      <td>0.0</td>\n",
       "      <td>0.0</td>\n",
       "      <td>0.0</td>\n",
       "      <td>0.0</td>\n",
       "      <td>0.0</td>\n",
       "      <td>0.0</td>\n",
       "      <td>0.0</td>\n",
       "      <td>0.0</td>\n",
       "      <td>0</td>\n",
       "      <td>3.0</td>\n",
       "    </tr>\n",
       "    <tr>\n",
       "      <th>7950237</th>\n",
       "      <td>0</td>\n",
       "      <td>1</td>\n",
       "      <td>1</td>\n",
       "      <td>69.0</td>\n",
       "      <td>3.35</td>\n",
       "      <td>0.0</td>\n",
       "      <td>0.0</td>\n",
       "      <td>16</td>\n",
       "      <td>12.0</td>\n",
       "      <td>0</td>\n",
       "      <td>...</td>\n",
       "      <td>0.0</td>\n",
       "      <td>0.0</td>\n",
       "      <td>1.0</td>\n",
       "      <td>0.0</td>\n",
       "      <td>0.0</td>\n",
       "      <td>0.0</td>\n",
       "      <td>0.0</td>\n",
       "      <td>0.0</td>\n",
       "      <td>6</td>\n",
       "      <td>3.0</td>\n",
       "    </tr>\n",
       "    <tr>\n",
       "      <th>...</th>\n",
       "      <td>...</td>\n",
       "      <td>...</td>\n",
       "      <td>...</td>\n",
       "      <td>...</td>\n",
       "      <td>...</td>\n",
       "      <td>...</td>\n",
       "      <td>...</td>\n",
       "      <td>...</td>\n",
       "      <td>...</td>\n",
       "      <td>...</td>\n",
       "      <td>...</td>\n",
       "      <td>...</td>\n",
       "      <td>...</td>\n",
       "      <td>...</td>\n",
       "      <td>...</td>\n",
       "      <td>...</td>\n",
       "      <td>...</td>\n",
       "      <td>...</td>\n",
       "      <td>...</td>\n",
       "      <td>...</td>\n",
       "      <td>...</td>\n",
       "    </tr>\n",
       "    <tr>\n",
       "      <th>7865723</th>\n",
       "      <td>0</td>\n",
       "      <td>1</td>\n",
       "      <td>0</td>\n",
       "      <td>69.0</td>\n",
       "      <td>3.90</td>\n",
       "      <td>2.0</td>\n",
       "      <td>2.0</td>\n",
       "      <td>15</td>\n",
       "      <td>14.0</td>\n",
       "      <td>0</td>\n",
       "      <td>...</td>\n",
       "      <td>0.0</td>\n",
       "      <td>0.0</td>\n",
       "      <td>0.0</td>\n",
       "      <td>0.0</td>\n",
       "      <td>0.0</td>\n",
       "      <td>0.0</td>\n",
       "      <td>0.0</td>\n",
       "      <td>0.0</td>\n",
       "      <td>0</td>\n",
       "      <td>3.0</td>\n",
       "    </tr>\n",
       "    <tr>\n",
       "      <th>7946138</th>\n",
       "      <td>1</td>\n",
       "      <td>1</td>\n",
       "      <td>0</td>\n",
       "      <td>69.0</td>\n",
       "      <td>3.50</td>\n",
       "      <td>2.0</td>\n",
       "      <td>2.0</td>\n",
       "      <td>14</td>\n",
       "      <td>13.0</td>\n",
       "      <td>813780</td>\n",
       "      <td>...</td>\n",
       "      <td>0.0</td>\n",
       "      <td>0.0</td>\n",
       "      <td>1.0</td>\n",
       "      <td>0.0</td>\n",
       "      <td>0.0</td>\n",
       "      <td>0.0</td>\n",
       "      <td>0.0</td>\n",
       "      <td>0.0</td>\n",
       "      <td>0</td>\n",
       "      <td>0.0</td>\n",
       "    </tr>\n",
       "    <tr>\n",
       "      <th>7976128</th>\n",
       "      <td>0</td>\n",
       "      <td>1</td>\n",
       "      <td>1</td>\n",
       "      <td>69.0</td>\n",
       "      <td>3.60</td>\n",
       "      <td>2.0</td>\n",
       "      <td>3.0</td>\n",
       "      <td>17</td>\n",
       "      <td>14.0</td>\n",
       "      <td>0</td>\n",
       "      <td>...</td>\n",
       "      <td>0.0</td>\n",
       "      <td>0.0</td>\n",
       "      <td>1.0</td>\n",
       "      <td>0.0</td>\n",
       "      <td>0.0</td>\n",
       "      <td>0.0</td>\n",
       "      <td>0.0</td>\n",
       "      <td>0.0</td>\n",
       "      <td>0</td>\n",
       "      <td>0.0</td>\n",
       "    </tr>\n",
       "    <tr>\n",
       "      <th>7756753</th>\n",
       "      <td>0</td>\n",
       "      <td>1</td>\n",
       "      <td>1</td>\n",
       "      <td>150.0</td>\n",
       "      <td>2.37</td>\n",
       "      <td>2.0</td>\n",
       "      <td>2.0</td>\n",
       "      <td>15</td>\n",
       "      <td>15.0</td>\n",
       "      <td>13920</td>\n",
       "      <td>...</td>\n",
       "      <td>0.0</td>\n",
       "      <td>0.0</td>\n",
       "      <td>1.0</td>\n",
       "      <td>0.0</td>\n",
       "      <td>0.0</td>\n",
       "      <td>0.0</td>\n",
       "      <td>0.0</td>\n",
       "      <td>0.0</td>\n",
       "      <td>0</td>\n",
       "      <td>3.0</td>\n",
       "    </tr>\n",
       "    <tr>\n",
       "      <th>7908125</th>\n",
       "      <td>0</td>\n",
       "      <td>1</td>\n",
       "      <td>0</td>\n",
       "      <td>90.0</td>\n",
       "      <td>3.96</td>\n",
       "      <td>3.0</td>\n",
       "      <td>3.0</td>\n",
       "      <td>15</td>\n",
       "      <td>13.0</td>\n",
       "      <td>0</td>\n",
       "      <td>...</td>\n",
       "      <td>0.0</td>\n",
       "      <td>0.0</td>\n",
       "      <td>1.0</td>\n",
       "      <td>0.0</td>\n",
       "      <td>0.0</td>\n",
       "      <td>0.0</td>\n",
       "      <td>0.0</td>\n",
       "      <td>0.0</td>\n",
       "      <td>0</td>\n",
       "      <td>0.0</td>\n",
       "    </tr>\n",
       "  </tbody>\n",
       "</table>\n",
       "<p>2945 rows × 37 columns</p>\n",
       "</div>"
      ],
      "text/plain": [
       "           STDNT_GENDER  IN_STATE_FLAG  HOUSING_STS  DISTANCE_FROM_HOME  \\\n",
       "matricula                                                                 \n",
       "7799972               0              1            1               138.0   \n",
       "7912807               0              1            0                59.0   \n",
       "7942758               1              0            0                 0.0   \n",
       "7986328               1              1            1                90.0   \n",
       "7950237               0              1            1                69.0   \n",
       "...                 ...            ...          ...                 ...   \n",
       "7865723               0              1            0                69.0   \n",
       "7946138               1              1            0                69.0   \n",
       "7976128               0              1            1                69.0   \n",
       "7756753               0              1            1               150.0   \n",
       "7908125               0              1            0                90.0   \n",
       "\n",
       "           HIGH_SCHL_GPA  FATHER_HI_EDU_CD  MOTHER_HI_EDU_CD  \\\n",
       "matricula                                                      \n",
       "7799972             3.60               0.0               0.0   \n",
       "7912807             3.64               2.0               3.0   \n",
       "7942758             3.16               0.0               0.0   \n",
       "7986328             3.36               2.0               3.0   \n",
       "7950237             3.35               0.0               0.0   \n",
       "...                  ...               ...               ...   \n",
       "7865723             3.90               2.0               2.0   \n",
       "7946138             3.50               2.0               2.0   \n",
       "7976128             3.60               2.0               3.0   \n",
       "7756753             2.37               2.0               2.0   \n",
       "7908125             3.96               3.0               3.0   \n",
       "\n",
       "           FIRST_TERM_ATTEMPT_HRS  SECOND_TERM_ATTEMPT_HRS  GROSS_FIN_NEED  \\\n",
       "matricula                                                                    \n",
       "7799972                        18                     14.0               0   \n",
       "7912807                        12                     13.0         1340880   \n",
       "7942758                        15                      0.0               0   \n",
       "7986328                        15                     17.0          867060   \n",
       "7950237                        16                     12.0               0   \n",
       "...                           ...                      ...             ...   \n",
       "7865723                        15                     14.0               0   \n",
       "7946138                        14                     13.0          813780   \n",
       "7976128                        17                     14.0               0   \n",
       "7756753                        15                     15.0           13920   \n",
       "7908125                        15                     13.0               0   \n",
       "\n",
       "           ...  GRAD10  GRAD11  GRAD12  GRAD13  GRAD14  GRAD15  GRAD16  \\\n",
       "matricula  ...                                                           \n",
       "7799972    ...     0.0     0.0     1.0     0.0     0.0     0.0     0.0   \n",
       "7912807    ...     0.0     1.0     0.0     0.0     0.0     0.0     0.0   \n",
       "7942758    ...     0.0     0.0     1.0     0.0     0.0     0.0     0.0   \n",
       "7986328    ...     0.0     0.0     0.0     0.0     0.0     0.0     0.0   \n",
       "7950237    ...     0.0     0.0     1.0     0.0     0.0     0.0     0.0   \n",
       "...        ...     ...     ...     ...     ...     ...     ...     ...   \n",
       "7865723    ...     0.0     0.0     0.0     0.0     0.0     0.0     0.0   \n",
       "7946138    ...     0.0     0.0     1.0     0.0     0.0     0.0     0.0   \n",
       "7976128    ...     0.0     0.0     1.0     0.0     0.0     0.0     0.0   \n",
       "7756753    ...     0.0     0.0     1.0     0.0     0.0     0.0     0.0   \n",
       "7908125    ...     0.0     0.0     1.0     0.0     0.0     0.0     0.0   \n",
       "\n",
       "           GRAD17  First_Lost_Hours  Second_Lost_Hours  \n",
       "matricula                                               \n",
       "7799972       0.0                 0                0.0  \n",
       "7912807       0.0                 0                0.0  \n",
       "7942758       0.0                 0                0.0  \n",
       "7986328       0.0                 0                3.0  \n",
       "7950237       0.0                 6                3.0  \n",
       "...           ...               ...                ...  \n",
       "7865723       0.0                 0                3.0  \n",
       "7946138       0.0                 0                0.0  \n",
       "7976128       0.0                 0                0.0  \n",
       "7756753       0.0                 0                3.0  \n",
       "7908125       0.0                 0                0.0  \n",
       "\n",
       "[2945 rows x 37 columns]"
      ]
     },
     "execution_count": 116,
     "metadata": {},
     "output_type": "execute_result"
    }
   ],
   "source": [
    "X_train"
   ]
  },
  {
   "cell_type": "code",
   "execution_count": 117,
   "metadata": {
    "execution": {
     "iopub.execute_input": "2023-07-18T17:42:16.774112Z",
     "iopub.status.busy": "2023-07-18T17:42:16.773754Z",
     "iopub.status.idle": "2023-07-18T17:42:16.779471Z",
     "shell.execute_reply": "2023-07-18T17:42:16.778152Z",
     "shell.execute_reply.started": "2023-07-18T17:42:16.774081Z"
    }
   },
   "outputs": [],
   "source": [
    "y_train=np.ravel(y_train)\n",
    "y_test=np.ravel(y_test)"
   ]
  },
  {
   "cell_type": "code",
   "execution_count": 118,
   "metadata": {
    "execution": {
     "iopub.execute_input": "2023-07-18T17:42:16.781490Z",
     "iopub.status.busy": "2023-07-18T17:42:16.781081Z",
     "iopub.status.idle": "2023-07-18T17:42:16.794361Z",
     "shell.execute_reply": "2023-07-18T17:42:16.793172Z",
     "shell.execute_reply.started": "2023-07-18T17:42:16.781419Z"
    }
   },
   "outputs": [
    {
     "name": "stdout",
     "output_type": "stream",
     "text": [
      "(2945, 37)\n",
      "Counter({1: 2334, 0: 611})\n"
     ]
    }
   ],
   "source": [
    "print(X_train.shape)\n",
    "counter = Counter(y_train)\n",
    "print(counter)"
   ]
  },
  {
   "cell_type": "markdown",
   "metadata": {},
   "source": [
    "# COM OVERSAMPLE (SMOTE)"
   ]
  },
  {
   "cell_type": "code",
   "execution_count": 119,
   "metadata": {
    "execution": {
     "iopub.execute_input": "2023-07-18T17:42:16.798245Z",
     "iopub.status.busy": "2023-07-18T17:42:16.795906Z",
     "iopub.status.idle": "2023-07-18T17:42:16.825242Z",
     "shell.execute_reply": "2023-07-18T17:42:16.824230Z",
     "shell.execute_reply.started": "2023-07-18T17:42:16.798200Z"
    }
   },
   "outputs": [],
   "source": [
    "oversampler=SMOTE(random_state=42)\n",
    "X_train_smote,  y_train_smote = oversampler.fit_resample(X_train,y_train)"
   ]
  },
  {
   "cell_type": "code",
   "execution_count": 120,
   "metadata": {
    "execution": {
     "iopub.execute_input": "2023-07-18T17:42:16.828421Z",
     "iopub.status.busy": "2023-07-18T17:42:16.827683Z",
     "iopub.status.idle": "2023-07-18T17:42:16.835311Z",
     "shell.execute_reply": "2023-07-18T17:42:16.834388Z",
     "shell.execute_reply.started": "2023-07-18T17:42:16.828376Z"
    }
   },
   "outputs": [
    {
     "name": "stdout",
     "output_type": "stream",
     "text": [
      "Counter({0: 2334, 1: 2334})\n"
     ]
    }
   ],
   "source": [
    "counter = Counter(y_train_smote)\n",
    "print(counter)"
   ]
  },
  {
   "cell_type": "code",
   "execution_count": 121,
   "metadata": {
    "execution": {
     "iopub.execute_input": "2023-07-18T17:42:16.837248Z",
     "iopub.status.busy": "2023-07-18T17:42:16.836852Z",
     "iopub.status.idle": "2023-07-18T17:42:16.865364Z",
     "shell.execute_reply": "2023-07-18T17:42:16.864263Z",
     "shell.execute_reply.started": "2023-07-18T17:42:16.837163Z"
    }
   },
   "outputs": [
    {
     "data": {
      "text/plain": [
       "['scaler_smote.sav']"
      ]
     },
     "execution_count": 121,
     "metadata": {},
     "output_type": "execute_result"
    }
   ],
   "source": [
    "scaler_smote=StandardScaler()\n",
    "X_train_smote_svm=scaler_smote.fit_transform(X_train_smote)\n",
    "X_test_smote_svm=scaler_smote.transform(X_test)\n",
    "joblib.dump(scaler_smote,'scaler_smote.sav')"
   ]
  },
  {
   "cell_type": "markdown",
   "metadata": {},
   "source": [
    "# Default"
   ]
  },
  {
   "cell_type": "code",
   "execution_count": 122,
   "metadata": {
    "execution": {
     "iopub.execute_input": "2023-07-18T17:42:16.867696Z",
     "iopub.status.busy": "2023-07-18T17:42:16.867241Z",
     "iopub.status.idle": "2023-07-18T17:42:26.547769Z",
     "shell.execute_reply": "2023-07-18T17:42:26.546453Z",
     "shell.execute_reply.started": "2023-07-18T17:42:16.867654Z"
    }
   },
   "outputs": [
    {
     "name": "stdout",
     "output_type": "stream",
     "text": [
      "Teste de acuracia (predict):  0.7012195121951219\n"
     ]
    },
    {
     "data": {
      "image/png": "[encoded data removed]",
      "text/plain": [
       "<Figure size 640x480 with 2 Axes>"
      ]
     },
     "metadata": {},
     "output_type": "display_data"
    }
   ],
   "source": [
    "clf_proba=svm.SVC(kernel='linear',probability=True)\n",
    "clf_proba.fit(X_train_smote_svm,y_train_smote)\n",
    "yhat2=clf_proba.predict(X_test_smote_svm)\n",
    "yhatproba=clf_proba.predict_proba(X_test_smote_svm)\n",
    "yhatproba2=np.argmax(yhatproba,axis=1)\n",
    "\n",
    "print('Teste de acuracia (predict): ',accuracy_score(y_test,yhat2))\n",
    "disp=ConfusionMatrixDisplay(confusion_matrix(y_test,yhat2))\n",
    "disp.plot()\n",
    "plt.show()"
   ]
  },
  {
   "cell_type": "code",
   "execution_count": 123,
   "metadata": {},
   "outputs": [
    {
     "data": {
      "text/plain": [
       "array([[0.46877092, 0.53122908],\n",
       "       [0.17826848, 0.82173152],\n",
       "       [0.49260674, 0.50739326],\n",
       "       [0.33601644, 0.66398356],\n",
       "       [0.81073974, 0.18926026]])"
      ]
     },
     "execution_count": 123,
     "metadata": {},
     "output_type": "execute_result"
    }
   ],
   "source": [
    "yhatproba[0:5,:]"
   ]
  },
  {
   "cell_type": "code",
   "execution_count": 124,
   "metadata": {
    "execution": {
     "iopub.execute_input": "2023-07-18T17:42:26.550710Z",
     "iopub.status.busy": "2023-07-18T17:42:26.549472Z",
     "iopub.status.idle": "2023-07-18T17:42:26.856932Z",
     "shell.execute_reply": "2023-07-18T17:42:26.855675Z",
     "shell.execute_reply.started": "2023-07-18T17:42:26.550660Z"
    }
   },
   "outputs": [
    {
     "name": "stdout",
     "output_type": "stream",
     "text": [
      "Teste de acuracia (predict_proba):  0.6890243902439024\n"
     ]
    },
    {
     "data": {
      "image/png": "[encoded data removed]",
      "text/plain": [
       "<Figure size 640x480 with 2 Axes>"
      ]
     },
     "metadata": {},
     "output_type": "display_data"
    }
   ],
   "source": [
    "print('Teste de acuracia (predict_proba): ',accuracy_score(y_test,yhatproba2))\n",
    "disp=ConfusionMatrixDisplay(confusion_matrix(y_test,yhatproba2))\n",
    "disp.plot()\n",
    "plt.show()"
   ]
  },
  {
   "cell_type": "markdown",
   "metadata": {},
   "source": [
    "# Gridsearch"
   ]
  },
  {
   "cell_type": "code",
   "execution_count": 125,
   "metadata": {
    "execution": {
     "iopub.execute_input": "2023-07-18T17:42:26.858899Z",
     "iopub.status.busy": "2023-07-18T17:42:26.858444Z",
     "iopub.status.idle": "2023-07-18T17:44:54.197252Z",
     "shell.execute_reply": "2023-07-18T17:44:54.195827Z",
     "shell.execute_reply.started": "2023-07-18T17:42:26.858866Z"
    }
   },
   "outputs": [
    {
     "name": "stdout",
     "output_type": "stream",
     "text": [
      "Fitting 5 folds for each of 5 candidates, totalling 25 fits\n",
      "Accuracy Score = 0.71\n",
      "{'svc__C': 0.01, 'svc__kernel': 'linear'}\n"
     ]
    }
   ],
   "source": [
    "\n",
    "make_pipeline(SMOTE(random_state=42),StandardScaler(), svm.SVC())\n",
    "\n",
    "\n",
    "parameters = {\n",
    "                'svc__kernel': ['linear'],#, 'poly', 'rbf'],#, 'sigmoid'],\n",
    "                'svc__C': [0.01, 0.1, 1, 10, 100],\n",
    "            }\n",
    "\n",
    "grid_hyper(make_pipeline(SMOTE(random_state=42),StandardScaler(), svm.SVC()),X_train,y_train,X_test,y_test,parameters)"
   ]
  },
  {
   "cell_type": "code",
   "execution_count": 126,
   "metadata": {
    "execution": {
     "iopub.execute_input": "2023-07-18T17:44:54.199335Z",
     "iopub.status.busy": "2023-07-18T17:44:54.198981Z",
     "iopub.status.idle": "2023-07-18T17:44:58.716169Z",
     "shell.execute_reply": "2023-07-18T17:44:58.715177Z",
     "shell.execute_reply.started": "2023-07-18T17:44:54.199298Z"
    }
   },
   "outputs": [
    {
     "name": "stdout",
     "output_type": "stream",
     "text": [
      "Teste de acuracia (predict):  0.7073170731707317\n"
     ]
    },
    {
     "data": {
      "image/png": "[encoded data removed]",
      "text/plain": [
       "<Figure size 640x480 with 2 Axes>"
      ]
     },
     "metadata": {},
     "output_type": "display_data"
    }
   ],
   "source": [
    "clf_proba=svm.SVC(kernel='linear',C=0.01,probability=True)\n",
    "clf_proba.fit(X_train_smote_svm,y_train_smote)\n",
    "yhat2=clf_proba.predict(X_test_smote_svm)\n",
    "yhatproba=clf_proba.predict_proba(X_test_smote_svm)\n",
    "yhatproba2=np.argmax(yhatproba,axis=1)\n",
    "\n",
    "print('Teste de acuracia (predict): ',accuracy_score(y_test,yhat2))\n",
    "disp=ConfusionMatrixDisplay(confusion_matrix(y_test,yhat2))\n",
    "disp.plot()\n",
    "plt.show()"
   ]
  },
  {
   "cell_type": "code",
   "execution_count": 127,
   "metadata": {
    "execution": {
     "iopub.execute_input": "2023-07-18T17:44:58.718271Z",
     "iopub.status.busy": "2023-07-18T17:44:58.717895Z",
     "iopub.status.idle": "2023-07-18T17:44:59.030485Z",
     "shell.execute_reply": "2023-07-18T17:44:59.029323Z",
     "shell.execute_reply.started": "2023-07-18T17:44:58.718238Z"
    }
   },
   "outputs": [
    {
     "name": "stdout",
     "output_type": "stream",
     "text": [
      "Teste de acuracia (predict_proba):  0.676829268292683\n"
     ]
    },
    {
     "data": {
      "image/png": "[encoded data removed]",
      "text/plain": [
       "<Figure size 640x480 with 2 Axes>"
      ]
     },
     "metadata": {},
     "output_type": "display_data"
    }
   ],
   "source": [
    "print('Teste de acuracia (predict_proba): ',accuracy_score(y_test,yhatproba2))\n",
    "disp=ConfusionMatrixDisplay(confusion_matrix(y_test,yhatproba2))\n",
    "disp.plot()\n",
    "plt.show()"
   ]
  },
  {
   "cell_type": "code",
   "execution_count": 128,
   "metadata": {
    "execution": {
     "iopub.execute_input": "2023-07-18T17:44:59.032076Z",
     "iopub.status.busy": "2023-07-18T17:44:59.031740Z",
     "iopub.status.idle": "2023-07-18T17:44:59.608114Z",
     "shell.execute_reply": "2023-07-18T17:44:59.606789Z",
     "shell.execute_reply.started": "2023-07-18T17:44:59.032040Z"
    }
   },
   "outputs": [
    {
     "data": {
      "image/png": "[encoded data removed]",
      "text/plain": [
       "<Figure size 1500x500 with 1 Axes>"
      ]
     },
     "metadata": {},
     "output_type": "display_data"
    }
   ],
   "source": [
    "plot_coefficients(clf_proba, X_train.columns)"
   ]
  },
  {
   "cell_type": "code",
   "execution_count": 129,
   "metadata": {
    "execution": {
     "iopub.execute_input": "2023-07-18T17:44:59.610392Z",
     "iopub.status.busy": "2023-07-18T17:44:59.609583Z",
     "iopub.status.idle": "2023-07-18T17:45:07.715247Z",
     "shell.execute_reply": "2023-07-18T17:45:07.714170Z",
     "shell.execute_reply.started": "2023-07-18T17:44:59.610351Z"
    }
   },
   "outputs": [
    {
     "name": "stdout",
     "output_type": "stream",
     "text": [
      "Teste de acuracia (predict):  0.6798780487804879\n"
     ]
    },
    {
     "data": {
      "image/png": "[encoded data removed]",
      "text/plain": [
       "<Figure size 640x480 with 2 Axes>"
      ]
     },
     "metadata": {},
     "output_type": "display_data"
    }
   ],
   "source": [
    "base_clf=svm.SVC(kernel='linear',class_weight='balanced',C=0.01)\n",
    "clf = CalibratedClassifierCV(base_estimator=base_clf, cv=10)\n",
    "clf.fit(X_train_smote_svm,y_train_smote)\n",
    "yhat2=clf.predict(X_test_smote_svm)\n",
    "yhatproba=clf.predict_proba(X_test_smote_svm)\n",
    "yhatproba2=np.argmax(yhatproba,axis=1)\n",
    "\n",
    "print('Teste de acuracia (predict): ',accuracy_score(y_test,yhat2))\n",
    "disp=ConfusionMatrixDisplay(confusion_matrix(y_test,yhat2))\n",
    "disp.plot()\n",
    "plt.show()"
   ]
  },
  {
   "cell_type": "code",
   "execution_count": 130,
   "metadata": {},
   "outputs": [
    {
     "data": {
      "text/plain": [
       "array([[0.45776405, 0.54223595],\n",
       "       [0.17323751, 0.82676249],\n",
       "       [0.49421319, 0.50578681],\n",
       "       [0.32988452, 0.67011548],\n",
       "       [0.81682032, 0.18317968]])"
      ]
     },
     "execution_count": 130,
     "metadata": {},
     "output_type": "execute_result"
    }
   ],
   "source": [
    "yhatproba[0:5,:]"
   ]
  },
  {
   "cell_type": "code",
   "execution_count": 131,
   "metadata": {
    "execution": {
     "iopub.execute_input": "2023-07-18T17:45:07.717304Z",
     "iopub.status.busy": "2023-07-18T17:45:07.716493Z",
     "iopub.status.idle": "2023-07-18T17:45:08.014305Z",
     "shell.execute_reply": "2023-07-18T17:45:08.012905Z",
     "shell.execute_reply.started": "2023-07-18T17:45:07.717269Z"
    }
   },
   "outputs": [
    {
     "name": "stdout",
     "output_type": "stream",
     "text": [
      "Teste de acuracia (predict):  0.6798780487804879\n"
     ]
    },
    {
     "data": {
      "image/png": "[encoded data removed]",
      "text/plain": [
       "<Figure size 640x480 with 2 Axes>"
      ]
     },
     "metadata": {},
     "output_type": "display_data"
    }
   ],
   "source": [
    "print('Teste de acuracia (predict): ',accuracy_score(y_test,yhatproba2))\n",
    "disp=ConfusionMatrixDisplay(confusion_matrix(y_test,yhatproba2))\n",
    "disp.plot()\n",
    "plt.show()"
   ]
  },
  {
   "cell_type": "markdown",
   "metadata": {},
   "source": [
    "# Balanceamento de métricas"
   ]
  },
  {
   "cell_type": "code",
   "execution_count": 132,
   "metadata": {
    "execution": {
     "iopub.execute_input": "2023-07-18T17:45:08.016582Z",
     "iopub.status.busy": "2023-07-18T17:45:08.016018Z",
     "iopub.status.idle": "2023-07-18T17:45:12.040704Z",
     "shell.execute_reply": "2023-07-18T17:45:12.039393Z",
     "shell.execute_reply.started": "2023-07-18T17:45:08.016532Z"
    }
   },
   "outputs": [
    {
     "name": "stdout",
     "output_type": "stream",
     "text": [
      "Teste de acuracia (predict):  0.7682926829268293\n"
     ]
    },
    {
     "data": {
      "image/png": "[encoded data removed]",
      "text/plain": [
       "<Figure size 640x480 with 2 Axes>"
      ]
     },
     "metadata": {},
     "output_type": "display_data"
    }
   ],
   "source": [
    "scaler2=StandardScaler()\n",
    "X_train__scale=scaler2.fit_transform(X_train)\n",
    "X_test__scale=scaler2.transform(X_test)\n",
    "\n",
    "clf_proba=svm.SVC(kernel='linear',probability=True,class_weight='balanced')\n",
    "clf_proba.fit(X_train__scale,y_train)\n",
    "yhat2=clf_proba.predict(X_test__scale)\n",
    "yhatproba=clf_proba.predict_proba(X_test__scale)\n",
    "yhatproba2=np.argmax(yhatproba,axis=1)\n",
    "\n",
    "print('Teste de acuracia (predict): ',accuracy_score(y_test,yhat2))\n",
    "disp=ConfusionMatrixDisplay(confusion_matrix(y_test,yhat2))\n",
    "disp.plot()\n",
    "plt.show()"
   ]
  },
  {
   "cell_type": "code",
   "execution_count": 133,
   "metadata": {
    "execution": {
     "iopub.execute_input": "2023-07-18T17:45:12.043479Z",
     "iopub.status.busy": "2023-07-18T17:45:12.042701Z",
     "iopub.status.idle": "2023-07-18T17:45:12.331710Z",
     "shell.execute_reply": "2023-07-18T17:45:12.330323Z",
     "shell.execute_reply.started": "2023-07-18T17:45:12.043432Z"
    }
   },
   "outputs": [
    {
     "name": "stdout",
     "output_type": "stream",
     "text": [
      "Teste de acuracia (predict_proba):  0.8140243902439024\n"
     ]
    },
    {
     "data": {
      "image/png": "[encoded data removed]",
      "text/plain": [
       "<Figure size 640x480 with 2 Axes>"
      ]
     },
     "metadata": {},
     "output_type": "display_data"
    }
   ],
   "source": [
    "print('Teste de acuracia (predict_proba): ',accuracy_score(y_test,yhatproba2))\n",
    "disp=ConfusionMatrixDisplay(confusion_matrix(y_test,yhatproba2))\n",
    "disp.plot()\n",
    "plt.show()"
   ]
  },
  {
   "cell_type": "markdown",
   "metadata": {},
   "source": [
    "# GRIDSEARCH"
   ]
  },
  {
   "cell_type": "code",
   "execution_count": 134,
   "metadata": {
    "execution": {
     "iopub.execute_input": "2023-07-18T17:45:12.333501Z",
     "iopub.status.busy": "2023-07-18T17:45:12.333168Z",
     "iopub.status.idle": "2023-07-18T17:46:09.042857Z",
     "shell.execute_reply": "2023-07-18T17:46:09.041586Z",
     "shell.execute_reply.started": "2023-07-18T17:45:12.333472Z"
    }
   },
   "outputs": [
    {
     "name": "stdout",
     "output_type": "stream",
     "text": [
      "Fitting 5 folds for each of 5 candidates, totalling 25 fits\n",
      "Accuracy Score = 0.79\n",
      "{'svc__C': 0.01, 'svc__kernel': 'linear'}\n"
     ]
    }
   ],
   "source": [
    "make_pipeline(SMOTE(random_state=42),StandardScaler(), svm.SVC())\n",
    "\n",
    "\n",
    "parameters = {\n",
    "                'svc__kernel': ['linear'],#, 'poly', 'rbf']\n",
    "                'svc__C': [0.01, 0.1, 1, 10, 100],\n",
    "            }\n",
    "\n",
    "grid_hyper(make_pipeline(StandardScaler(), svm.SVC(class_weight='balanced')),X_train,y_train,X_test,y_test,parameters)"
   ]
  },
  {
   "cell_type": "code",
   "execution_count": 135,
   "metadata": {
    "execution": {
     "iopub.execute_input": "2023-07-18T17:46:09.044627Z",
     "iopub.status.busy": "2023-07-18T17:46:09.044268Z",
     "iopub.status.idle": "2023-07-18T17:46:10.991693Z",
     "shell.execute_reply": "2023-07-18T17:46:10.990535Z",
     "shell.execute_reply.started": "2023-07-18T17:46:09.044597Z"
    }
   },
   "outputs": [
    {
     "name": "stdout",
     "output_type": "stream",
     "text": [
      "Teste de acuracia (predict):  0.7865853658536586\n"
     ]
    },
    {
     "data": {
      "image/png": "[encoded data removed]",
      "text/plain": [
       "<Figure size 640x480 with 2 Axes>"
      ]
     },
     "metadata": {},
     "output_type": "display_data"
    }
   ],
   "source": [
    "clf_proba=svm.SVC(kernel='linear',C=0.01,probability=True,class_weight='balanced')\n",
    "clf_proba.fit(X_train__scale,y_train)\n",
    "yhat2=clf_proba.predict(X_test__scale)\n",
    "yhatproba=clf_proba.predict_proba(X_test__scale)\n",
    "yhatproba2=np.argmax(yhatproba,axis=1)\n",
    "\n",
    "print('Teste de acuracia (predict): ',accuracy_score(y_test,yhat2))\n",
    "disp=ConfusionMatrixDisplay(confusion_matrix(y_test,yhat2))\n",
    "disp.plot()\n",
    "plt.show()"
   ]
  },
  {
   "cell_type": "code",
   "execution_count": 136,
   "metadata": {},
   "outputs": [
    {
     "data": {
      "text/plain": [
       "array([[0.10419688, 0.89580312],\n",
       "       [0.18597046, 0.81402954],\n",
       "       [0.21850462, 0.78149538],\n",
       "       [0.1828418 , 0.8171582 ],\n",
       "       [0.43230734, 0.56769266]])"
      ]
     },
     "execution_count": 136,
     "metadata": {},
     "output_type": "execute_result"
    }
   ],
   "source": [
    "yhatproba[0:5,:]"
   ]
  },
  {
   "cell_type": "code",
   "execution_count": 137,
   "metadata": {
    "execution": {
     "iopub.execute_input": "2023-07-18T17:46:10.993836Z",
     "iopub.status.busy": "2023-07-18T17:46:10.993377Z",
     "iopub.status.idle": "2023-07-18T17:46:11.270951Z",
     "shell.execute_reply": "2023-07-18T17:46:11.269797Z",
     "shell.execute_reply.started": "2023-07-18T17:46:10.993792Z"
    }
   },
   "outputs": [
    {
     "name": "stdout",
     "output_type": "stream",
     "text": [
      "Teste de acuracia (predict):  0.8109756097560976\n"
     ]
    },
    {
     "data": {
      "image/png": "[encoded data removed]",
      "text/plain": [
       "<Figure size 640x480 with 2 Axes>"
      ]
     },
     "metadata": {},
     "output_type": "display_data"
    }
   ],
   "source": [
    "print('Teste de acuracia (predict): ',accuracy_score(y_test,yhatproba2))\n",
    "disp=ConfusionMatrixDisplay(confusion_matrix(y_test,yhatproba2))\n",
    "disp.plot()\n",
    "plt.show()"
   ]
  },
  {
   "cell_type": "code",
   "execution_count": 138,
   "metadata": {
    "execution": {
     "iopub.execute_input": "2023-07-18T17:46:11.273029Z",
     "iopub.status.busy": "2023-07-18T17:46:11.272423Z",
     "iopub.status.idle": "2023-07-18T17:46:11.831874Z",
     "shell.execute_reply": "2023-07-18T17:46:11.830613Z",
     "shell.execute_reply.started": "2023-07-18T17:46:11.272989Z"
    }
   },
   "outputs": [
    {
     "data": {
      "image/png": "[encoded data removed]",
      "text/plain": [
       "<Figure size 1500x500 with 1 Axes>"
      ]
     },
     "metadata": {},
     "output_type": "display_data"
    }
   ],
   "source": [
    "plot_coefficients(clf_proba, X_train.columns)\n"
   ]
  },
  {
   "cell_type": "code",
   "execution_count": 139,
   "metadata": {
    "execution": {
     "iopub.execute_input": "2023-07-18T17:46:11.834689Z",
     "iopub.status.busy": "2023-07-18T17:46:11.833575Z",
     "iopub.status.idle": "2023-07-18T17:46:15.679853Z",
     "shell.execute_reply": "2023-07-18T17:46:15.678741Z",
     "shell.execute_reply.started": "2023-07-18T17:46:11.834633Z"
    }
   },
   "outputs": [
    {
     "name": "stdout",
     "output_type": "stream",
     "text": [
      "Teste de acuracia (predict):  0.8109756097560976\n"
     ]
    },
    {
     "data": {
      "image/png": "[encoded data removed]",
      "text/plain": [
       "<Figure size 640x480 with 2 Axes>"
      ]
     },
     "metadata": {},
     "output_type": "display_data"
    }
   ],
   "source": [
    "base_clf=svm.SVC(kernel='linear',class_weight='balanced',C=0.01)\n",
    "clf = CalibratedClassifierCV(base_estimator=base_clf, cv=10)\n",
    "clf.fit(X_train__scale,y_train)\n",
    "yhat2=clf.predict(X_test__scale)\n",
    "yhatproba=clf.predict_proba(X_test__scale)\n",
    "yhatproba2=np.argmax(yhatproba,axis=1)\n",
    "\n",
    "print('Teste de acuracia (predict): ',accuracy_score(y_test,yhat2))\n",
    "disp=ConfusionMatrixDisplay(confusion_matrix(y_test,yhat2))\n",
    "disp.plot()\n",
    "plt.show()"
   ]
  },
  {
   "cell_type": "code",
   "execution_count": 140,
   "metadata": {},
   "outputs": [
    {
     "data": {
      "text/plain": [
       "array([[0.10352707, 0.89647293],\n",
       "       [0.184779  , 0.815221  ],\n",
       "       [0.21059288, 0.78940712],\n",
       "       [0.17912985, 0.82087015],\n",
       "       [0.42134344, 0.57865656]])"
      ]
     },
     "execution_count": 140,
     "metadata": {},
     "output_type": "execute_result"
    }
   ],
   "source": [
    "yhatproba[0:5,:]"
   ]
  },
  {
   "cell_type": "code",
   "execution_count": null,
   "metadata": {},
   "outputs": [],
   "source": []
  }
 ],
 "metadata": {
  "kernelspec": {
   "display_name": "Python 3 (ipykernel)",
   "language": "python",
   "name": "python3"
  },
  "language_info": {
   "codemirror_mode": {
    "name": "ipython",
    "version": 3
   },
   "file_extension": ".py",
   "mimetype": "text/x-python",
   "name": "python",
   "nbconvert_exporter": "python",
   "pygments_lexer": "ipython3",
   "version": "3.9.13"
  }
 },
 "nbformat": 4,
 "nbformat_minor": 4
}
